{
  "nbformat": 4,
  "nbformat_minor": 0,
  "metadata": {
    "colab": {
      "name": "methods_realization.ipynb",
      "provenance": [],
      "collapsed_sections": [
        "ZQxPMF5UByX1",
        "H-acUInYFmdq",
        "PXRc7vHtgq2b",
        "w9SaKB05ocL0",
        "wWYZJIQPojBs",
        "hxACy5-boknb"
      ],
      "toc_visible": true
    },
    "kernelspec": {
      "name": "python3",
      "display_name": "Python 3"
    },
    "language_info": {
      "name": "python"
    }
  },
  "cells": [
    {
      "cell_type": "markdown",
      "source": [
        "### Методы определения правильного числа кластеров\n",
        "\n",
        "## Выпускная квалификационная работа\n",
        "\n",
        "# Юхатсков Сергей"
      ],
      "metadata": {
        "id": "mPQVBsvfBc-F"
      }
    },
    {
      "cell_type": "markdown",
      "source": [
        "## Реальные наборы данных"
      ],
      "metadata": {
        "id": "sFBS2NffBuNS"
      }
    },
    {
      "cell_type": "markdown",
      "source": [
        "Рассмотрим используемые в экспериментах наборы данных"
      ],
      "metadata": {
        "id": "D2upCugP-gsP"
      }
    },
    {
      "cell_type": "markdown",
      "source": [
        "Подключаем диск с наборами данных для тестов.\n",
        "\n",
        "Наборы для удобства были заранее загружены с репозитория http://archive.ics.uci.edu/ml."
      ],
      "metadata": {
        "id": "ncwxFicYwEZq"
      }
    },
    {
      "cell_type": "code",
      "source": [
        "from google.colab import drive\n",
        "\n",
        "drive.mount('/content/drive/')\n",
        "%cd '/content/drive/MyDrive/ВКР/Datasets'"
      ],
      "metadata": {
        "colab": {
          "base_uri": "https://localhost:8080/"
        },
        "id": "faUp9_mHsfNv",
        "outputId": "b77e929b-b45e-436f-b241-55b8ee6a11b1"
      },
      "execution_count": null,
      "outputs": [
        {
          "output_type": "stream",
          "name": "stdout",
          "text": [
            "Mounted at /content/drive/\n",
            "/content/drive/MyDrive/ВКР/Datasets\n"
          ]
        }
      ]
    },
    {
      "cell_type": "markdown",
      "source": [
        "###E.coli"
      ],
      "metadata": {
        "id": "ZQxPMF5UByX1"
      }
    },
    {
      "cell_type": "code",
      "source": [
        "import pandas as pd\n",
        "\n",
        "ecoli_df = pd.read_csv(\"ecoli.data\", header=None, sep='\\s+', \n",
        "                 names=['Name', 'mcg', 'gvh', 'lip', 'chg', \n",
        "                        'aac', 'alm1', 'alm2', 'Class'])\n",
        "ecoli_df.head()\n"
      ],
      "metadata": {
        "colab": {
          "base_uri": "https://localhost:8080/"
        },
        "id": "K72xkMHvCb_Z",
        "outputId": "39ba86cb-b1be-4978-e22a-462a5b6c6634"
      },
      "execution_count": null,
      "outputs": [
        {
          "output_type": "execute_result",
          "data": {
            "text/plain": [
              "         Name   mcg   gvh   lip  chg   aac  alm1  alm2 Class\n",
              "0   AAT_ECOLI  0.49  0.29  0.48  0.5  0.56  0.24  0.35    cp\n",
              "1  ACEA_ECOLI  0.07  0.40  0.48  0.5  0.54  0.35  0.44    cp\n",
              "2  ACEK_ECOLI  0.56  0.40  0.48  0.5  0.49  0.37  0.46    cp\n",
              "3  ACKA_ECOLI  0.59  0.49  0.48  0.5  0.52  0.45  0.36    cp\n",
              "4   ADI_ECOLI  0.23  0.32  0.48  0.5  0.55  0.25  0.35    cp"
            ],
            "text/html": [
              "\n",
              "  <div id=\"df-a1f31d0d-de95-4122-928e-91ea6df240fb\">\n",
              "    <div class=\"colab-df-container\">\n",
              "      <div>\n",
              "<style scoped>\n",
              "    .dataframe tbody tr th:only-of-type {\n",
              "        vertical-align: middle;\n",
              "    }\n",
              "\n",
              "    .dataframe tbody tr th {\n",
              "        vertical-align: top;\n",
              "    }\n",
              "\n",
              "    .dataframe thead th {\n",
              "        text-align: right;\n",
              "    }\n",
              "</style>\n",
              "<table border=\"1\" class=\"dataframe\">\n",
              "  <thead>\n",
              "    <tr style=\"text-align: right;\">\n",
              "      <th></th>\n",
              "      <th>Name</th>\n",
              "      <th>mcg</th>\n",
              "      <th>gvh</th>\n",
              "      <th>lip</th>\n",
              "      <th>chg</th>\n",
              "      <th>aac</th>\n",
              "      <th>alm1</th>\n",
              "      <th>alm2</th>\n",
              "      <th>Class</th>\n",
              "    </tr>\n",
              "  </thead>\n",
              "  <tbody>\n",
              "    <tr>\n",
              "      <th>0</th>\n",
              "      <td>AAT_ECOLI</td>\n",
              "      <td>0.49</td>\n",
              "      <td>0.29</td>\n",
              "      <td>0.48</td>\n",
              "      <td>0.5</td>\n",
              "      <td>0.56</td>\n",
              "      <td>0.24</td>\n",
              "      <td>0.35</td>\n",
              "      <td>cp</td>\n",
              "    </tr>\n",
              "    <tr>\n",
              "      <th>1</th>\n",
              "      <td>ACEA_ECOLI</td>\n",
              "      <td>0.07</td>\n",
              "      <td>0.40</td>\n",
              "      <td>0.48</td>\n",
              "      <td>0.5</td>\n",
              "      <td>0.54</td>\n",
              "      <td>0.35</td>\n",
              "      <td>0.44</td>\n",
              "      <td>cp</td>\n",
              "    </tr>\n",
              "    <tr>\n",
              "      <th>2</th>\n",
              "      <td>ACEK_ECOLI</td>\n",
              "      <td>0.56</td>\n",
              "      <td>0.40</td>\n",
              "      <td>0.48</td>\n",
              "      <td>0.5</td>\n",
              "      <td>0.49</td>\n",
              "      <td>0.37</td>\n",
              "      <td>0.46</td>\n",
              "      <td>cp</td>\n",
              "    </tr>\n",
              "    <tr>\n",
              "      <th>3</th>\n",
              "      <td>ACKA_ECOLI</td>\n",
              "      <td>0.59</td>\n",
              "      <td>0.49</td>\n",
              "      <td>0.48</td>\n",
              "      <td>0.5</td>\n",
              "      <td>0.52</td>\n",
              "      <td>0.45</td>\n",
              "      <td>0.36</td>\n",
              "      <td>cp</td>\n",
              "    </tr>\n",
              "    <tr>\n",
              "      <th>4</th>\n",
              "      <td>ADI_ECOLI</td>\n",
              "      <td>0.23</td>\n",
              "      <td>0.32</td>\n",
              "      <td>0.48</td>\n",
              "      <td>0.5</td>\n",
              "      <td>0.55</td>\n",
              "      <td>0.25</td>\n",
              "      <td>0.35</td>\n",
              "      <td>cp</td>\n",
              "    </tr>\n",
              "  </tbody>\n",
              "</table>\n",
              "</div>\n",
              "      <button class=\"colab-df-convert\" onclick=\"convertToInteractive('df-a1f31d0d-de95-4122-928e-91ea6df240fb')\"\n",
              "              title=\"Convert this dataframe to an interactive table.\"\n",
              "              style=\"display:none;\">\n",
              "        \n",
              "  <svg xmlns=\"http://www.w3.org/2000/svg\" height=\"24px\"viewBox=\"0 0 24 24\"\n",
              "       width=\"24px\">\n",
              "    <path d=\"M0 0h24v24H0V0z\" fill=\"none\"/>\n",
              "    <path d=\"M18.56 5.44l.94 2.06.94-2.06 2.06-.94-2.06-.94-.94-2.06-.94 2.06-2.06.94zm-11 1L8.5 8.5l.94-2.06 2.06-.94-2.06-.94L8.5 2.5l-.94 2.06-2.06.94zm10 10l.94 2.06.94-2.06 2.06-.94-2.06-.94-.94-2.06-.94 2.06-2.06.94z\"/><path d=\"M17.41 7.96l-1.37-1.37c-.4-.4-.92-.59-1.43-.59-.52 0-1.04.2-1.43.59L10.3 9.45l-7.72 7.72c-.78.78-.78 2.05 0 2.83L4 21.41c.39.39.9.59 1.41.59.51 0 1.02-.2 1.41-.59l7.78-7.78 2.81-2.81c.8-.78.8-2.07 0-2.86zM5.41 20L4 18.59l7.72-7.72 1.47 1.35L5.41 20z\"/>\n",
              "  </svg>\n",
              "      </button>\n",
              "      \n",
              "  <style>\n",
              "    .colab-df-container {\n",
              "      display:flex;\n",
              "      flex-wrap:wrap;\n",
              "      gap: 12px;\n",
              "    }\n",
              "\n",
              "    .colab-df-convert {\n",
              "      background-color: #E8F0FE;\n",
              "      border: none;\n",
              "      border-radius: 50%;\n",
              "      cursor: pointer;\n",
              "      display: none;\n",
              "      fill: #1967D2;\n",
              "      height: 32px;\n",
              "      padding: 0 0 0 0;\n",
              "      width: 32px;\n",
              "    }\n",
              "\n",
              "    .colab-df-convert:hover {\n",
              "      background-color: #E2EBFA;\n",
              "      box-shadow: 0px 1px 2px rgba(60, 64, 67, 0.3), 0px 1px 3px 1px rgba(60, 64, 67, 0.15);\n",
              "      fill: #174EA6;\n",
              "    }\n",
              "\n",
              "    [theme=dark] .colab-df-convert {\n",
              "      background-color: #3B4455;\n",
              "      fill: #D2E3FC;\n",
              "    }\n",
              "\n",
              "    [theme=dark] .colab-df-convert:hover {\n",
              "      background-color: #434B5C;\n",
              "      box-shadow: 0px 1px 3px 1px rgba(0, 0, 0, 0.15);\n",
              "      filter: drop-shadow(0px 1px 2px rgba(0, 0, 0, 0.3));\n",
              "      fill: #FFFFFF;\n",
              "    }\n",
              "  </style>\n",
              "\n",
              "      <script>\n",
              "        const buttonEl =\n",
              "          document.querySelector('#df-a1f31d0d-de95-4122-928e-91ea6df240fb button.colab-df-convert');\n",
              "        buttonEl.style.display =\n",
              "          google.colab.kernel.accessAllowed ? 'block' : 'none';\n",
              "\n",
              "        async function convertToInteractive(key) {\n",
              "          const element = document.querySelector('#df-a1f31d0d-de95-4122-928e-91ea6df240fb');\n",
              "          const dataTable =\n",
              "            await google.colab.kernel.invokeFunction('convertToInteractive',\n",
              "                                                     [key], {});\n",
              "          if (!dataTable) return;\n",
              "\n",
              "          const docLinkHtml = 'Like what you see? Visit the ' +\n",
              "            '<a target=\"_blank\" href=https://colab.research.google.com/notebooks/data_table.ipynb>data table notebook</a>'\n",
              "            + ' to learn more about interactive tables.';\n",
              "          element.innerHTML = '';\n",
              "          dataTable['output_type'] = 'display_data';\n",
              "          await google.colab.output.renderOutput(dataTable, element);\n",
              "          const docLink = document.createElement('div');\n",
              "          docLink.innerHTML = docLinkHtml;\n",
              "          element.appendChild(docLink);\n",
              "        }\n",
              "      </script>\n",
              "    </div>\n",
              "  </div>\n",
              "  "
            ]
          },
          "metadata": {},
          "execution_count": 4
        }
      ]
    },
    {
      "cell_type": "code",
      "source": [
        "ecoli = ecoli_df.iloc[:, 1:ecoli_df.shape[1] - 1]\n",
        "ecoli.head()"
      ],
      "metadata": {
        "colab": {
          "base_uri": "https://localhost:8080/"
        },
        "id": "LUO7-3xMCgIs",
        "outputId": "9cfbdfa0-5aa1-4ab9-cfcb-cbc7916d3ebf"
      },
      "execution_count": null,
      "outputs": [
        {
          "output_type": "execute_result",
          "data": {
            "text/plain": [
              "    mcg   gvh   lip  chg   aac  alm1  alm2\n",
              "0  0.49  0.29  0.48  0.5  0.56  0.24  0.35\n",
              "1  0.07  0.40  0.48  0.5  0.54  0.35  0.44\n",
              "2  0.56  0.40  0.48  0.5  0.49  0.37  0.46\n",
              "3  0.59  0.49  0.48  0.5  0.52  0.45  0.36\n",
              "4  0.23  0.32  0.48  0.5  0.55  0.25  0.35"
            ],
            "text/html": [
              "\n",
              "  <div id=\"df-2f2596c0-1123-4bf6-aecd-03e15f225197\">\n",
              "    <div class=\"colab-df-container\">\n",
              "      <div>\n",
              "<style scoped>\n",
              "    .dataframe tbody tr th:only-of-type {\n",
              "        vertical-align: middle;\n",
              "    }\n",
              "\n",
              "    .dataframe tbody tr th {\n",
              "        vertical-align: top;\n",
              "    }\n",
              "\n",
              "    .dataframe thead th {\n",
              "        text-align: right;\n",
              "    }\n",
              "</style>\n",
              "<table border=\"1\" class=\"dataframe\">\n",
              "  <thead>\n",
              "    <tr style=\"text-align: right;\">\n",
              "      <th></th>\n",
              "      <th>mcg</th>\n",
              "      <th>gvh</th>\n",
              "      <th>lip</th>\n",
              "      <th>chg</th>\n",
              "      <th>aac</th>\n",
              "      <th>alm1</th>\n",
              "      <th>alm2</th>\n",
              "    </tr>\n",
              "  </thead>\n",
              "  <tbody>\n",
              "    <tr>\n",
              "      <th>0</th>\n",
              "      <td>0.49</td>\n",
              "      <td>0.29</td>\n",
              "      <td>0.48</td>\n",
              "      <td>0.5</td>\n",
              "      <td>0.56</td>\n",
              "      <td>0.24</td>\n",
              "      <td>0.35</td>\n",
              "    </tr>\n",
              "    <tr>\n",
              "      <th>1</th>\n",
              "      <td>0.07</td>\n",
              "      <td>0.40</td>\n",
              "      <td>0.48</td>\n",
              "      <td>0.5</td>\n",
              "      <td>0.54</td>\n",
              "      <td>0.35</td>\n",
              "      <td>0.44</td>\n",
              "    </tr>\n",
              "    <tr>\n",
              "      <th>2</th>\n",
              "      <td>0.56</td>\n",
              "      <td>0.40</td>\n",
              "      <td>0.48</td>\n",
              "      <td>0.5</td>\n",
              "      <td>0.49</td>\n",
              "      <td>0.37</td>\n",
              "      <td>0.46</td>\n",
              "    </tr>\n",
              "    <tr>\n",
              "      <th>3</th>\n",
              "      <td>0.59</td>\n",
              "      <td>0.49</td>\n",
              "      <td>0.48</td>\n",
              "      <td>0.5</td>\n",
              "      <td>0.52</td>\n",
              "      <td>0.45</td>\n",
              "      <td>0.36</td>\n",
              "    </tr>\n",
              "    <tr>\n",
              "      <th>4</th>\n",
              "      <td>0.23</td>\n",
              "      <td>0.32</td>\n",
              "      <td>0.48</td>\n",
              "      <td>0.5</td>\n",
              "      <td>0.55</td>\n",
              "      <td>0.25</td>\n",
              "      <td>0.35</td>\n",
              "    </tr>\n",
              "  </tbody>\n",
              "</table>\n",
              "</div>\n",
              "      <button class=\"colab-df-convert\" onclick=\"convertToInteractive('df-2f2596c0-1123-4bf6-aecd-03e15f225197')\"\n",
              "              title=\"Convert this dataframe to an interactive table.\"\n",
              "              style=\"display:none;\">\n",
              "        \n",
              "  <svg xmlns=\"http://www.w3.org/2000/svg\" height=\"24px\"viewBox=\"0 0 24 24\"\n",
              "       width=\"24px\">\n",
              "    <path d=\"M0 0h24v24H0V0z\" fill=\"none\"/>\n",
              "    <path d=\"M18.56 5.44l.94 2.06.94-2.06 2.06-.94-2.06-.94-.94-2.06-.94 2.06-2.06.94zm-11 1L8.5 8.5l.94-2.06 2.06-.94-2.06-.94L8.5 2.5l-.94 2.06-2.06.94zm10 10l.94 2.06.94-2.06 2.06-.94-2.06-.94-.94-2.06-.94 2.06-2.06.94z\"/><path d=\"M17.41 7.96l-1.37-1.37c-.4-.4-.92-.59-1.43-.59-.52 0-1.04.2-1.43.59L10.3 9.45l-7.72 7.72c-.78.78-.78 2.05 0 2.83L4 21.41c.39.39.9.59 1.41.59.51 0 1.02-.2 1.41-.59l7.78-7.78 2.81-2.81c.8-.78.8-2.07 0-2.86zM5.41 20L4 18.59l7.72-7.72 1.47 1.35L5.41 20z\"/>\n",
              "  </svg>\n",
              "      </button>\n",
              "      \n",
              "  <style>\n",
              "    .colab-df-container {\n",
              "      display:flex;\n",
              "      flex-wrap:wrap;\n",
              "      gap: 12px;\n",
              "    }\n",
              "\n",
              "    .colab-df-convert {\n",
              "      background-color: #E8F0FE;\n",
              "      border: none;\n",
              "      border-radius: 50%;\n",
              "      cursor: pointer;\n",
              "      display: none;\n",
              "      fill: #1967D2;\n",
              "      height: 32px;\n",
              "      padding: 0 0 0 0;\n",
              "      width: 32px;\n",
              "    }\n",
              "\n",
              "    .colab-df-convert:hover {\n",
              "      background-color: #E2EBFA;\n",
              "      box-shadow: 0px 1px 2px rgba(60, 64, 67, 0.3), 0px 1px 3px 1px rgba(60, 64, 67, 0.15);\n",
              "      fill: #174EA6;\n",
              "    }\n",
              "\n",
              "    [theme=dark] .colab-df-convert {\n",
              "      background-color: #3B4455;\n",
              "      fill: #D2E3FC;\n",
              "    }\n",
              "\n",
              "    [theme=dark] .colab-df-convert:hover {\n",
              "      background-color: #434B5C;\n",
              "      box-shadow: 0px 1px 3px 1px rgba(0, 0, 0, 0.15);\n",
              "      filter: drop-shadow(0px 1px 2px rgba(0, 0, 0, 0.3));\n",
              "      fill: #FFFFFF;\n",
              "    }\n",
              "  </style>\n",
              "\n",
              "      <script>\n",
              "        const buttonEl =\n",
              "          document.querySelector('#df-2f2596c0-1123-4bf6-aecd-03e15f225197 button.colab-df-convert');\n",
              "        buttonEl.style.display =\n",
              "          google.colab.kernel.accessAllowed ? 'block' : 'none';\n",
              "\n",
              "        async function convertToInteractive(key) {\n",
              "          const element = document.querySelector('#df-2f2596c0-1123-4bf6-aecd-03e15f225197');\n",
              "          const dataTable =\n",
              "            await google.colab.kernel.invokeFunction('convertToInteractive',\n",
              "                                                     [key], {});\n",
              "          if (!dataTable) return;\n",
              "\n",
              "          const docLinkHtml = 'Like what you see? Visit the ' +\n",
              "            '<a target=\"_blank\" href=https://colab.research.google.com/notebooks/data_table.ipynb>data table notebook</a>'\n",
              "            + ' to learn more about interactive tables.';\n",
              "          element.innerHTML = '';\n",
              "          dataTable['output_type'] = 'display_data';\n",
              "          await google.colab.output.renderOutput(dataTable, element);\n",
              "          const docLink = document.createElement('div');\n",
              "          docLink.innerHTML = docLinkHtml;\n",
              "          element.appendChild(docLink);\n",
              "        }\n",
              "      </script>\n",
              "    </div>\n",
              "  </div>\n",
              "  "
            ]
          },
          "metadata": {},
          "execution_count": 5
        }
      ]
    },
    {
      "cell_type": "code",
      "source": [
        "import matplotlib.pyplot as plt\n",
        "ecoli.hist(bins=50, figsize=(8,8))\n",
        "plt.show()"
      ],
      "metadata": {
        "colab": {
          "base_uri": "https://localhost:8080/"
        },
        "id": "e9kzquX_C4_F",
        "outputId": "c17ef2e0-0faf-42a9-cfc0-4ab48aceaafd"
      },
      "execution_count": null,
      "outputs": [
        {
          "output_type": "display_data",
          "data": {
            "text/plain": [
              "<Figure size 576x576 with 9 Axes>"
            ],
            "image/png": "[encoded data removed]"
          },
          "metadata": {
            "needs_background": "light"
          }
        }
      ]
    },
    {
      "cell_type": "code",
      "source": [
        "import numpy as np\n",
        "print(\"lip - unique values and counts:\", \n",
        "      np.unique(ecoli_df['lip'], return_counts=True))\n",
        "\n",
        "print(\"chg - unique values and counts:\", \n",
        "      np.unique(ecoli_df['chg'], return_counts=True))"
      ],
      "metadata": {
        "colab": {
          "base_uri": "https://localhost:8080/"
        },
        "id": "vvn3sTWtrw_W",
        "outputId": "3d502bec-a1ae-4503-fe48-fd33bd47f09b"
      },
      "execution_count": null,
      "outputs": [
        {
          "output_type": "stream",
          "name": "stdout",
          "text": [
            "lip - unique values and counts: (array([0.48, 1.  ]), array([326,  10]))\n",
            "chg - unique values and counts: (array([0.5, 1. ]), array([335,   1]))\n"
          ]
        }
      ]
    },
    {
      "cell_type": "markdown",
      "source": [
        "Значение **1** у lip и у chp повторяется слишком мало раз. Можно удалить этот признак."
      ],
      "metadata": {
        "id": "MWLwKRk3s3fJ"
      }
    },
    {
      "cell_type": "code",
      "source": [
        "from sklearn.preprocessing import LabelEncoder\n",
        "\n",
        "del ecoli_df['lip']\n",
        "del ecoli_df['chg']\n",
        "\n",
        "encoder = LabelEncoder()\n",
        "ecoli_df['Class'] = encoder.fit_transform(ecoli_df['Class'])\n",
        "\n",
        "ecoli = ecoli_df.iloc[:, 1:ecoli_df.shape[1] - 1]\n",
        "\n",
        "ecoli.hist(bins=50, figsize=(8,8))\n",
        "plt.show()"
      ],
      "metadata": {
        "colab": {
          "base_uri": "https://localhost:8080/"
        },
        "id": "vvzT4pVgsdLo",
        "outputId": "8a0bc2de-1b7f-4b40-9bd8-47d09a46d0b3"
      },
      "execution_count": null,
      "outputs": [
        {
          "output_type": "display_data",
          "data": {
            "text/plain": [
              "<Figure size 576x576 with 6 Axes>"
            ],
            "image/png": "[encoded data removed]"
          },
          "metadata": {
            "needs_background": "light"
          }
        }
      ]
    },
    {
      "cell_type": "code",
      "source": [
        "ecoli_y = ecoli_df['Class']\n",
        "np.unique(ecoli_y, return_counts=True)"
      ],
      "metadata": {
        "colab": {
          "base_uri": "https://localhost:8080/"
        },
        "id": "NoIyuZXQ9YR2",
        "outputId": "9d912b48-c3bc-4660-825c-1a452c22e3d7"
      },
      "execution_count": null,
      "outputs": [
        {
          "output_type": "execute_result",
          "data": {
            "text/plain": [
              "(array([0, 1, 2, 3, 4, 5, 6, 7]),\n",
              " array([143,  77,   2,   2,  35,  20,   5,  52]))"
            ]
          },
          "metadata": {},
          "execution_count": 9
        }
      ]
    },
    {
      "cell_type": "markdown",
      "source": [
        "###Glass"
      ],
      "metadata": {
        "id": "H-acUInYFmdq"
      }
    },
    {
      "cell_type": "code",
      "source": [
        "import pandas as pd\n",
        "glass_df = pd.read_csv(\"glass.data\", header=None, \n",
        "                 names=['Id','refractive index', 'Sodium', \n",
        "                        'Magnesium', 'Aluminum', 'Silicon', \n",
        "                        'Potassium', 'Calcium', 'Barium', 'Iron', 'Class'])\n",
        "\n",
        "glass_df.head()"
      ],
      "metadata": {
        "id": "suT5oeT-FwpN",
        "colab": {
          "base_uri": "https://localhost:8080/"
        },
        "outputId": "e0c00515-c339-4de3-fbfc-5057ba7bc52b"
      },
      "execution_count": null,
      "outputs": [
        {
          "output_type": "execute_result",
          "data": {
            "text/plain": [
              "   Id  refractive index  Sodium  Magnesium  Aluminum  Silicon  Potassium  \\\n",
              "0   1           1.52101   13.64       4.49      1.10    71.78       0.06   \n",
              "1   2           1.51761   13.89       3.60      1.36    72.73       0.48   \n",
              "2   3           1.51618   13.53       3.55      1.54    72.99       0.39   \n",
              "3   4           1.51766   13.21       3.69      1.29    72.61       0.57   \n",
              "4   5           1.51742   13.27       3.62      1.24    73.08       0.55   \n",
              "\n",
              "   Calcium  Barium  Iron  Class  \n",
              "0     8.75     0.0   0.0      1  \n",
              "1     7.83     0.0   0.0      1  \n",
              "2     7.78     0.0   0.0      1  \n",
              "3     8.22     0.0   0.0      1  \n",
              "4     8.07     0.0   0.0      1  "
            ],
            "text/html": [
              "\n",
              "  <div id=\"df-b890c396-131e-41c2-a630-1c2570137d88\">\n",
              "    <div class=\"colab-df-container\">\n",
              "      <div>\n",
              "<style scoped>\n",
              "    .dataframe tbody tr th:only-of-type {\n",
              "        vertical-align: middle;\n",
              "    }\n",
              "\n",
              "    .dataframe tbody tr th {\n",
              "        vertical-align: top;\n",
              "    }\n",
              "\n",
              "    .dataframe thead th {\n",
              "        text-align: right;\n",
              "    }\n",
              "</style>\n",
              "<table border=\"1\" class=\"dataframe\">\n",
              "  <thead>\n",
              "    <tr style=\"text-align: right;\">\n",
              "      <th></th>\n",
              "      <th>Id</th>\n",
              "      <th>refractive index</th>\n",
              "      <th>Sodium</th>\n",
              "      <th>Magnesium</th>\n",
              "      <th>Aluminum</th>\n",
              "      <th>Silicon</th>\n",
              "      <th>Potassium</th>\n",
              "      <th>Calcium</th>\n",
              "      <th>Barium</th>\n",
              "      <th>Iron</th>\n",
              "      <th>Class</th>\n",
              "    </tr>\n",
              "  </thead>\n",
              "  <tbody>\n",
              "    <tr>\n",
              "      <th>0</th>\n",
              "      <td>1</td>\n",
              "      <td>1.52101</td>\n",
              "      <td>13.64</td>\n",
              "      <td>4.49</td>\n",
              "      <td>1.10</td>\n",
              "      <td>71.78</td>\n",
              "      <td>0.06</td>\n",
              "      <td>8.75</td>\n",
              "      <td>0.0</td>\n",
              "      <td>0.0</td>\n",
              "      <td>1</td>\n",
              "    </tr>\n",
              "    <tr>\n",
              "      <th>1</th>\n",
              "      <td>2</td>\n",
              "      <td>1.51761</td>\n",
              "      <td>13.89</td>\n",
              "      <td>3.60</td>\n",
              "      <td>1.36</td>\n",
              "      <td>72.73</td>\n",
              "      <td>0.48</td>\n",
              "      <td>7.83</td>\n",
              "      <td>0.0</td>\n",
              "      <td>0.0</td>\n",
              "      <td>1</td>\n",
              "    </tr>\n",
              "    <tr>\n",
              "      <th>2</th>\n",
              "      <td>3</td>\n",
              "      <td>1.51618</td>\n",
              "      <td>13.53</td>\n",
              "      <td>3.55</td>\n",
              "      <td>1.54</td>\n",
              "      <td>72.99</td>\n",
              "      <td>0.39</td>\n",
              "      <td>7.78</td>\n",
              "      <td>0.0</td>\n",
              "      <td>0.0</td>\n",
              "      <td>1</td>\n",
              "    </tr>\n",
              "    <tr>\n",
              "      <th>3</th>\n",
              "      <td>4</td>\n",
              "      <td>1.51766</td>\n",
              "      <td>13.21</td>\n",
              "      <td>3.69</td>\n",
              "      <td>1.29</td>\n",
              "      <td>72.61</td>\n",
              "      <td>0.57</td>\n",
              "      <td>8.22</td>\n",
              "      <td>0.0</td>\n",
              "      <td>0.0</td>\n",
              "      <td>1</td>\n",
              "    </tr>\n",
              "    <tr>\n",
              "      <th>4</th>\n",
              "      <td>5</td>\n",
              "      <td>1.51742</td>\n",
              "      <td>13.27</td>\n",
              "      <td>3.62</td>\n",
              "      <td>1.24</td>\n",
              "      <td>73.08</td>\n",
              "      <td>0.55</td>\n",
              "      <td>8.07</td>\n",
              "      <td>0.0</td>\n",
              "      <td>0.0</td>\n",
              "      <td>1</td>\n",
              "    </tr>\n",
              "  </tbody>\n",
              "</table>\n",
              "</div>\n",
              "      <button class=\"colab-df-convert\" onclick=\"convertToInteractive('df-b890c396-131e-41c2-a630-1c2570137d88')\"\n",
              "              title=\"Convert this dataframe to an interactive table.\"\n",
              "              style=\"display:none;\">\n",
              "        \n",
              "  <svg xmlns=\"http://www.w3.org/2000/svg\" height=\"24px\"viewBox=\"0 0 24 24\"\n",
              "       width=\"24px\">\n",
              "    <path d=\"M0 0h24v24H0V0z\" fill=\"none\"/>\n",
              "    <path d=\"M18.56 5.44l.94 2.06.94-2.06 2.06-.94-2.06-.94-.94-2.06-.94 2.06-2.06.94zm-11 1L8.5 8.5l.94-2.06 2.06-.94-2.06-.94L8.5 2.5l-.94 2.06-2.06.94zm10 10l.94 2.06.94-2.06 2.06-.94-2.06-.94-.94-2.06-.94 2.06-2.06.94z\"/><path d=\"M17.41 7.96l-1.37-1.37c-.4-.4-.92-.59-1.43-.59-.52 0-1.04.2-1.43.59L10.3 9.45l-7.72 7.72c-.78.78-.78 2.05 0 2.83L4 21.41c.39.39.9.59 1.41.59.51 0 1.02-.2 1.41-.59l7.78-7.78 2.81-2.81c.8-.78.8-2.07 0-2.86zM5.41 20L4 18.59l7.72-7.72 1.47 1.35L5.41 20z\"/>\n",
              "  </svg>\n",
              "      </button>\n",
              "      \n",
              "  <style>\n",
              "    .colab-df-container {\n",
              "      display:flex;\n",
              "      flex-wrap:wrap;\n",
              "      gap: 12px;\n",
              "    }\n",
              "\n",
              "    .colab-df-convert {\n",
              "      background-color: #E8F0FE;\n",
              "      border: none;\n",
              "      border-radius: 50%;\n",
              "      cursor: pointer;\n",
              "      display: none;\n",
              "      fill: #1967D2;\n",
              "      height: 32px;\n",
              "      padding: 0 0 0 0;\n",
              "      width: 32px;\n",
              "    }\n",
              "\n",
              "    .colab-df-convert:hover {\n",
              "      background-color: #E2EBFA;\n",
              "      box-shadow: 0px 1px 2px rgba(60, 64, 67, 0.3), 0px 1px 3px 1px rgba(60, 64, 67, 0.15);\n",
              "      fill: #174EA6;\n",
              "    }\n",
              "\n",
              "    [theme=dark] .colab-df-convert {\n",
              "      background-color: #3B4455;\n",
              "      fill: #D2E3FC;\n",
              "    }\n",
              "\n",
              "    [theme=dark] .colab-df-convert:hover {\n",
              "      background-color: #434B5C;\n",
              "      box-shadow: 0px 1px 3px 1px rgba(0, 0, 0, 0.15);\n",
              "      filter: drop-shadow(0px 1px 2px rgba(0, 0, 0, 0.3));\n",
              "      fill: #FFFFFF;\n",
              "    }\n",
              "  </style>\n",
              "\n",
              "      <script>\n",
              "        const buttonEl =\n",
              "          document.querySelector('#df-b890c396-131e-41c2-a630-1c2570137d88 button.colab-df-convert');\n",
              "        buttonEl.style.display =\n",
              "          google.colab.kernel.accessAllowed ? 'block' : 'none';\n",
              "\n",
              "        async function convertToInteractive(key) {\n",
              "          const element = document.querySelector('#df-b890c396-131e-41c2-a630-1c2570137d88');\n",
              "          const dataTable =\n",
              "            await google.colab.kernel.invokeFunction('convertToInteractive',\n",
              "                                                     [key], {});\n",
              "          if (!dataTable) return;\n",
              "\n",
              "          const docLinkHtml = 'Like what you see? Visit the ' +\n",
              "            '<a target=\"_blank\" href=https://colab.research.google.com/notebooks/data_table.ipynb>data table notebook</a>'\n",
              "            + ' to learn more about interactive tables.';\n",
              "          element.innerHTML = '';\n",
              "          dataTable['output_type'] = 'display_data';\n",
              "          await google.colab.output.renderOutput(dataTable, element);\n",
              "          const docLink = document.createElement('div');\n",
              "          docLink.innerHTML = docLinkHtml;\n",
              "          element.appendChild(docLink);\n",
              "        }\n",
              "      </script>\n",
              "    </div>\n",
              "  </div>\n",
              "  "
            ]
          },
          "metadata": {},
          "execution_count": 10
        }
      ]
    },
    {
      "cell_type": "code",
      "source": [
        "glass = glass_df.iloc[:, 1:glass_df.shape[1] - 1]\n",
        "glass.head()"
      ],
      "metadata": {
        "colab": {
          "base_uri": "https://localhost:8080/"
        },
        "id": "_adifF3dF1jY",
        "outputId": "7992bbc4-0b85-41b5-d925-c412003b454b"
      },
      "execution_count": null,
      "outputs": [
        {
          "output_type": "execute_result",
          "data": {
            "text/plain": [
              "   refractive index  Sodium  Magnesium  Aluminum  Silicon  Potassium  Calcium  \\\n",
              "0           1.52101   13.64       4.49      1.10    71.78       0.06     8.75   \n",
              "1           1.51761   13.89       3.60      1.36    72.73       0.48     7.83   \n",
              "2           1.51618   13.53       3.55      1.54    72.99       0.39     7.78   \n",
              "3           1.51766   13.21       3.69      1.29    72.61       0.57     8.22   \n",
              "4           1.51742   13.27       3.62      1.24    73.08       0.55     8.07   \n",
              "\n",
              "   Barium  Iron  \n",
              "0     0.0   0.0  \n",
              "1     0.0   0.0  \n",
              "2     0.0   0.0  \n",
              "3     0.0   0.0  \n",
              "4     0.0   0.0  "
            ],
            "text/html": [
              "\n",
              "  <div id=\"df-1f7cc4b3-33f4-4236-b6eb-5ff7e8a3adc7\">\n",
              "    <div class=\"colab-df-container\">\n",
              "      <div>\n",
              "<style scoped>\n",
              "    .dataframe tbody tr th:only-of-type {\n",
              "        vertical-align: middle;\n",
              "    }\n",
              "\n",
              "    .dataframe tbody tr th {\n",
              "        vertical-align: top;\n",
              "    }\n",
              "\n",
              "    .dataframe thead th {\n",
              "        text-align: right;\n",
              "    }\n",
              "</style>\n",
              "<table border=\"1\" class=\"dataframe\">\n",
              "  <thead>\n",
              "    <tr style=\"text-align: right;\">\n",
              "      <th></th>\n",
              "      <th>refractive index</th>\n",
              "      <th>Sodium</th>\n",
              "      <th>Magnesium</th>\n",
              "      <th>Aluminum</th>\n",
              "      <th>Silicon</th>\n",
              "      <th>Potassium</th>\n",
              "      <th>Calcium</th>\n",
              "      <th>Barium</th>\n",
              "      <th>Iron</th>\n",
              "    </tr>\n",
              "  </thead>\n",
              "  <tbody>\n",
              "    <tr>\n",
              "      <th>0</th>\n",
              "      <td>1.52101</td>\n",
              "      <td>13.64</td>\n",
              "      <td>4.49</td>\n",
              "      <td>1.10</td>\n",
              "      <td>71.78</td>\n",
              "      <td>0.06</td>\n",
              "      <td>8.75</td>\n",
              "      <td>0.0</td>\n",
              "      <td>0.0</td>\n",
              "    </tr>\n",
              "    <tr>\n",
              "      <th>1</th>\n",
              "      <td>1.51761</td>\n",
              "      <td>13.89</td>\n",
              "      <td>3.60</td>\n",
              "      <td>1.36</td>\n",
              "      <td>72.73</td>\n",
              "      <td>0.48</td>\n",
              "      <td>7.83</td>\n",
              "      <td>0.0</td>\n",
              "      <td>0.0</td>\n",
              "    </tr>\n",
              "    <tr>\n",
              "      <th>2</th>\n",
              "      <td>1.51618</td>\n",
              "      <td>13.53</td>\n",
              "      <td>3.55</td>\n",
              "      <td>1.54</td>\n",
              "      <td>72.99</td>\n",
              "      <td>0.39</td>\n",
              "      <td>7.78</td>\n",
              "      <td>0.0</td>\n",
              "      <td>0.0</td>\n",
              "    </tr>\n",
              "    <tr>\n",
              "      <th>3</th>\n",
              "      <td>1.51766</td>\n",
              "      <td>13.21</td>\n",
              "      <td>3.69</td>\n",
              "      <td>1.29</td>\n",
              "      <td>72.61</td>\n",
              "      <td>0.57</td>\n",
              "      <td>8.22</td>\n",
              "      <td>0.0</td>\n",
              "      <td>0.0</td>\n",
              "    </tr>\n",
              "    <tr>\n",
              "      <th>4</th>\n",
              "      <td>1.51742</td>\n",
              "      <td>13.27</td>\n",
              "      <td>3.62</td>\n",
              "      <td>1.24</td>\n",
              "      <td>73.08</td>\n",
              "      <td>0.55</td>\n",
              "      <td>8.07</td>\n",
              "      <td>0.0</td>\n",
              "      <td>0.0</td>\n",
              "    </tr>\n",
              "  </tbody>\n",
              "</table>\n",
              "</div>\n",
              "      <button class=\"colab-df-convert\" onclick=\"convertToInteractive('df-1f7cc4b3-33f4-4236-b6eb-5ff7e8a3adc7')\"\n",
              "              title=\"Convert this dataframe to an interactive table.\"\n",
              "              style=\"display:none;\">\n",
              "        \n",
              "  <svg xmlns=\"http://www.w3.org/2000/svg\" height=\"24px\"viewBox=\"0 0 24 24\"\n",
              "       width=\"24px\">\n",
              "    <path d=\"M0 0h24v24H0V0z\" fill=\"none\"/>\n",
              "    <path d=\"M18.56 5.44l.94 2.06.94-2.06 2.06-.94-2.06-.94-.94-2.06-.94 2.06-2.06.94zm-11 1L8.5 8.5l.94-2.06 2.06-.94-2.06-.94L8.5 2.5l-.94 2.06-2.06.94zm10 10l.94 2.06.94-2.06 2.06-.94-2.06-.94-.94-2.06-.94 2.06-2.06.94z\"/><path d=\"M17.41 7.96l-1.37-1.37c-.4-.4-.92-.59-1.43-.59-.52 0-1.04.2-1.43.59L10.3 9.45l-7.72 7.72c-.78.78-.78 2.05 0 2.83L4 21.41c.39.39.9.59 1.41.59.51 0 1.02-.2 1.41-.59l7.78-7.78 2.81-2.81c.8-.78.8-2.07 0-2.86zM5.41 20L4 18.59l7.72-7.72 1.47 1.35L5.41 20z\"/>\n",
              "  </svg>\n",
              "      </button>\n",
              "      \n",
              "  <style>\n",
              "    .colab-df-container {\n",
              "      display:flex;\n",
              "      flex-wrap:wrap;\n",
              "      gap: 12px;\n",
              "    }\n",
              "\n",
              "    .colab-df-convert {\n",
              "      background-color: #E8F0FE;\n",
              "      border: none;\n",
              "      border-radius: 50%;\n",
              "      cursor: pointer;\n",
              "      display: none;\n",
              "      fill: #1967D2;\n",
              "      height: 32px;\n",
              "      padding: 0 0 0 0;\n",
              "      width: 32px;\n",
              "    }\n",
              "\n",
              "    .colab-df-convert:hover {\n",
              "      background-color: #E2EBFA;\n",
              "      box-shadow: 0px 1px 2px rgba(60, 64, 67, 0.3), 0px 1px 3px 1px rgba(60, 64, 67, 0.15);\n",
              "      fill: #174EA6;\n",
              "    }\n",
              "\n",
              "    [theme=dark] .colab-df-convert {\n",
              "      background-color: #3B4455;\n",
              "      fill: #D2E3FC;\n",
              "    }\n",
              "\n",
              "    [theme=dark] .colab-df-convert:hover {\n",
              "      background-color: #434B5C;\n",
              "      box-shadow: 0px 1px 3px 1px rgba(0, 0, 0, 0.15);\n",
              "      filter: drop-shadow(0px 1px 2px rgba(0, 0, 0, 0.3));\n",
              "      fill: #FFFFFF;\n",
              "    }\n",
              "  </style>\n",
              "\n",
              "      <script>\n",
              "        const buttonEl =\n",
              "          document.querySelector('#df-1f7cc4b3-33f4-4236-b6eb-5ff7e8a3adc7 button.colab-df-convert');\n",
              "        buttonEl.style.display =\n",
              "          google.colab.kernel.accessAllowed ? 'block' : 'none';\n",
              "\n",
              "        async function convertToInteractive(key) {\n",
              "          const element = document.querySelector('#df-1f7cc4b3-33f4-4236-b6eb-5ff7e8a3adc7');\n",
              "          const dataTable =\n",
              "            await google.colab.kernel.invokeFunction('convertToInteractive',\n",
              "                                                     [key], {});\n",
              "          if (!dataTable) return;\n",
              "\n",
              "          const docLinkHtml = 'Like what you see? Visit the ' +\n",
              "            '<a target=\"_blank\" href=https://colab.research.google.com/notebooks/data_table.ipynb>data table notebook</a>'\n",
              "            + ' to learn more about interactive tables.';\n",
              "          element.innerHTML = '';\n",
              "          dataTable['output_type'] = 'display_data';\n",
              "          await google.colab.output.renderOutput(dataTable, element);\n",
              "          const docLink = document.createElement('div');\n",
              "          docLink.innerHTML = docLinkHtml;\n",
              "          element.appendChild(docLink);\n",
              "        }\n",
              "      </script>\n",
              "    </div>\n",
              "  </div>\n",
              "  "
            ]
          },
          "metadata": {},
          "execution_count": 11
        }
      ]
    },
    {
      "cell_type": "code",
      "source": [
        "import matplotlib.pyplot as plt\n",
        "glass.hist(bins=50, figsize=(8,8))\n",
        "plt.show()"
      ],
      "metadata": {
        "colab": {
          "base_uri": "https://localhost:8080/"
        },
        "id": "7oiUh4T2F9pc",
        "outputId": "a60d7c2c-7178-4458-ebe4-da7ad71702b5"
      },
      "execution_count": null,
      "outputs": [
        {
          "output_type": "display_data",
          "data": {
            "text/plain": [
              "<Figure size 576x576 with 9 Axes>"
            ],
            "image/png": "[encoded data removed]"
          },
          "metadata": {
            "needs_background": "light"
          }
        }
      ]
    },
    {
      "cell_type": "code",
      "source": [
        "glass.shape"
      ],
      "metadata": {
        "colab": {
          "base_uri": "https://localhost:8080/"
        },
        "id": "tT4RCwu9tpjm",
        "outputId": "343934f5-bf03-4fc6-ad37-d05efe606ddf"
      },
      "execution_count": null,
      "outputs": [
        {
          "output_type": "execute_result",
          "data": {
            "text/plain": [
              "(214, 9)"
            ]
          },
          "metadata": {},
          "execution_count": 13
        }
      ]
    },
    {
      "cell_type": "code",
      "source": [
        "# glass_df.iloc[:, 1:glass_df.shape[1] - 1]\n",
        "new_glass_df = glass_df[glass_df['Potassium'] < 1]\n",
        "new_glass_df.hist(bins=50, figsize=(8,8))\n",
        "plt.show()"
      ],
      "metadata": {
        "colab": {
          "base_uri": "https://localhost:8080/"
        },
        "id": "ig1uXV7ZtfbE",
        "outputId": "aa2d9716-c383-4f16-cf8a-7acbc0125eba"
      },
      "execution_count": null,
      "outputs": [
        {
          "output_type": "display_data",
          "data": {
            "text/plain": [
              "<Figure size 576x576 with 12 Axes>"
            ],
            "image/png": "[encoded data removed]"
          },
          "metadata": {
            "needs_background": "light"
          }
        }
      ]
    },
    {
      "cell_type": "code",
      "source": [
        "new_glass_df.shape"
      ],
      "metadata": {
        "colab": {
          "base_uri": "https://localhost:8080/"
        },
        "id": "f5fXUcxyvMQz",
        "outputId": "d0231bea-35dd-49ee-a07d-9fad801b2360"
      },
      "execution_count": null,
      "outputs": [
        {
          "output_type": "execute_result",
          "data": {
            "text/plain": [
              "(206, 11)"
            ]
          },
          "metadata": {},
          "execution_count": 15
        }
      ]
    },
    {
      "cell_type": "code",
      "source": [
        "print(\"Barium - unique values and counts:\", \n",
        "      np.unique(new_glass_df['Barium'], return_counts=True))\n",
        "\n",
        "print(\"Iron - unique values and counts:\", \n",
        "      np.unique(new_glass_df['Iron'], return_counts=True))"
      ],
      "metadata": {
        "colab": {
          "base_uri": "https://localhost:8080/"
        },
        "id": "-5dzyRdiuwKx",
        "outputId": "0a3f45e4-1118-4514-d701-48143c63008c"
      },
      "execution_count": null,
      "outputs": [
        {
          "output_type": "stream",
          "name": "stdout",
          "text": [
            "Barium - unique values and counts: (array([0.  , 0.06, 0.09, 0.11, 0.14, 0.15, 0.24, 0.27, 0.4 , 0.53, 0.54,\n",
            "       0.56, 0.61, 0.63, 0.64, 0.66, 0.67, 0.69, 0.76, 0.81, 1.06, 1.38,\n",
            "       1.55, 1.57, 1.59, 1.64, 1.67, 1.68, 1.71, 3.15]), array([172,   1,   2,   2,   1,   1,   1,   1,   1,   1,   1,   1,   1,\n",
            "         1,   2,   1,   1,   1,   1,   1,   1,   1,   1,   2,   2,   1,\n",
            "         1,   1,   1,   1]))\n",
            "Iron - unique values and counts: (array([0.  , 0.01, 0.03, 0.05, 0.06, 0.07, 0.08, 0.09, 0.1 , 0.11, 0.12,\n",
            "       0.14, 0.15, 0.16, 0.17, 0.18, 0.19, 0.2 , 0.21, 0.22, 0.24, 0.25,\n",
            "       0.26, 0.28, 0.29, 0.3 , 0.31, 0.32, 0.34, 0.35, 0.37, 0.51]), array([136,   1,   1,   1,   1,   3,   2,   6,   5,   4,   3,   3,   2,\n",
            "         3,   7,   1,   2,   1,   1,   3,   7,   1,   1,   3,   1,   1,\n",
            "         1,   1,   1,   1,   1,   1]))\n"
          ]
        }
      ]
    },
    {
      "cell_type": "markdown",
      "source": [
        "У **83%** Barium равен 172. Можно удалить этот параметр."
      ],
      "metadata": {
        "id": "MtLRzvAyvPk0"
      }
    },
    {
      "cell_type": "code",
      "source": [
        "del new_glass_df['Barium']"
      ],
      "metadata": {
        "id": "dZNIAYnYvmSN"
      },
      "execution_count": null,
      "outputs": []
    },
    {
      "cell_type": "code",
      "source": [
        "glass = new_glass_df.iloc[:, 1:glass_df.shape[1] - 1]\n",
        "glass.head()"
      ],
      "metadata": {
        "colab": {
          "base_uri": "https://localhost:8080/"
        },
        "id": "lRNM2gnMvtT7",
        "outputId": "082710ad-0356-4703-b5c6-19632bdb5157"
      },
      "execution_count": null,
      "outputs": [
        {
          "output_type": "execute_result",
          "data": {
            "text/plain": [
              "   refractive index  Sodium  Magnesium  Aluminum  Silicon  Potassium  Calcium  \\\n",
              "0           1.52101   13.64       4.49      1.10    71.78       0.06     8.75   \n",
              "1           1.51761   13.89       3.60      1.36    72.73       0.48     7.83   \n",
              "2           1.51618   13.53       3.55      1.54    72.99       0.39     7.78   \n",
              "3           1.51766   13.21       3.69      1.29    72.61       0.57     8.22   \n",
              "4           1.51742   13.27       3.62      1.24    73.08       0.55     8.07   \n",
              "\n",
              "   Iron  Class  \n",
              "0   0.0      1  \n",
              "1   0.0      1  \n",
              "2   0.0      1  \n",
              "3   0.0      1  \n",
              "4   0.0      1  "
            ],
            "text/html": [
              "\n",
              "  <div id=\"df-47cd3744-9c52-4ca5-bdb7-6c8691955411\">\n",
              "    <div class=\"colab-df-container\">\n",
              "      <div>\n",
              "<style scoped>\n",
              "    .dataframe tbody tr th:only-of-type {\n",
              "        vertical-align: middle;\n",
              "    }\n",
              "\n",
              "    .dataframe tbody tr th {\n",
              "        vertical-align: top;\n",
              "    }\n",
              "\n",
              "    .dataframe thead th {\n",
              "        text-align: right;\n",
              "    }\n",
              "</style>\n",
              "<table border=\"1\" class=\"dataframe\">\n",
              "  <thead>\n",
              "    <tr style=\"text-align: right;\">\n",
              "      <th></th>\n",
              "      <th>refractive index</th>\n",
              "      <th>Sodium</th>\n",
              "      <th>Magnesium</th>\n",
              "      <th>Aluminum</th>\n",
              "      <th>Silicon</th>\n",
              "      <th>Potassium</th>\n",
              "      <th>Calcium</th>\n",
              "      <th>Iron</th>\n",
              "      <th>Class</th>\n",
              "    </tr>\n",
              "  </thead>\n",
              "  <tbody>\n",
              "    <tr>\n",
              "      <th>0</th>\n",
              "      <td>1.52101</td>\n",
              "      <td>13.64</td>\n",
              "      <td>4.49</td>\n",
              "      <td>1.10</td>\n",
              "      <td>71.78</td>\n",
              "      <td>0.06</td>\n",
              "      <td>8.75</td>\n",
              "      <td>0.0</td>\n",
              "      <td>1</td>\n",
              "    </tr>\n",
              "    <tr>\n",
              "      <th>1</th>\n",
              "      <td>1.51761</td>\n",
              "      <td>13.89</td>\n",
              "      <td>3.60</td>\n",
              "      <td>1.36</td>\n",
              "      <td>72.73</td>\n",
              "      <td>0.48</td>\n",
              "      <td>7.83</td>\n",
              "      <td>0.0</td>\n",
              "      <td>1</td>\n",
              "    </tr>\n",
              "    <tr>\n",
              "      <th>2</th>\n",
              "      <td>1.51618</td>\n",
              "      <td>13.53</td>\n",
              "      <td>3.55</td>\n",
              "      <td>1.54</td>\n",
              "      <td>72.99</td>\n",
              "      <td>0.39</td>\n",
              "      <td>7.78</td>\n",
              "      <td>0.0</td>\n",
              "      <td>1</td>\n",
              "    </tr>\n",
              "    <tr>\n",
              "      <th>3</th>\n",
              "      <td>1.51766</td>\n",
              "      <td>13.21</td>\n",
              "      <td>3.69</td>\n",
              "      <td>1.29</td>\n",
              "      <td>72.61</td>\n",
              "      <td>0.57</td>\n",
              "      <td>8.22</td>\n",
              "      <td>0.0</td>\n",
              "      <td>1</td>\n",
              "    </tr>\n",
              "    <tr>\n",
              "      <th>4</th>\n",
              "      <td>1.51742</td>\n",
              "      <td>13.27</td>\n",
              "      <td>3.62</td>\n",
              "      <td>1.24</td>\n",
              "      <td>73.08</td>\n",
              "      <td>0.55</td>\n",
              "      <td>8.07</td>\n",
              "      <td>0.0</td>\n",
              "      <td>1</td>\n",
              "    </tr>\n",
              "  </tbody>\n",
              "</table>\n",
              "</div>\n",
              "      <button class=\"colab-df-convert\" onclick=\"convertToInteractive('df-47cd3744-9c52-4ca5-bdb7-6c8691955411')\"\n",
              "              title=\"Convert this dataframe to an interactive table.\"\n",
              "              style=\"display:none;\">\n",
              "        \n",
              "  <svg xmlns=\"http://www.w3.org/2000/svg\" height=\"24px\"viewBox=\"0 0 24 24\"\n",
              "       width=\"24px\">\n",
              "    <path d=\"M0 0h24v24H0V0z\" fill=\"none\"/>\n",
              "    <path d=\"M18.56 5.44l.94 2.06.94-2.06 2.06-.94-2.06-.94-.94-2.06-.94 2.06-2.06.94zm-11 1L8.5 8.5l.94-2.06 2.06-.94-2.06-.94L8.5 2.5l-.94 2.06-2.06.94zm10 10l.94 2.06.94-2.06 2.06-.94-2.06-.94-.94-2.06-.94 2.06-2.06.94z\"/><path d=\"M17.41 7.96l-1.37-1.37c-.4-.4-.92-.59-1.43-.59-.52 0-1.04.2-1.43.59L10.3 9.45l-7.72 7.72c-.78.78-.78 2.05 0 2.83L4 21.41c.39.39.9.59 1.41.59.51 0 1.02-.2 1.41-.59l7.78-7.78 2.81-2.81c.8-.78.8-2.07 0-2.86zM5.41 20L4 18.59l7.72-7.72 1.47 1.35L5.41 20z\"/>\n",
              "  </svg>\n",
              "      </button>\n",
              "      \n",
              "  <style>\n",
              "    .colab-df-container {\n",
              "      display:flex;\n",
              "      flex-wrap:wrap;\n",
              "      gap: 12px;\n",
              "    }\n",
              "\n",
              "    .colab-df-convert {\n",
              "      background-color: #E8F0FE;\n",
              "      border: none;\n",
              "      border-radius: 50%;\n",
              "      cursor: pointer;\n",
              "      display: none;\n",
              "      fill: #1967D2;\n",
              "      height: 32px;\n",
              "      padding: 0 0 0 0;\n",
              "      width: 32px;\n",
              "    }\n",
              "\n",
              "    .colab-df-convert:hover {\n",
              "      background-color: #E2EBFA;\n",
              "      box-shadow: 0px 1px 2px rgba(60, 64, 67, 0.3), 0px 1px 3px 1px rgba(60, 64, 67, 0.15);\n",
              "      fill: #174EA6;\n",
              "    }\n",
              "\n",
              "    [theme=dark] .colab-df-convert {\n",
              "      background-color: #3B4455;\n",
              "      fill: #D2E3FC;\n",
              "    }\n",
              "\n",
              "    [theme=dark] .colab-df-convert:hover {\n",
              "      background-color: #434B5C;\n",
              "      box-shadow: 0px 1px 3px 1px rgba(0, 0, 0, 0.15);\n",
              "      filter: drop-shadow(0px 1px 2px rgba(0, 0, 0, 0.3));\n",
              "      fill: #FFFFFF;\n",
              "    }\n",
              "  </style>\n",
              "\n",
              "      <script>\n",
              "        const buttonEl =\n",
              "          document.querySelector('#df-47cd3744-9c52-4ca5-bdb7-6c8691955411 button.colab-df-convert');\n",
              "        buttonEl.style.display =\n",
              "          google.colab.kernel.accessAllowed ? 'block' : 'none';\n",
              "\n",
              "        async function convertToInteractive(key) {\n",
              "          const element = document.querySelector('#df-47cd3744-9c52-4ca5-bdb7-6c8691955411');\n",
              "          const dataTable =\n",
              "            await google.colab.kernel.invokeFunction('convertToInteractive',\n",
              "                                                     [key], {});\n",
              "          if (!dataTable) return;\n",
              "\n",
              "          const docLinkHtml = 'Like what you see? Visit the ' +\n",
              "            '<a target=\"_blank\" href=https://colab.research.google.com/notebooks/data_table.ipynb>data table notebook</a>'\n",
              "            + ' to learn more about interactive tables.';\n",
              "          element.innerHTML = '';\n",
              "          dataTable['output_type'] = 'display_data';\n",
              "          await google.colab.output.renderOutput(dataTable, element);\n",
              "          const docLink = document.createElement('div');\n",
              "          docLink.innerHTML = docLinkHtml;\n",
              "          element.appendChild(docLink);\n",
              "        }\n",
              "      </script>\n",
              "    </div>\n",
              "  </div>\n",
              "  "
            ]
          },
          "metadata": {},
          "execution_count": 18
        }
      ]
    },
    {
      "cell_type": "code",
      "source": [
        "glass_y = new_glass_df['Class']\n",
        "np.unique(glass_y, return_counts=True)"
      ],
      "metadata": {
        "colab": {
          "base_uri": "https://localhost:8080/"
        },
        "id": "C-irKt8Z9jOv",
        "outputId": "c8e64ef1-d9b5-454c-c4f3-d641810c536c"
      },
      "execution_count": null,
      "outputs": [
        {
          "output_type": "execute_result",
          "data": {
            "text/plain": [
              "(array([1, 2, 3, 5, 6, 7]), array([70, 75, 17, 10,  9, 25]))"
            ]
          },
          "metadata": {},
          "execution_count": 19
        }
      ]
    },
    {
      "cell_type": "markdown",
      "source": [
        "###Iris"
      ],
      "metadata": {
        "id": "PXRc7vHtgq2b"
      }
    },
    {
      "cell_type": "code",
      "source": [
        "import pandas as pd\n",
        "\n",
        "iris_df = pd.read_csv(\"iris.data\", header=None, \n",
        "                 names=['sepal length','sepal width', 'petal length', 'petal width', 'Class'])\n",
        "iris_df.head()"
      ],
      "metadata": {
        "id": "DJAIVV2XgvdG",
        "colab": {
          "base_uri": "https://localhost:8080/"
        },
        "outputId": "04e91d8b-db3e-49e4-930a-a8418904763b"
      },
      "execution_count": null,
      "outputs": [
        {
          "output_type": "execute_result",
          "data": {
            "text/plain": [
              "   sepal length  sepal width  petal length  petal width        Class\n",
              "0           5.1          3.5           1.4          0.2  Iris-setosa\n",
              "1           4.9          3.0           1.4          0.2  Iris-setosa\n",
              "2           4.7          3.2           1.3          0.2  Iris-setosa\n",
              "3           4.6          3.1           1.5          0.2  Iris-setosa\n",
              "4           5.0          3.6           1.4          0.2  Iris-setosa"
            ],
            "text/html": [
              "\n",
              "  <div id=\"df-d86a6f22-5f5f-455e-b19a-d1dcea542d13\">\n",
              "    <div class=\"colab-df-container\">\n",
              "      <div>\n",
              "<style scoped>\n",
              "    .dataframe tbody tr th:only-of-type {\n",
              "        vertical-align: middle;\n",
              "    }\n",
              "\n",
              "    .dataframe tbody tr th {\n",
              "        vertical-align: top;\n",
              "    }\n",
              "\n",
              "    .dataframe thead th {\n",
              "        text-align: right;\n",
              "    }\n",
              "</style>\n",
              "<table border=\"1\" class=\"dataframe\">\n",
              "  <thead>\n",
              "    <tr style=\"text-align: right;\">\n",
              "      <th></th>\n",
              "      <th>sepal length</th>\n",
              "      <th>sepal width</th>\n",
              "      <th>petal length</th>\n",
              "      <th>petal width</th>\n",
              "      <th>Class</th>\n",
              "    </tr>\n",
              "  </thead>\n",
              "  <tbody>\n",
              "    <tr>\n",
              "      <th>0</th>\n",
              "      <td>5.1</td>\n",
              "      <td>3.5</td>\n",
              "      <td>1.4</td>\n",
              "      <td>0.2</td>\n",
              "      <td>Iris-setosa</td>\n",
              "    </tr>\n",
              "    <tr>\n",
              "      <th>1</th>\n",
              "      <td>4.9</td>\n",
              "      <td>3.0</td>\n",
              "      <td>1.4</td>\n",
              "      <td>0.2</td>\n",
              "      <td>Iris-setosa</td>\n",
              "    </tr>\n",
              "    <tr>\n",
              "      <th>2</th>\n",
              "      <td>4.7</td>\n",
              "      <td>3.2</td>\n",
              "      <td>1.3</td>\n",
              "      <td>0.2</td>\n",
              "      <td>Iris-setosa</td>\n",
              "    </tr>\n",
              "    <tr>\n",
              "      <th>3</th>\n",
              "      <td>4.6</td>\n",
              "      <td>3.1</td>\n",
              "      <td>1.5</td>\n",
              "      <td>0.2</td>\n",
              "      <td>Iris-setosa</td>\n",
              "    </tr>\n",
              "    <tr>\n",
              "      <th>4</th>\n",
              "      <td>5.0</td>\n",
              "      <td>3.6</td>\n",
              "      <td>1.4</td>\n",
              "      <td>0.2</td>\n",
              "      <td>Iris-setosa</td>\n",
              "    </tr>\n",
              "  </tbody>\n",
              "</table>\n",
              "</div>\n",
              "      <button class=\"colab-df-convert\" onclick=\"convertToInteractive('df-d86a6f22-5f5f-455e-b19a-d1dcea542d13')\"\n",
              "              title=\"Convert this dataframe to an interactive table.\"\n",
              "              style=\"display:none;\">\n",
              "        \n",
              "  <svg xmlns=\"http://www.w3.org/2000/svg\" height=\"24px\"viewBox=\"0 0 24 24\"\n",
              "       width=\"24px\">\n",
              "    <path d=\"M0 0h24v24H0V0z\" fill=\"none\"/>\n",
              "    <path d=\"M18.56 5.44l.94 2.06.94-2.06 2.06-.94-2.06-.94-.94-2.06-.94 2.06-2.06.94zm-11 1L8.5 8.5l.94-2.06 2.06-.94-2.06-.94L8.5 2.5l-.94 2.06-2.06.94zm10 10l.94 2.06.94-2.06 2.06-.94-2.06-.94-.94-2.06-.94 2.06-2.06.94z\"/><path d=\"M17.41 7.96l-1.37-1.37c-.4-.4-.92-.59-1.43-.59-.52 0-1.04.2-1.43.59L10.3 9.45l-7.72 7.72c-.78.78-.78 2.05 0 2.83L4 21.41c.39.39.9.59 1.41.59.51 0 1.02-.2 1.41-.59l7.78-7.78 2.81-2.81c.8-.78.8-2.07 0-2.86zM5.41 20L4 18.59l7.72-7.72 1.47 1.35L5.41 20z\"/>\n",
              "  </svg>\n",
              "      </button>\n",
              "      \n",
              "  <style>\n",
              "    .colab-df-container {\n",
              "      display:flex;\n",
              "      flex-wrap:wrap;\n",
              "      gap: 12px;\n",
              "    }\n",
              "\n",
              "    .colab-df-convert {\n",
              "      background-color: #E8F0FE;\n",
              "      border: none;\n",
              "      border-radius: 50%;\n",
              "      cursor: pointer;\n",
              "      display: none;\n",
              "      fill: #1967D2;\n",
              "      height: 32px;\n",
              "      padding: 0 0 0 0;\n",
              "      width: 32px;\n",
              "    }\n",
              "\n",
              "    .colab-df-convert:hover {\n",
              "      background-color: #E2EBFA;\n",
              "      box-shadow: 0px 1px 2px rgba(60, 64, 67, 0.3), 0px 1px 3px 1px rgba(60, 64, 67, 0.15);\n",
              "      fill: #174EA6;\n",
              "    }\n",
              "\n",
              "    [theme=dark] .colab-df-convert {\n",
              "      background-color: #3B4455;\n",
              "      fill: #D2E3FC;\n",
              "    }\n",
              "\n",
              "    [theme=dark] .colab-df-convert:hover {\n",
              "      background-color: #434B5C;\n",
              "      box-shadow: 0px 1px 3px 1px rgba(0, 0, 0, 0.15);\n",
              "      filter: drop-shadow(0px 1px 2px rgba(0, 0, 0, 0.3));\n",
              "      fill: #FFFFFF;\n",
              "    }\n",
              "  </style>\n",
              "\n",
              "      <script>\n",
              "        const buttonEl =\n",
              "          document.querySelector('#df-d86a6f22-5f5f-455e-b19a-d1dcea542d13 button.colab-df-convert');\n",
              "        buttonEl.style.display =\n",
              "          google.colab.kernel.accessAllowed ? 'block' : 'none';\n",
              "\n",
              "        async function convertToInteractive(key) {\n",
              "          const element = document.querySelector('#df-d86a6f22-5f5f-455e-b19a-d1dcea542d13');\n",
              "          const dataTable =\n",
              "            await google.colab.kernel.invokeFunction('convertToInteractive',\n",
              "                                                     [key], {});\n",
              "          if (!dataTable) return;\n",
              "\n",
              "          const docLinkHtml = 'Like what you see? Visit the ' +\n",
              "            '<a target=\"_blank\" href=https://colab.research.google.com/notebooks/data_table.ipynb>data table notebook</a>'\n",
              "            + ' to learn more about interactive tables.';\n",
              "          element.innerHTML = '';\n",
              "          dataTable['output_type'] = 'display_data';\n",
              "          await google.colab.output.renderOutput(dataTable, element);\n",
              "          const docLink = document.createElement('div');\n",
              "          docLink.innerHTML = docLinkHtml;\n",
              "          element.appendChild(docLink);\n",
              "        }\n",
              "      </script>\n",
              "    </div>\n",
              "  </div>\n",
              "  "
            ]
          },
          "metadata": {},
          "execution_count": 20
        }
      ]
    },
    {
      "cell_type": "code",
      "source": [
        "iris = iris_df.iloc[:, 0:iris_df.shape[1] - 1]\n",
        "iris.head()"
      ],
      "metadata": {
        "colab": {
          "base_uri": "https://localhost:8080/"
        },
        "id": "jCbVpjrsg0bD",
        "outputId": "67402b06-cd0a-49ca-fafe-58feb40c0ba0"
      },
      "execution_count": null,
      "outputs": [
        {
          "output_type": "execute_result",
          "data": {
            "text/plain": [
              "   sepal length  sepal width  petal length  petal width\n",
              "0           5.1          3.5           1.4          0.2\n",
              "1           4.9          3.0           1.4          0.2\n",
              "2           4.7          3.2           1.3          0.2\n",
              "3           4.6          3.1           1.5          0.2\n",
              "4           5.0          3.6           1.4          0.2"
            ],
            "text/html": [
              "\n",
              "  <div id=\"df-3d6692f2-0bfa-4702-a21c-8ac46a4101aa\">\n",
              "    <div class=\"colab-df-container\">\n",
              "      <div>\n",
              "<style scoped>\n",
              "    .dataframe tbody tr th:only-of-type {\n",
              "        vertical-align: middle;\n",
              "    }\n",
              "\n",
              "    .dataframe tbody tr th {\n",
              "        vertical-align: top;\n",
              "    }\n",
              "\n",
              "    .dataframe thead th {\n",
              "        text-align: right;\n",
              "    }\n",
              "</style>\n",
              "<table border=\"1\" class=\"dataframe\">\n",
              "  <thead>\n",
              "    <tr style=\"text-align: right;\">\n",
              "      <th></th>\n",
              "      <th>sepal length</th>\n",
              "      <th>sepal width</th>\n",
              "      <th>petal length</th>\n",
              "      <th>petal width</th>\n",
              "    </tr>\n",
              "  </thead>\n",
              "  <tbody>\n",
              "    <tr>\n",
              "      <th>0</th>\n",
              "      <td>5.1</td>\n",
              "      <td>3.5</td>\n",
              "      <td>1.4</td>\n",
              "      <td>0.2</td>\n",
              "    </tr>\n",
              "    <tr>\n",
              "      <th>1</th>\n",
              "      <td>4.9</td>\n",
              "      <td>3.0</td>\n",
              "      <td>1.4</td>\n",
              "      <td>0.2</td>\n",
              "    </tr>\n",
              "    <tr>\n",
              "      <th>2</th>\n",
              "      <td>4.7</td>\n",
              "      <td>3.2</td>\n",
              "      <td>1.3</td>\n",
              "      <td>0.2</td>\n",
              "    </tr>\n",
              "    <tr>\n",
              "      <th>3</th>\n",
              "      <td>4.6</td>\n",
              "      <td>3.1</td>\n",
              "      <td>1.5</td>\n",
              "      <td>0.2</td>\n",
              "    </tr>\n",
              "    <tr>\n",
              "      <th>4</th>\n",
              "      <td>5.0</td>\n",
              "      <td>3.6</td>\n",
              "      <td>1.4</td>\n",
              "      <td>0.2</td>\n",
              "    </tr>\n",
              "  </tbody>\n",
              "</table>\n",
              "</div>\n",
              "      <button class=\"colab-df-convert\" onclick=\"convertToInteractive('df-3d6692f2-0bfa-4702-a21c-8ac46a4101aa')\"\n",
              "              title=\"Convert this dataframe to an interactive table.\"\n",
              "              style=\"display:none;\">\n",
              "        \n",
              "  <svg xmlns=\"http://www.w3.org/2000/svg\" height=\"24px\"viewBox=\"0 0 24 24\"\n",
              "       width=\"24px\">\n",
              "    <path d=\"M0 0h24v24H0V0z\" fill=\"none\"/>\n",
              "    <path d=\"M18.56 5.44l.94 2.06.94-2.06 2.06-.94-2.06-.94-.94-2.06-.94 2.06-2.06.94zm-11 1L8.5 8.5l.94-2.06 2.06-.94-2.06-.94L8.5 2.5l-.94 2.06-2.06.94zm10 10l.94 2.06.94-2.06 2.06-.94-2.06-.94-.94-2.06-.94 2.06-2.06.94z\"/><path d=\"M17.41 7.96l-1.37-1.37c-.4-.4-.92-.59-1.43-.59-.52 0-1.04.2-1.43.59L10.3 9.45l-7.72 7.72c-.78.78-.78 2.05 0 2.83L4 21.41c.39.39.9.59 1.41.59.51 0 1.02-.2 1.41-.59l7.78-7.78 2.81-2.81c.8-.78.8-2.07 0-2.86zM5.41 20L4 18.59l7.72-7.72 1.47 1.35L5.41 20z\"/>\n",
              "  </svg>\n",
              "      </button>\n",
              "      \n",
              "  <style>\n",
              "    .colab-df-container {\n",
              "      display:flex;\n",
              "      flex-wrap:wrap;\n",
              "      gap: 12px;\n",
              "    }\n",
              "\n",
              "    .colab-df-convert {\n",
              "      background-color: #E8F0FE;\n",
              "      border: none;\n",
              "      border-radius: 50%;\n",
              "      cursor: pointer;\n",
              "      display: none;\n",
              "      fill: #1967D2;\n",
              "      height: 32px;\n",
              "      padding: 0 0 0 0;\n",
              "      width: 32px;\n",
              "    }\n",
              "\n",
              "    .colab-df-convert:hover {\n",
              "      background-color: #E2EBFA;\n",
              "      box-shadow: 0px 1px 2px rgba(60, 64, 67, 0.3), 0px 1px 3px 1px rgba(60, 64, 67, 0.15);\n",
              "      fill: #174EA6;\n",
              "    }\n",
              "\n",
              "    [theme=dark] .colab-df-convert {\n",
              "      background-color: #3B4455;\n",
              "      fill: #D2E3FC;\n",
              "    }\n",
              "\n",
              "    [theme=dark] .colab-df-convert:hover {\n",
              "      background-color: #434B5C;\n",
              "      box-shadow: 0px 1px 3px 1px rgba(0, 0, 0, 0.15);\n",
              "      filter: drop-shadow(0px 1px 2px rgba(0, 0, 0, 0.3));\n",
              "      fill: #FFFFFF;\n",
              "    }\n",
              "  </style>\n",
              "\n",
              "      <script>\n",
              "        const buttonEl =\n",
              "          document.querySelector('#df-3d6692f2-0bfa-4702-a21c-8ac46a4101aa button.colab-df-convert');\n",
              "        buttonEl.style.display =\n",
              "          google.colab.kernel.accessAllowed ? 'block' : 'none';\n",
              "\n",
              "        async function convertToInteractive(key) {\n",
              "          const element = document.querySelector('#df-3d6692f2-0bfa-4702-a21c-8ac46a4101aa');\n",
              "          const dataTable =\n",
              "            await google.colab.kernel.invokeFunction('convertToInteractive',\n",
              "                                                     [key], {});\n",
              "          if (!dataTable) return;\n",
              "\n",
              "          const docLinkHtml = 'Like what you see? Visit the ' +\n",
              "            '<a target=\"_blank\" href=https://colab.research.google.com/notebooks/data_table.ipynb>data table notebook</a>'\n",
              "            + ' to learn more about interactive tables.';\n",
              "          element.innerHTML = '';\n",
              "          dataTable['output_type'] = 'display_data';\n",
              "          await google.colab.output.renderOutput(dataTable, element);\n",
              "          const docLink = document.createElement('div');\n",
              "          docLink.innerHTML = docLinkHtml;\n",
              "          element.appendChild(docLink);\n",
              "        }\n",
              "      </script>\n",
              "    </div>\n",
              "  </div>\n",
              "  "
            ]
          },
          "metadata": {},
          "execution_count": 21
        }
      ]
    },
    {
      "cell_type": "code",
      "source": [
        "import matplotlib.pyplot as plt\n",
        "iris.hist(bins=50, figsize=(8,8))\n",
        "plt.show()"
      ],
      "metadata": {
        "colab": {
          "base_uri": "https://localhost:8080/"
        },
        "id": "ZZQ_gLMsg3La",
        "outputId": "6eac63f5-ec43-4ffb-f73f-5213bf7942e9"
      },
      "execution_count": null,
      "outputs": [
        {
          "output_type": "display_data",
          "data": {
            "text/plain": [
              "<Figure size 576x576 with 4 Axes>"
            ],
            "image/png": "[encoded data removed]"
          },
          "metadata": {
            "needs_background": "light"
          }
        }
      ]
    },
    {
      "cell_type": "code",
      "source": [
        "iris.shape"
      ],
      "metadata": {
        "colab": {
          "base_uri": "https://localhost:8080/"
        },
        "id": "Rc74eH36wKF9",
        "outputId": "d4dbf3db-4721-4687-9dbb-8ec209e6edd6"
      },
      "execution_count": null,
      "outputs": [
        {
          "output_type": "execute_result",
          "data": {
            "text/plain": [
              "(150, 4)"
            ]
          },
          "metadata": {},
          "execution_count": 23
        }
      ]
    },
    {
      "cell_type": "code",
      "source": [
        "new_iris_df = iris_df[(iris_df['sepal width'] >= 3.1) | (iris_df['sepal width'] <= 2.8)]\n",
        "new_iris_df = new_iris_df[(new_iris_df['petal width'] > 0.2) | (new_iris_df['petal width'] <= 0.1)]\n",
        "new_iris_df.hist(bins=50, figsize=(8,8))\n",
        "plt.show()"
      ],
      "metadata": {
        "colab": {
          "base_uri": "https://localhost:8080/"
        },
        "id": "SLMX2W5rwDs1",
        "outputId": "d21c016a-32de-4a31-e995-15d303b9f59e"
      },
      "execution_count": null,
      "outputs": [
        {
          "output_type": "display_data",
          "data": {
            "text/plain": [
              "<Figure size 576x576 with 4 Axes>"
            ],
            "image/png": "[encoded data removed]"
          },
          "metadata": {
            "needs_background": "light"
          }
        }
      ]
    },
    {
      "cell_type": "code",
      "source": [
        "iris = new_iris_df.iloc[:, 0:iris_df.shape[1] - 1]\n",
        "iris.head()"
      ],
      "metadata": {
        "colab": {
          "base_uri": "https://localhost:8080/"
        },
        "id": "WdmcHj_0xnr_",
        "outputId": "ab56d58b-6b64-4e00-ac39-2229bf463b4a"
      },
      "execution_count": null,
      "outputs": [
        {
          "output_type": "execute_result",
          "data": {
            "text/plain": [
              "    sepal length  sepal width  petal length  petal width\n",
              "5            5.4          3.9           1.7          0.4\n",
              "6            4.6          3.4           1.4          0.3\n",
              "9            4.9          3.1           1.5          0.1\n",
              "15           5.7          4.4           1.5          0.4\n",
              "16           5.4          3.9           1.3          0.4"
            ],
            "text/html": [
              "\n",
              "  <div id=\"df-e9e2d573-b70c-4263-aadd-3344e06becd6\">\n",
              "    <div class=\"colab-df-container\">\n",
              "      <div>\n",
              "<style scoped>\n",
              "    .dataframe tbody tr th:only-of-type {\n",
              "        vertical-align: middle;\n",
              "    }\n",
              "\n",
              "    .dataframe tbody tr th {\n",
              "        vertical-align: top;\n",
              "    }\n",
              "\n",
              "    .dataframe thead th {\n",
              "        text-align: right;\n",
              "    }\n",
              "</style>\n",
              "<table border=\"1\" class=\"dataframe\">\n",
              "  <thead>\n",
              "    <tr style=\"text-align: right;\">\n",
              "      <th></th>\n",
              "      <th>sepal length</th>\n",
              "      <th>sepal width</th>\n",
              "      <th>petal length</th>\n",
              "      <th>petal width</th>\n",
              "    </tr>\n",
              "  </thead>\n",
              "  <tbody>\n",
              "    <tr>\n",
              "      <th>5</th>\n",
              "      <td>5.4</td>\n",
              "      <td>3.9</td>\n",
              "      <td>1.7</td>\n",
              "      <td>0.4</td>\n",
              "    </tr>\n",
              "    <tr>\n",
              "      <th>6</th>\n",
              "      <td>4.6</td>\n",
              "      <td>3.4</td>\n",
              "      <td>1.4</td>\n",
              "      <td>0.3</td>\n",
              "    </tr>\n",
              "    <tr>\n",
              "      <th>9</th>\n",
              "      <td>4.9</td>\n",
              "      <td>3.1</td>\n",
              "      <td>1.5</td>\n",
              "      <td>0.1</td>\n",
              "    </tr>\n",
              "    <tr>\n",
              "      <th>15</th>\n",
              "      <td>5.7</td>\n",
              "      <td>4.4</td>\n",
              "      <td>1.5</td>\n",
              "      <td>0.4</td>\n",
              "    </tr>\n",
              "    <tr>\n",
              "      <th>16</th>\n",
              "      <td>5.4</td>\n",
              "      <td>3.9</td>\n",
              "      <td>1.3</td>\n",
              "      <td>0.4</td>\n",
              "    </tr>\n",
              "  </tbody>\n",
              "</table>\n",
              "</div>\n",
              "      <button class=\"colab-df-convert\" onclick=\"convertToInteractive('df-e9e2d573-b70c-4263-aadd-3344e06becd6')\"\n",
              "              title=\"Convert this dataframe to an interactive table.\"\n",
              "              style=\"display:none;\">\n",
              "        \n",
              "  <svg xmlns=\"http://www.w3.org/2000/svg\" height=\"24px\"viewBox=\"0 0 24 24\"\n",
              "       width=\"24px\">\n",
              "    <path d=\"M0 0h24v24H0V0z\" fill=\"none\"/>\n",
              "    <path d=\"M18.56 5.44l.94 2.06.94-2.06 2.06-.94-2.06-.94-.94-2.06-.94 2.06-2.06.94zm-11 1L8.5 8.5l.94-2.06 2.06-.94-2.06-.94L8.5 2.5l-.94 2.06-2.06.94zm10 10l.94 2.06.94-2.06 2.06-.94-2.06-.94-.94-2.06-.94 2.06-2.06.94z\"/><path d=\"M17.41 7.96l-1.37-1.37c-.4-.4-.92-.59-1.43-.59-.52 0-1.04.2-1.43.59L10.3 9.45l-7.72 7.72c-.78.78-.78 2.05 0 2.83L4 21.41c.39.39.9.59 1.41.59.51 0 1.02-.2 1.41-.59l7.78-7.78 2.81-2.81c.8-.78.8-2.07 0-2.86zM5.41 20L4 18.59l7.72-7.72 1.47 1.35L5.41 20z\"/>\n",
              "  </svg>\n",
              "      </button>\n",
              "      \n",
              "  <style>\n",
              "    .colab-df-container {\n",
              "      display:flex;\n",
              "      flex-wrap:wrap;\n",
              "      gap: 12px;\n",
              "    }\n",
              "\n",
              "    .colab-df-convert {\n",
              "      background-color: #E8F0FE;\n",
              "      border: none;\n",
              "      border-radius: 50%;\n",
              "      cursor: pointer;\n",
              "      display: none;\n",
              "      fill: #1967D2;\n",
              "      height: 32px;\n",
              "      padding: 0 0 0 0;\n",
              "      width: 32px;\n",
              "    }\n",
              "\n",
              "    .colab-df-convert:hover {\n",
              "      background-color: #E2EBFA;\n",
              "      box-shadow: 0px 1px 2px rgba(60, 64, 67, 0.3), 0px 1px 3px 1px rgba(60, 64, 67, 0.15);\n",
              "      fill: #174EA6;\n",
              "    }\n",
              "\n",
              "    [theme=dark] .colab-df-convert {\n",
              "      background-color: #3B4455;\n",
              "      fill: #D2E3FC;\n",
              "    }\n",
              "\n",
              "    [theme=dark] .colab-df-convert:hover {\n",
              "      background-color: #434B5C;\n",
              "      box-shadow: 0px 1px 3px 1px rgba(0, 0, 0, 0.15);\n",
              "      filter: drop-shadow(0px 1px 2px rgba(0, 0, 0, 0.3));\n",
              "      fill: #FFFFFF;\n",
              "    }\n",
              "  </style>\n",
              "\n",
              "      <script>\n",
              "        const buttonEl =\n",
              "          document.querySelector('#df-e9e2d573-b70c-4263-aadd-3344e06becd6 button.colab-df-convert');\n",
              "        buttonEl.style.display =\n",
              "          google.colab.kernel.accessAllowed ? 'block' : 'none';\n",
              "\n",
              "        async function convertToInteractive(key) {\n",
              "          const element = document.querySelector('#df-e9e2d573-b70c-4263-aadd-3344e06becd6');\n",
              "          const dataTable =\n",
              "            await google.colab.kernel.invokeFunction('convertToInteractive',\n",
              "                                                     [key], {});\n",
              "          if (!dataTable) return;\n",
              "\n",
              "          const docLinkHtml = 'Like what you see? Visit the ' +\n",
              "            '<a target=\"_blank\" href=https://colab.research.google.com/notebooks/data_table.ipynb>data table notebook</a>'\n",
              "            + ' to learn more about interactive tables.';\n",
              "          element.innerHTML = '';\n",
              "          dataTable['output_type'] = 'display_data';\n",
              "          await google.colab.output.renderOutput(dataTable, element);\n",
              "          const docLink = document.createElement('div');\n",
              "          docLink.innerHTML = docLinkHtml;\n",
              "          element.appendChild(docLink);\n",
              "        }\n",
              "      </script>\n",
              "    </div>\n",
              "  </div>\n",
              "  "
            ]
          },
          "metadata": {},
          "execution_count": 25
        }
      ]
    },
    {
      "cell_type": "code",
      "source": [
        "encoder = LabelEncoder()\n",
        "new_iris_df['Class'] = encoder.fit_transform(new_iris_df['Class'])\n",
        "iris_y = new_iris_df['Class']\n",
        "np.unique(iris_y, return_counts=True)"
      ],
      "metadata": {
        "colab": {
          "base_uri": "https://localhost:8080/"
        },
        "id": "DuH-2wYd9wGR",
        "outputId": "068cac94-b72a-4359-f859-2fc994e3a3dd"
      },
      "execution_count": null,
      "outputs": [
        {
          "output_type": "execute_result",
          "data": {
            "text/plain": [
              "(array([0, 1, 2]), array([19, 35, 36]))"
            ]
          },
          "metadata": {},
          "execution_count": 26
        }
      ]
    },
    {
      "cell_type": "markdown",
      "source": [
        "### Segmentation"
      ],
      "metadata": {
        "id": "w9SaKB05ocL0"
      }
    },
    {
      "cell_type": "code",
      "source": [
        "import pandas as pd\n",
        "\n",
        "names = \"REGION-CENTROID-COL,REGION-CENTROID-ROW,REGION-PIXEL-COUNT,SHORT-LINE-DENSITY-5,SHORT-LINE-DENSITY-2,VEDGE-MEAN,VEDGE-SD,HEDGE-MEAN,HEDGE-SD,INTENSITY-MEAN,RAWRED-MEAN,RAWBLUE-MEAN,RAWGREEN-MEAN,EXRED-MEAN,EXBLUE-MEAN,EXGREEN-MEAN,VALUE-MEAN,SATURATION-MEAN,HUE-MEAN\"\n",
        "names = names.split(\",\")\n",
        "segmentation_df = pd.read_csv(\"segmentation.data\", header=None, \n",
        "                 names=names)\n",
        "segmentation_df.head()"
      ],
      "metadata": {
        "colab": {
          "base_uri": "https://localhost:8080/"
        },
        "id": "OZJ94Fpxo3k4",
        "outputId": "d712e70d-1235-4542-de9c-bc66bfbd1b7f"
      },
      "execution_count": null,
      "outputs": [
        {
          "output_type": "execute_result",
          "data": {
            "text/plain": [
              "                                 REGION-CENTROID-COL  REGION-CENTROID-ROW  \\\n",
              "0              ;;; -*- Mode:Common-Lisp; Base:10 -*-                  NaN   \n",
              "1  ;;; *-* Last-edit: 11/21/90 15:28:30 by Brodle...                  NaN   \n",
              "2                                REGION-CENTROID-COL  REGION-CENTROID-ROW   \n",
              "3                                          BRICKFACE                140.0   \n",
              "4                                          BRICKFACE                188.0   \n",
              "\n",
              "   REGION-PIXEL-COUNT  SHORT-LINE-DENSITY-5  SHORT-LINE-DENSITY-2  VEDGE-MEAN  \\\n",
              "0                 NaN                   NaN                   NaN         NaN   \n",
              "1                 NaN                   NaN                   NaN         NaN   \n",
              "2  REGION-PIXEL-COUNT  SHORT-LINE-DENSITY-5  SHORT-LINE-DENSITY-2  VEDGE-MEAN   \n",
              "3               125.0                     9                   0.0         0.0   \n",
              "4               133.0                     9                   0.0         0.0   \n",
              "\n",
              "     VEDGE-SD  HEDGE-MEAN    HEDGE-SD  INTENSITY-MEAN  RAWRED-MEAN  \\\n",
              "0         NaN         NaN         NaN             NaN          NaN   \n",
              "1         NaN         NaN         NaN             NaN          NaN   \n",
              "2    VEDGE-SD  HEDGE-MEAN    HEDGE-SD  INTENSITY-MEAN  RAWRED-MEAN   \n",
              "3   0.2777779  0.06296301  0.66666675      0.31111118     6.185185   \n",
              "4  0.33333334  0.26666674         0.5     0.077777736    6.6666665   \n",
              "\n",
              "   RAWBLUE-MEAN  RAWGREEN-MEAN  EXRED-MEAN  EXBLUE-MEAN  EXGREEN-MEAN  \\\n",
              "0           NaN            NaN         NaN          NaN           NaN   \n",
              "1           NaN            NaN         NaN          NaN           NaN   \n",
              "2  RAWBLUE-MEAN  RAWGREEN-MEAN  EXRED-MEAN  EXBLUE-MEAN  EXGREEN-MEAN   \n",
              "3     7.3333335      7.6666665   3.5555556    3.4444444     4.4444447   \n",
              "4      8.333334      7.7777777   3.8888888          5.0     3.3333333   \n",
              "\n",
              "   VALUE-MEAN  SATURATION-MEAN    HUE-MEAN  \n",
              "0         NaN              NaN         NaN  \n",
              "1         NaN              NaN         NaN  \n",
              "2  VALUE-MEAN  SATURATION-MEAN    HUE-MEAN  \n",
              "3   -7.888889        7.7777777   0.5456349  \n",
              "4   -8.333333         8.444445  0.53858024  "
            ],
            "text/html": [
              "\n",
              "  <div id=\"df-cd66f0d5-82af-4a4f-b7af-9050d4d94b0a\">\n",
              "    <div class=\"colab-df-container\">\n",
              "      <div>\n",
              "<style scoped>\n",
              "    .dataframe tbody tr th:only-of-type {\n",
              "        vertical-align: middle;\n",
              "    }\n",
              "\n",
              "    .dataframe tbody tr th {\n",
              "        vertical-align: top;\n",
              "    }\n",
              "\n",
              "    .dataframe thead th {\n",
              "        text-align: right;\n",
              "    }\n",
              "</style>\n",
              "<table border=\"1\" class=\"dataframe\">\n",
              "  <thead>\n",
              "    <tr style=\"text-align: right;\">\n",
              "      <th></th>\n",
              "      <th>REGION-CENTROID-COL</th>\n",
              "      <th>REGION-CENTROID-ROW</th>\n",
              "      <th>REGION-PIXEL-COUNT</th>\n",
              "      <th>SHORT-LINE-DENSITY-5</th>\n",
              "      <th>SHORT-LINE-DENSITY-2</th>\n",
              "      <th>VEDGE-MEAN</th>\n",
              "      <th>VEDGE-SD</th>\n",
              "      <th>HEDGE-MEAN</th>\n",
              "      <th>HEDGE-SD</th>\n",
              "      <th>INTENSITY-MEAN</th>\n",
              "      <th>RAWRED-MEAN</th>\n",
              "      <th>RAWBLUE-MEAN</th>\n",
              "      <th>RAWGREEN-MEAN</th>\n",
              "      <th>EXRED-MEAN</th>\n",
              "      <th>EXBLUE-MEAN</th>\n",
              "      <th>EXGREEN-MEAN</th>\n",
              "      <th>VALUE-MEAN</th>\n",
              "      <th>SATURATION-MEAN</th>\n",
              "      <th>HUE-MEAN</th>\n",
              "    </tr>\n",
              "  </thead>\n",
              "  <tbody>\n",
              "    <tr>\n",
              "      <th>0</th>\n",
              "      <td>;;; -*- Mode:Common-Lisp; Base:10 -*-</td>\n",
              "      <td>NaN</td>\n",
              "      <td>NaN</td>\n",
              "      <td>NaN</td>\n",
              "      <td>NaN</td>\n",
              "      <td>NaN</td>\n",
              "      <td>NaN</td>\n",
              "      <td>NaN</td>\n",
              "      <td>NaN</td>\n",
              "      <td>NaN</td>\n",
              "      <td>NaN</td>\n",
              "      <td>NaN</td>\n",
              "      <td>NaN</td>\n",
              "      <td>NaN</td>\n",
              "      <td>NaN</td>\n",
              "      <td>NaN</td>\n",
              "      <td>NaN</td>\n",
              "      <td>NaN</td>\n",
              "      <td>NaN</td>\n",
              "    </tr>\n",
              "    <tr>\n",
              "      <th>1</th>\n",
              "      <td>;;; *-* Last-edit: 11/21/90 15:28:30 by Brodle...</td>\n",
              "      <td>NaN</td>\n",
              "      <td>NaN</td>\n",
              "      <td>NaN</td>\n",
              "      <td>NaN</td>\n",
              "      <td>NaN</td>\n",
              "      <td>NaN</td>\n",
              "      <td>NaN</td>\n",
              "      <td>NaN</td>\n",
              "      <td>NaN</td>\n",
              "      <td>NaN</td>\n",
              "      <td>NaN</td>\n",
              "      <td>NaN</td>\n",
              "      <td>NaN</td>\n",
              "      <td>NaN</td>\n",
              "      <td>NaN</td>\n",
              "      <td>NaN</td>\n",
              "      <td>NaN</td>\n",
              "      <td>NaN</td>\n",
              "    </tr>\n",
              "    <tr>\n",
              "      <th>2</th>\n",
              "      <td>REGION-CENTROID-COL</td>\n",
              "      <td>REGION-CENTROID-ROW</td>\n",
              "      <td>REGION-PIXEL-COUNT</td>\n",
              "      <td>SHORT-LINE-DENSITY-5</td>\n",
              "      <td>SHORT-LINE-DENSITY-2</td>\n",
              "      <td>VEDGE-MEAN</td>\n",
              "      <td>VEDGE-SD</td>\n",
              "      <td>HEDGE-MEAN</td>\n",
              "      <td>HEDGE-SD</td>\n",
              "      <td>INTENSITY-MEAN</td>\n",
              "      <td>RAWRED-MEAN</td>\n",
              "      <td>RAWBLUE-MEAN</td>\n",
              "      <td>RAWGREEN-MEAN</td>\n",
              "      <td>EXRED-MEAN</td>\n",
              "      <td>EXBLUE-MEAN</td>\n",
              "      <td>EXGREEN-MEAN</td>\n",
              "      <td>VALUE-MEAN</td>\n",
              "      <td>SATURATION-MEAN</td>\n",
              "      <td>HUE-MEAN</td>\n",
              "    </tr>\n",
              "    <tr>\n",
              "      <th>3</th>\n",
              "      <td>BRICKFACE</td>\n",
              "      <td>140.0</td>\n",
              "      <td>125.0</td>\n",
              "      <td>9</td>\n",
              "      <td>0.0</td>\n",
              "      <td>0.0</td>\n",
              "      <td>0.2777779</td>\n",
              "      <td>0.06296301</td>\n",
              "      <td>0.66666675</td>\n",
              "      <td>0.31111118</td>\n",
              "      <td>6.185185</td>\n",
              "      <td>7.3333335</td>\n",
              "      <td>7.6666665</td>\n",
              "      <td>3.5555556</td>\n",
              "      <td>3.4444444</td>\n",
              "      <td>4.4444447</td>\n",
              "      <td>-7.888889</td>\n",
              "      <td>7.7777777</td>\n",
              "      <td>0.5456349</td>\n",
              "    </tr>\n",
              "    <tr>\n",
              "      <th>4</th>\n",
              "      <td>BRICKFACE</td>\n",
              "      <td>188.0</td>\n",
              "      <td>133.0</td>\n",
              "      <td>9</td>\n",
              "      <td>0.0</td>\n",
              "      <td>0.0</td>\n",
              "      <td>0.33333334</td>\n",
              "      <td>0.26666674</td>\n",
              "      <td>0.5</td>\n",
              "      <td>0.077777736</td>\n",
              "      <td>6.6666665</td>\n",
              "      <td>8.333334</td>\n",
              "      <td>7.7777777</td>\n",
              "      <td>3.8888888</td>\n",
              "      <td>5.0</td>\n",
              "      <td>3.3333333</td>\n",
              "      <td>-8.333333</td>\n",
              "      <td>8.444445</td>\n",
              "      <td>0.53858024</td>\n",
              "    </tr>\n",
              "  </tbody>\n",
              "</table>\n",
              "</div>\n",
              "      <button class=\"colab-df-convert\" onclick=\"convertToInteractive('df-cd66f0d5-82af-4a4f-b7af-9050d4d94b0a')\"\n",
              "              title=\"Convert this dataframe to an interactive table.\"\n",
              "              style=\"display:none;\">\n",
              "        \n",
              "  <svg xmlns=\"http://www.w3.org/2000/svg\" height=\"24px\"viewBox=\"0 0 24 24\"\n",
              "       width=\"24px\">\n",
              "    <path d=\"M0 0h24v24H0V0z\" fill=\"none\"/>\n",
              "    <path d=\"M18.56 5.44l.94 2.06.94-2.06 2.06-.94-2.06-.94-.94-2.06-.94 2.06-2.06.94zm-11 1L8.5 8.5l.94-2.06 2.06-.94-2.06-.94L8.5 2.5l-.94 2.06-2.06.94zm10 10l.94 2.06.94-2.06 2.06-.94-2.06-.94-.94-2.06-.94 2.06-2.06.94z\"/><path d=\"M17.41 7.96l-1.37-1.37c-.4-.4-.92-.59-1.43-.59-.52 0-1.04.2-1.43.59L10.3 9.45l-7.72 7.72c-.78.78-.78 2.05 0 2.83L4 21.41c.39.39.9.59 1.41.59.51 0 1.02-.2 1.41-.59l7.78-7.78 2.81-2.81c.8-.78.8-2.07 0-2.86zM5.41 20L4 18.59l7.72-7.72 1.47 1.35L5.41 20z\"/>\n",
              "  </svg>\n",
              "      </button>\n",
              "      \n",
              "  <style>\n",
              "    .colab-df-container {\n",
              "      display:flex;\n",
              "      flex-wrap:wrap;\n",
              "      gap: 12px;\n",
              "    }\n",
              "\n",
              "    .colab-df-convert {\n",
              "      background-color: #E8F0FE;\n",
              "      border: none;\n",
              "      border-radius: 50%;\n",
              "      cursor: pointer;\n",
              "      display: none;\n",
              "      fill: #1967D2;\n",
              "      height: 32px;\n",
              "      padding: 0 0 0 0;\n",
              "      width: 32px;\n",
              "    }\n",
              "\n",
              "    .colab-df-convert:hover {\n",
              "      background-color: #E2EBFA;\n",
              "      box-shadow: 0px 1px 2px rgba(60, 64, 67, 0.3), 0px 1px 3px 1px rgba(60, 64, 67, 0.15);\n",
              "      fill: #174EA6;\n",
              "    }\n",
              "\n",
              "    [theme=dark] .colab-df-convert {\n",
              "      background-color: #3B4455;\n",
              "      fill: #D2E3FC;\n",
              "    }\n",
              "\n",
              "    [theme=dark] .colab-df-convert:hover {\n",
              "      background-color: #434B5C;\n",
              "      box-shadow: 0px 1px 3px 1px rgba(0, 0, 0, 0.15);\n",
              "      filter: drop-shadow(0px 1px 2px rgba(0, 0, 0, 0.3));\n",
              "      fill: #FFFFFF;\n",
              "    }\n",
              "  </style>\n",
              "\n",
              "      <script>\n",
              "        const buttonEl =\n",
              "          document.querySelector('#df-cd66f0d5-82af-4a4f-b7af-9050d4d94b0a button.colab-df-convert');\n",
              "        buttonEl.style.display =\n",
              "          google.colab.kernel.accessAllowed ? 'block' : 'none';\n",
              "\n",
              "        async function convertToInteractive(key) {\n",
              "          const element = document.querySelector('#df-cd66f0d5-82af-4a4f-b7af-9050d4d94b0a');\n",
              "          const dataTable =\n",
              "            await google.colab.kernel.invokeFunction('convertToInteractive',\n",
              "                                                     [key], {});\n",
              "          if (!dataTable) return;\n",
              "\n",
              "          const docLinkHtml = 'Like what you see? Visit the ' +\n",
              "            '<a target=\"_blank\" href=https://colab.research.google.com/notebooks/data_table.ipynb>data table notebook</a>'\n",
              "            + ' to learn more about interactive tables.';\n",
              "          element.innerHTML = '';\n",
              "          dataTable['output_type'] = 'display_data';\n",
              "          await google.colab.output.renderOutput(dataTable, element);\n",
              "          const docLink = document.createElement('div');\n",
              "          docLink.innerHTML = docLinkHtml;\n",
              "          element.appendChild(docLink);\n",
              "        }\n",
              "      </script>\n",
              "    </div>\n",
              "  </div>\n",
              "  "
            ]
          },
          "metadata": {},
          "execution_count": 27
        }
      ]
    },
    {
      "cell_type": "code",
      "source": [
        "segmentation_df = segmentation_df.iloc[3:,:]\n",
        "segmentation_df.head(2)"
      ],
      "metadata": {
        "colab": {
          "base_uri": "https://localhost:8080/"
        },
        "id": "d59-gOMgp1qI",
        "outputId": "4d8530c8-b16d-4d50-9665-80fc0375b662"
      },
      "execution_count": null,
      "outputs": [
        {
          "output_type": "execute_result",
          "data": {
            "text/plain": [
              "  REGION-CENTROID-COL REGION-CENTROID-ROW REGION-PIXEL-COUNT  \\\n",
              "3           BRICKFACE               140.0              125.0   \n",
              "4           BRICKFACE               188.0              133.0   \n",
              "\n",
              "  SHORT-LINE-DENSITY-5 SHORT-LINE-DENSITY-2 VEDGE-MEAN    VEDGE-SD  \\\n",
              "3                    9                  0.0        0.0   0.2777779   \n",
              "4                    9                  0.0        0.0  0.33333334   \n",
              "\n",
              "   HEDGE-MEAN    HEDGE-SD INTENSITY-MEAN RAWRED-MEAN RAWBLUE-MEAN  \\\n",
              "3  0.06296301  0.66666675     0.31111118    6.185185    7.3333335   \n",
              "4  0.26666674         0.5    0.077777736   6.6666665     8.333334   \n",
              "\n",
              "  RAWGREEN-MEAN EXRED-MEAN EXBLUE-MEAN EXGREEN-MEAN VALUE-MEAN  \\\n",
              "3     7.6666665  3.5555556   3.4444444    4.4444447  -7.888889   \n",
              "4     7.7777777  3.8888888         5.0    3.3333333  -8.333333   \n",
              "\n",
              "  SATURATION-MEAN    HUE-MEAN  \n",
              "3       7.7777777   0.5456349  \n",
              "4        8.444445  0.53858024  "
            ],
            "text/html": [
              "\n",
              "  <div id=\"df-9aee7650-61b0-4939-946b-46599e94f4ef\">\n",
              "    <div class=\"colab-df-container\">\n",
              "      <div>\n",
              "<style scoped>\n",
              "    .dataframe tbody tr th:only-of-type {\n",
              "        vertical-align: middle;\n",
              "    }\n",
              "\n",
              "    .dataframe tbody tr th {\n",
              "        vertical-align: top;\n",
              "    }\n",
              "\n",
              "    .dataframe thead th {\n",
              "        text-align: right;\n",
              "    }\n",
              "</style>\n",
              "<table border=\"1\" class=\"dataframe\">\n",
              "  <thead>\n",
              "    <tr style=\"text-align: right;\">\n",
              "      <th></th>\n",
              "      <th>REGION-CENTROID-COL</th>\n",
              "      <th>REGION-CENTROID-ROW</th>\n",
              "      <th>REGION-PIXEL-COUNT</th>\n",
              "      <th>SHORT-LINE-DENSITY-5</th>\n",
              "      <th>SHORT-LINE-DENSITY-2</th>\n",
              "      <th>VEDGE-MEAN</th>\n",
              "      <th>VEDGE-SD</th>\n",
              "      <th>HEDGE-MEAN</th>\n",
              "      <th>HEDGE-SD</th>\n",
              "      <th>INTENSITY-MEAN</th>\n",
              "      <th>RAWRED-MEAN</th>\n",
              "      <th>RAWBLUE-MEAN</th>\n",
              "      <th>RAWGREEN-MEAN</th>\n",
              "      <th>EXRED-MEAN</th>\n",
              "      <th>EXBLUE-MEAN</th>\n",
              "      <th>EXGREEN-MEAN</th>\n",
              "      <th>VALUE-MEAN</th>\n",
              "      <th>SATURATION-MEAN</th>\n",
              "      <th>HUE-MEAN</th>\n",
              "    </tr>\n",
              "  </thead>\n",
              "  <tbody>\n",
              "    <tr>\n",
              "      <th>3</th>\n",
              "      <td>BRICKFACE</td>\n",
              "      <td>140.0</td>\n",
              "      <td>125.0</td>\n",
              "      <td>9</td>\n",
              "      <td>0.0</td>\n",
              "      <td>0.0</td>\n",
              "      <td>0.2777779</td>\n",
              "      <td>0.06296301</td>\n",
              "      <td>0.66666675</td>\n",
              "      <td>0.31111118</td>\n",
              "      <td>6.185185</td>\n",
              "      <td>7.3333335</td>\n",
              "      <td>7.6666665</td>\n",
              "      <td>3.5555556</td>\n",
              "      <td>3.4444444</td>\n",
              "      <td>4.4444447</td>\n",
              "      <td>-7.888889</td>\n",
              "      <td>7.7777777</td>\n",
              "      <td>0.5456349</td>\n",
              "    </tr>\n",
              "    <tr>\n",
              "      <th>4</th>\n",
              "      <td>BRICKFACE</td>\n",
              "      <td>188.0</td>\n",
              "      <td>133.0</td>\n",
              "      <td>9</td>\n",
              "      <td>0.0</td>\n",
              "      <td>0.0</td>\n",
              "      <td>0.33333334</td>\n",
              "      <td>0.26666674</td>\n",
              "      <td>0.5</td>\n",
              "      <td>0.077777736</td>\n",
              "      <td>6.6666665</td>\n",
              "      <td>8.333334</td>\n",
              "      <td>7.7777777</td>\n",
              "      <td>3.8888888</td>\n",
              "      <td>5.0</td>\n",
              "      <td>3.3333333</td>\n",
              "      <td>-8.333333</td>\n",
              "      <td>8.444445</td>\n",
              "      <td>0.53858024</td>\n",
              "    </tr>\n",
              "  </tbody>\n",
              "</table>\n",
              "</div>\n",
              "      <button class=\"colab-df-convert\" onclick=\"convertToInteractive('df-9aee7650-61b0-4939-946b-46599e94f4ef')\"\n",
              "              title=\"Convert this dataframe to an interactive table.\"\n",
              "              style=\"display:none;\">\n",
              "        \n",
              "  <svg xmlns=\"http://www.w3.org/2000/svg\" height=\"24px\"viewBox=\"0 0 24 24\"\n",
              "       width=\"24px\">\n",
              "    <path d=\"M0 0h24v24H0V0z\" fill=\"none\"/>\n",
              "    <path d=\"M18.56 5.44l.94 2.06.94-2.06 2.06-.94-2.06-.94-.94-2.06-.94 2.06-2.06.94zm-11 1L8.5 8.5l.94-2.06 2.06-.94-2.06-.94L8.5 2.5l-.94 2.06-2.06.94zm10 10l.94 2.06.94-2.06 2.06-.94-2.06-.94-.94-2.06-.94 2.06-2.06.94z\"/><path d=\"M17.41 7.96l-1.37-1.37c-.4-.4-.92-.59-1.43-.59-.52 0-1.04.2-1.43.59L10.3 9.45l-7.72 7.72c-.78.78-.78 2.05 0 2.83L4 21.41c.39.39.9.59 1.41.59.51 0 1.02-.2 1.41-.59l7.78-7.78 2.81-2.81c.8-.78.8-2.07 0-2.86zM5.41 20L4 18.59l7.72-7.72 1.47 1.35L5.41 20z\"/>\n",
              "  </svg>\n",
              "      </button>\n",
              "      \n",
              "  <style>\n",
              "    .colab-df-container {\n",
              "      display:flex;\n",
              "      flex-wrap:wrap;\n",
              "      gap: 12px;\n",
              "    }\n",
              "\n",
              "    .colab-df-convert {\n",
              "      background-color: #E8F0FE;\n",
              "      border: none;\n",
              "      border-radius: 50%;\n",
              "      cursor: pointer;\n",
              "      display: none;\n",
              "      fill: #1967D2;\n",
              "      height: 32px;\n",
              "      padding: 0 0 0 0;\n",
              "      width: 32px;\n",
              "    }\n",
              "\n",
              "    .colab-df-convert:hover {\n",
              "      background-color: #E2EBFA;\n",
              "      box-shadow: 0px 1px 2px rgba(60, 64, 67, 0.3), 0px 1px 3px 1px rgba(60, 64, 67, 0.15);\n",
              "      fill: #174EA6;\n",
              "    }\n",
              "\n",
              "    [theme=dark] .colab-df-convert {\n",
              "      background-color: #3B4455;\n",
              "      fill: #D2E3FC;\n",
              "    }\n",
              "\n",
              "    [theme=dark] .colab-df-convert:hover {\n",
              "      background-color: #434B5C;\n",
              "      box-shadow: 0px 1px 3px 1px rgba(0, 0, 0, 0.15);\n",
              "      filter: drop-shadow(0px 1px 2px rgba(0, 0, 0, 0.3));\n",
              "      fill: #FFFFFF;\n",
              "    }\n",
              "  </style>\n",
              "\n",
              "      <script>\n",
              "        const buttonEl =\n",
              "          document.querySelector('#df-9aee7650-61b0-4939-946b-46599e94f4ef button.colab-df-convert');\n",
              "        buttonEl.style.display =\n",
              "          google.colab.kernel.accessAllowed ? 'block' : 'none';\n",
              "\n",
              "        async function convertToInteractive(key) {\n",
              "          const element = document.querySelector('#df-9aee7650-61b0-4939-946b-46599e94f4ef');\n",
              "          const dataTable =\n",
              "            await google.colab.kernel.invokeFunction('convertToInteractive',\n",
              "                                                     [key], {});\n",
              "          if (!dataTable) return;\n",
              "\n",
              "          const docLinkHtml = 'Like what you see? Visit the ' +\n",
              "            '<a target=\"_blank\" href=https://colab.research.google.com/notebooks/data_table.ipynb>data table notebook</a>'\n",
              "            + ' to learn more about interactive tables.';\n",
              "          element.innerHTML = '';\n",
              "          dataTable['output_type'] = 'display_data';\n",
              "          await google.colab.output.renderOutput(dataTable, element);\n",
              "          const docLink = document.createElement('div');\n",
              "          docLink.innerHTML = docLinkHtml;\n",
              "          element.appendChild(docLink);\n",
              "        }\n",
              "      </script>\n",
              "    </div>\n",
              "  </div>\n",
              "  "
            ]
          },
          "metadata": {},
          "execution_count": 28
        }
      ]
    },
    {
      "cell_type": "code",
      "source": [
        "segmentation = segmentation_df.iloc[:, 1:]\n",
        "for col in segmentation.columns:\n",
        "  segmentation[col] = pd.to_numeric(segmentation[col])\n",
        "segmentation.head(2)"
      ],
      "metadata": {
        "colab": {
          "base_uri": "https://localhost:8080/"
        },
        "id": "dHRL-Z2Jpp58",
        "outputId": "8986f929-b11e-48ea-fafa-ac767215d53f"
      },
      "execution_count": null,
      "outputs": [
        {
          "output_type": "stream",
          "name": "stderr",
          "text": [
            "/usr/local/lib/python3.7/dist-packages/ipykernel_launcher.py:3: SettingWithCopyWarning: \n",
            "A value is trying to be set on a copy of a slice from a DataFrame.\n",
            "Try using .loc[row_indexer,col_indexer] = value instead\n",
            "\n",
            "See the caveats in the documentation: https://pandas.pydata.org/pandas-docs/stable/user_guide/indexing.html#returning-a-view-versus-a-copy\n",
            "  This is separate from the ipykernel package so we can avoid doing imports until\n"
          ]
        },
        {
          "output_type": "execute_result",
          "data": {
            "text/plain": [
              "   REGION-CENTROID-ROW  REGION-PIXEL-COUNT  SHORT-LINE-DENSITY-5  \\\n",
              "3                140.0               125.0                     9   \n",
              "4                188.0               133.0                     9   \n",
              "\n",
              "   SHORT-LINE-DENSITY-2  VEDGE-MEAN  VEDGE-SD  HEDGE-MEAN  HEDGE-SD  \\\n",
              "3                   0.0         0.0  0.277778    0.062963  0.666667   \n",
              "4                   0.0         0.0  0.333333    0.266667  0.500000   \n",
              "\n",
              "   INTENSITY-MEAN  RAWRED-MEAN  RAWBLUE-MEAN  RAWGREEN-MEAN  EXRED-MEAN  \\\n",
              "3        0.311111     6.185185      7.333334       7.666666    3.555556   \n",
              "4        0.077778     6.666666      8.333334       7.777778    3.888889   \n",
              "\n",
              "   EXBLUE-MEAN  EXGREEN-MEAN  VALUE-MEAN  SATURATION-MEAN  HUE-MEAN  \n",
              "3     3.444444      4.444445   -7.888889         7.777778  0.545635  \n",
              "4     5.000000      3.333333   -8.333333         8.444445  0.538580  "
            ],
            "text/html": [
              "\n",
              "  <div id=\"df-7d90449b-362d-4f53-8813-ae9976e026f9\">\n",
              "    <div class=\"colab-df-container\">\n",
              "      <div>\n",
              "<style scoped>\n",
              "    .dataframe tbody tr th:only-of-type {\n",
              "        vertical-align: middle;\n",
              "    }\n",
              "\n",
              "    .dataframe tbody tr th {\n",
              "        vertical-align: top;\n",
              "    }\n",
              "\n",
              "    .dataframe thead th {\n",
              "        text-align: right;\n",
              "    }\n",
              "</style>\n",
              "<table border=\"1\" class=\"dataframe\">\n",
              "  <thead>\n",
              "    <tr style=\"text-align: right;\">\n",
              "      <th></th>\n",
              "      <th>REGION-CENTROID-ROW</th>\n",
              "      <th>REGION-PIXEL-COUNT</th>\n",
              "      <th>SHORT-LINE-DENSITY-5</th>\n",
              "      <th>SHORT-LINE-DENSITY-2</th>\n",
              "      <th>VEDGE-MEAN</th>\n",
              "      <th>VEDGE-SD</th>\n",
              "      <th>HEDGE-MEAN</th>\n",
              "      <th>HEDGE-SD</th>\n",
              "      <th>INTENSITY-MEAN</th>\n",
              "      <th>RAWRED-MEAN</th>\n",
              "      <th>RAWBLUE-MEAN</th>\n",
              "      <th>RAWGREEN-MEAN</th>\n",
              "      <th>EXRED-MEAN</th>\n",
              "      <th>EXBLUE-MEAN</th>\n",
              "      <th>EXGREEN-MEAN</th>\n",
              "      <th>VALUE-MEAN</th>\n",
              "      <th>SATURATION-MEAN</th>\n",
              "      <th>HUE-MEAN</th>\n",
              "    </tr>\n",
              "  </thead>\n",
              "  <tbody>\n",
              "    <tr>\n",
              "      <th>3</th>\n",
              "      <td>140.0</td>\n",
              "      <td>125.0</td>\n",
              "      <td>9</td>\n",
              "      <td>0.0</td>\n",
              "      <td>0.0</td>\n",
              "      <td>0.277778</td>\n",
              "      <td>0.062963</td>\n",
              "      <td>0.666667</td>\n",
              "      <td>0.311111</td>\n",
              "      <td>6.185185</td>\n",
              "      <td>7.333334</td>\n",
              "      <td>7.666666</td>\n",
              "      <td>3.555556</td>\n",
              "      <td>3.444444</td>\n",
              "      <td>4.444445</td>\n",
              "      <td>-7.888889</td>\n",
              "      <td>7.777778</td>\n",
              "      <td>0.545635</td>\n",
              "    </tr>\n",
              "    <tr>\n",
              "      <th>4</th>\n",
              "      <td>188.0</td>\n",
              "      <td>133.0</td>\n",
              "      <td>9</td>\n",
              "      <td>0.0</td>\n",
              "      <td>0.0</td>\n",
              "      <td>0.333333</td>\n",
              "      <td>0.266667</td>\n",
              "      <td>0.500000</td>\n",
              "      <td>0.077778</td>\n",
              "      <td>6.666666</td>\n",
              "      <td>8.333334</td>\n",
              "      <td>7.777778</td>\n",
              "      <td>3.888889</td>\n",
              "      <td>5.000000</td>\n",
              "      <td>3.333333</td>\n",
              "      <td>-8.333333</td>\n",
              "      <td>8.444445</td>\n",
              "      <td>0.538580</td>\n",
              "    </tr>\n",
              "  </tbody>\n",
              "</table>\n",
              "</div>\n",
              "      <button class=\"colab-df-convert\" onclick=\"convertToInteractive('df-7d90449b-362d-4f53-8813-ae9976e026f9')\"\n",
              "              title=\"Convert this dataframe to an interactive table.\"\n",
              "              style=\"display:none;\">\n",
              "        \n",
              "  <svg xmlns=\"http://www.w3.org/2000/svg\" height=\"24px\"viewBox=\"0 0 24 24\"\n",
              "       width=\"24px\">\n",
              "    <path d=\"M0 0h24v24H0V0z\" fill=\"none\"/>\n",
              "    <path d=\"M18.56 5.44l.94 2.06.94-2.06 2.06-.94-2.06-.94-.94-2.06-.94 2.06-2.06.94zm-11 1L8.5 8.5l.94-2.06 2.06-.94-2.06-.94L8.5 2.5l-.94 2.06-2.06.94zm10 10l.94 2.06.94-2.06 2.06-.94-2.06-.94-.94-2.06-.94 2.06-2.06.94z\"/><path d=\"M17.41 7.96l-1.37-1.37c-.4-.4-.92-.59-1.43-.59-.52 0-1.04.2-1.43.59L10.3 9.45l-7.72 7.72c-.78.78-.78 2.05 0 2.83L4 21.41c.39.39.9.59 1.41.59.51 0 1.02-.2 1.41-.59l7.78-7.78 2.81-2.81c.8-.78.8-2.07 0-2.86zM5.41 20L4 18.59l7.72-7.72 1.47 1.35L5.41 20z\"/>\n",
              "  </svg>\n",
              "      </button>\n",
              "      \n",
              "  <style>\n",
              "    .colab-df-container {\n",
              "      display:flex;\n",
              "      flex-wrap:wrap;\n",
              "      gap: 12px;\n",
              "    }\n",
              "\n",
              "    .colab-df-convert {\n",
              "      background-color: #E8F0FE;\n",
              "      border: none;\n",
              "      border-radius: 50%;\n",
              "      cursor: pointer;\n",
              "      display: none;\n",
              "      fill: #1967D2;\n",
              "      height: 32px;\n",
              "      padding: 0 0 0 0;\n",
              "      width: 32px;\n",
              "    }\n",
              "\n",
              "    .colab-df-convert:hover {\n",
              "      background-color: #E2EBFA;\n",
              "      box-shadow: 0px 1px 2px rgba(60, 64, 67, 0.3), 0px 1px 3px 1px rgba(60, 64, 67, 0.15);\n",
              "      fill: #174EA6;\n",
              "    }\n",
              "\n",
              "    [theme=dark] .colab-df-convert {\n",
              "      background-color: #3B4455;\n",
              "      fill: #D2E3FC;\n",
              "    }\n",
              "\n",
              "    [theme=dark] .colab-df-convert:hover {\n",
              "      background-color: #434B5C;\n",
              "      box-shadow: 0px 1px 3px 1px rgba(0, 0, 0, 0.15);\n",
              "      filter: drop-shadow(0px 1px 2px rgba(0, 0, 0, 0.3));\n",
              "      fill: #FFFFFF;\n",
              "    }\n",
              "  </style>\n",
              "\n",
              "      <script>\n",
              "        const buttonEl =\n",
              "          document.querySelector('#df-7d90449b-362d-4f53-8813-ae9976e026f9 button.colab-df-convert');\n",
              "        buttonEl.style.display =\n",
              "          google.colab.kernel.accessAllowed ? 'block' : 'none';\n",
              "\n",
              "        async function convertToInteractive(key) {\n",
              "          const element = document.querySelector('#df-7d90449b-362d-4f53-8813-ae9976e026f9');\n",
              "          const dataTable =\n",
              "            await google.colab.kernel.invokeFunction('convertToInteractive',\n",
              "                                                     [key], {});\n",
              "          if (!dataTable) return;\n",
              "\n",
              "          const docLinkHtml = 'Like what you see? Visit the ' +\n",
              "            '<a target=\"_blank\" href=https://colab.research.google.com/notebooks/data_table.ipynb>data table notebook</a>'\n",
              "            + ' to learn more about interactive tables.';\n",
              "          element.innerHTML = '';\n",
              "          dataTable['output_type'] = 'display_data';\n",
              "          await google.colab.output.renderOutput(dataTable, element);\n",
              "          const docLink = document.createElement('div');\n",
              "          docLink.innerHTML = docLinkHtml;\n",
              "          element.appendChild(docLink);\n",
              "        }\n",
              "      </script>\n",
              "    </div>\n",
              "  </div>\n",
              "  "
            ]
          },
          "metadata": {},
          "execution_count": 29
        }
      ]
    },
    {
      "cell_type": "code",
      "source": [
        "import matplotlib.pyplot as plt\n",
        "segmentation.hist(bins=25, figsize=(15,15))\n",
        "plt.show()"
      ],
      "metadata": {
        "colab": {
          "base_uri": "https://localhost:8080/"
        },
        "id": "6bke2nr1prWC",
        "outputId": "1441a825-cde3-4b88-819f-8441af48bd89"
      },
      "execution_count": null,
      "outputs": [
        {
          "output_type": "display_data",
          "data": {
            "text/plain": [
              "<Figure size 1080x1080 with 20 Axes>"
            ],
            "image/png": "[encoded data removed]"
          },
          "metadata": {
            "needs_background": "light"
          }
        }
      ]
    },
    {
      "cell_type": "code",
      "source": [
        "print(\"SHORT-LINE-DENSITY-5 - unique values and counts:\", \n",
        "      np.unique(segmentation_df['SHORT-LINE-DENSITY-5'], return_counts=True))\n",
        "\n",
        "print(\"SHORT-LINE-DENSITY-2 - unique values and counts:\", \n",
        "      np.unique(segmentation_df['SHORT-LINE-DENSITY-2'], return_counts=True))\n",
        "\n",
        "# print(\"HEDGE-MEAN - unique values and counts:\", \n",
        "#       np.unique(segmentation_df['HEDGE-MEAN'], return_counts=True))\n",
        "\n",
        "print(\"VEDGE-MEAN - unique values and counts:\", \n",
        "      np.unique(segmentation_df['VEDGE-MEAN'], return_counts=True))\n",
        "\n",
        "# print(\"INTENSITY-MEAN - unique values and counts:\", \n",
        "#       np.unique(segmentation_df['INTENSITY-MEAN'], return_counts=True))"
      ],
      "metadata": {
        "colab": {
          "base_uri": "https://localhost:8080/"
        },
        "id": "UJa__aW9ywDn",
        "outputId": "7b197a2a-3fbb-4f13-9e11-808283170dfb"
      },
      "execution_count": null,
      "outputs": [
        {
          "output_type": "stream",
          "name": "stdout",
          "text": [
            "SHORT-LINE-DENSITY-5 - unique values and counts: (array(['9'], dtype=object), array([210]))\n",
            "SHORT-LINE-DENSITY-2 - unique values and counts: (array(['0.0', '0.11111111'], dtype=object), array([194,  16]))\n",
            "VEDGE-MEAN - unique values and counts: (array(['0.0', '0.11111111', '0.22222222'], dtype=object), array([200,   8,   2]))\n"
          ]
        }
      ]
    },
    {
      "cell_type": "code",
      "source": [
        "del segmentation_df['SHORT-LINE-DENSITY-5']\n",
        "del segmentation_df['SHORT-LINE-DENSITY-2']\n",
        "del segmentation_df['VEDGE-MEAN']\n",
        "\n",
        "segmentation = segmentation_df.iloc[:, 1:]\n",
        "for col in segmentation.columns:\n",
        "  segmentation[col] = pd.to_numeric(segmentation[col])\n",
        "segmentation.head(2)"
      ],
      "metadata": {
        "colab": {
          "base_uri": "https://localhost:8080/"
        },
        "id": "6grfjLFZznNr",
        "outputId": "b51eedaa-04a6-4b69-fed4-7a6a0b850ae4"
      },
      "execution_count": null,
      "outputs": [
        {
          "output_type": "execute_result",
          "data": {
            "text/plain": [
              "   REGION-CENTROID-ROW  REGION-PIXEL-COUNT  VEDGE-SD  HEDGE-MEAN  HEDGE-SD  \\\n",
              "3                140.0               125.0  0.277778    0.062963  0.666667   \n",
              "4                188.0               133.0  0.333333    0.266667  0.500000   \n",
              "\n",
              "   INTENSITY-MEAN  RAWRED-MEAN  RAWBLUE-MEAN  RAWGREEN-MEAN  EXRED-MEAN  \\\n",
              "3        0.311111     6.185185      7.333334       7.666666    3.555556   \n",
              "4        0.077778     6.666666      8.333334       7.777778    3.888889   \n",
              "\n",
              "   EXBLUE-MEAN  EXGREEN-MEAN  VALUE-MEAN  SATURATION-MEAN  HUE-MEAN  \n",
              "3     3.444444      4.444445   -7.888889         7.777778  0.545635  \n",
              "4     5.000000      3.333333   -8.333333         8.444445  0.538580  "
            ],
            "text/html": [
              "\n",
              "  <div id=\"df-e9c9e395-8f48-481e-b6da-6ae3bfe3108c\">\n",
              "    <div class=\"colab-df-container\">\n",
              "      <div>\n",
              "<style scoped>\n",
              "    .dataframe tbody tr th:only-of-type {\n",
              "        vertical-align: middle;\n",
              "    }\n",
              "\n",
              "    .dataframe tbody tr th {\n",
              "        vertical-align: top;\n",
              "    }\n",
              "\n",
              "    .dataframe thead th {\n",
              "        text-align: right;\n",
              "    }\n",
              "</style>\n",
              "<table border=\"1\" class=\"dataframe\">\n",
              "  <thead>\n",
              "    <tr style=\"text-align: right;\">\n",
              "      <th></th>\n",
              "      <th>REGION-CENTROID-ROW</th>\n",
              "      <th>REGION-PIXEL-COUNT</th>\n",
              "      <th>VEDGE-SD</th>\n",
              "      <th>HEDGE-MEAN</th>\n",
              "      <th>HEDGE-SD</th>\n",
              "      <th>INTENSITY-MEAN</th>\n",
              "      <th>RAWRED-MEAN</th>\n",
              "      <th>RAWBLUE-MEAN</th>\n",
              "      <th>RAWGREEN-MEAN</th>\n",
              "      <th>EXRED-MEAN</th>\n",
              "      <th>EXBLUE-MEAN</th>\n",
              "      <th>EXGREEN-MEAN</th>\n",
              "      <th>VALUE-MEAN</th>\n",
              "      <th>SATURATION-MEAN</th>\n",
              "      <th>HUE-MEAN</th>\n",
              "    </tr>\n",
              "  </thead>\n",
              "  <tbody>\n",
              "    <tr>\n",
              "      <th>3</th>\n",
              "      <td>140.0</td>\n",
              "      <td>125.0</td>\n",
              "      <td>0.277778</td>\n",
              "      <td>0.062963</td>\n",
              "      <td>0.666667</td>\n",
              "      <td>0.311111</td>\n",
              "      <td>6.185185</td>\n",
              "      <td>7.333334</td>\n",
              "      <td>7.666666</td>\n",
              "      <td>3.555556</td>\n",
              "      <td>3.444444</td>\n",
              "      <td>4.444445</td>\n",
              "      <td>-7.888889</td>\n",
              "      <td>7.777778</td>\n",
              "      <td>0.545635</td>\n",
              "    </tr>\n",
              "    <tr>\n",
              "      <th>4</th>\n",
              "      <td>188.0</td>\n",
              "      <td>133.0</td>\n",
              "      <td>0.333333</td>\n",
              "      <td>0.266667</td>\n",
              "      <td>0.500000</td>\n",
              "      <td>0.077778</td>\n",
              "      <td>6.666666</td>\n",
              "      <td>8.333334</td>\n",
              "      <td>7.777778</td>\n",
              "      <td>3.888889</td>\n",
              "      <td>5.000000</td>\n",
              "      <td>3.333333</td>\n",
              "      <td>-8.333333</td>\n",
              "      <td>8.444445</td>\n",
              "      <td>0.538580</td>\n",
              "    </tr>\n",
              "  </tbody>\n",
              "</table>\n",
              "</div>\n",
              "      <button class=\"colab-df-convert\" onclick=\"convertToInteractive('df-e9c9e395-8f48-481e-b6da-6ae3bfe3108c')\"\n",
              "              title=\"Convert this dataframe to an interactive table.\"\n",
              "              style=\"display:none;\">\n",
              "        \n",
              "  <svg xmlns=\"http://www.w3.org/2000/svg\" height=\"24px\"viewBox=\"0 0 24 24\"\n",
              "       width=\"24px\">\n",
              "    <path d=\"M0 0h24v24H0V0z\" fill=\"none\"/>\n",
              "    <path d=\"M18.56 5.44l.94 2.06.94-2.06 2.06-.94-2.06-.94-.94-2.06-.94 2.06-2.06.94zm-11 1L8.5 8.5l.94-2.06 2.06-.94-2.06-.94L8.5 2.5l-.94 2.06-2.06.94zm10 10l.94 2.06.94-2.06 2.06-.94-2.06-.94-.94-2.06-.94 2.06-2.06.94z\"/><path d=\"M17.41 7.96l-1.37-1.37c-.4-.4-.92-.59-1.43-.59-.52 0-1.04.2-1.43.59L10.3 9.45l-7.72 7.72c-.78.78-.78 2.05 0 2.83L4 21.41c.39.39.9.59 1.41.59.51 0 1.02-.2 1.41-.59l7.78-7.78 2.81-2.81c.8-.78.8-2.07 0-2.86zM5.41 20L4 18.59l7.72-7.72 1.47 1.35L5.41 20z\"/>\n",
              "  </svg>\n",
              "      </button>\n",
              "      \n",
              "  <style>\n",
              "    .colab-df-container {\n",
              "      display:flex;\n",
              "      flex-wrap:wrap;\n",
              "      gap: 12px;\n",
              "    }\n",
              "\n",
              "    .colab-df-convert {\n",
              "      background-color: #E8F0FE;\n",
              "      border: none;\n",
              "      border-radius: 50%;\n",
              "      cursor: pointer;\n",
              "      display: none;\n",
              "      fill: #1967D2;\n",
              "      height: 32px;\n",
              "      padding: 0 0 0 0;\n",
              "      width: 32px;\n",
              "    }\n",
              "\n",
              "    .colab-df-convert:hover {\n",
              "      background-color: #E2EBFA;\n",
              "      box-shadow: 0px 1px 2px rgba(60, 64, 67, 0.3), 0px 1px 3px 1px rgba(60, 64, 67, 0.15);\n",
              "      fill: #174EA6;\n",
              "    }\n",
              "\n",
              "    [theme=dark] .colab-df-convert {\n",
              "      background-color: #3B4455;\n",
              "      fill: #D2E3FC;\n",
              "    }\n",
              "\n",
              "    [theme=dark] .colab-df-convert:hover {\n",
              "      background-color: #434B5C;\n",
              "      box-shadow: 0px 1px 3px 1px rgba(0, 0, 0, 0.15);\n",
              "      filter: drop-shadow(0px 1px 2px rgba(0, 0, 0, 0.3));\n",
              "      fill: #FFFFFF;\n",
              "    }\n",
              "  </style>\n",
              "\n",
              "      <script>\n",
              "        const buttonEl =\n",
              "          document.querySelector('#df-e9c9e395-8f48-481e-b6da-6ae3bfe3108c button.colab-df-convert');\n",
              "        buttonEl.style.display =\n",
              "          google.colab.kernel.accessAllowed ? 'block' : 'none';\n",
              "\n",
              "        async function convertToInteractive(key) {\n",
              "          const element = document.querySelector('#df-e9c9e395-8f48-481e-b6da-6ae3bfe3108c');\n",
              "          const dataTable =\n",
              "            await google.colab.kernel.invokeFunction('convertToInteractive',\n",
              "                                                     [key], {});\n",
              "          if (!dataTable) return;\n",
              "\n",
              "          const docLinkHtml = 'Like what you see? Visit the ' +\n",
              "            '<a target=\"_blank\" href=https://colab.research.google.com/notebooks/data_table.ipynb>data table notebook</a>'\n",
              "            + ' to learn more about interactive tables.';\n",
              "          element.innerHTML = '';\n",
              "          dataTable['output_type'] = 'display_data';\n",
              "          await google.colab.output.renderOutput(dataTable, element);\n",
              "          const docLink = document.createElement('div');\n",
              "          docLink.innerHTML = docLinkHtml;\n",
              "          element.appendChild(docLink);\n",
              "        }\n",
              "      </script>\n",
              "    </div>\n",
              "  </div>\n",
              "  "
            ]
          },
          "metadata": {},
          "execution_count": 32
        }
      ]
    },
    {
      "cell_type": "code",
      "source": [
        "segmentation.hist(bins=25, figsize=(15,15))\n",
        "plt.show()"
      ],
      "metadata": {
        "colab": {
          "base_uri": "https://localhost:8080/"
        },
        "id": "fIczcAUZz0s-",
        "outputId": "a47d34db-0684-4d6d-dae8-5d415c6f959b"
      },
      "execution_count": null,
      "outputs": [
        {
          "output_type": "display_data",
          "data": {
            "text/plain": [
              "<Figure size 1080x1080 with 16 Axes>"
            ],
            "image/png": "[encoded data removed]"
          },
          "metadata": {
            "needs_background": "light"
          }
        }
      ]
    },
    {
      "cell_type": "code",
      "source": [
        "encoder = LabelEncoder()\n",
        "segmentation_df['REGION-CENTROID-COL'] = encoder.fit_transform(segmentation_df['REGION-CENTROID-COL'])\n",
        "\n",
        "segmentation_y = segmentation_df['REGION-CENTROID-COL']\n",
        "np.unique(segmentation_y, return_counts=True)"
      ],
      "metadata": {
        "colab": {
          "base_uri": "https://localhost:8080/"
        },
        "id": "3RheO3-Q95FG",
        "outputId": "29019319-4f3b-4252-a974-8d4b61ba9c08"
      },
      "execution_count": null,
      "outputs": [
        {
          "output_type": "execute_result",
          "data": {
            "text/plain": [
              "(array([0, 1, 2, 3, 4, 5, 6]), array([30, 30, 30, 30, 30, 30, 30]))"
            ]
          },
          "metadata": {},
          "execution_count": 34
        }
      ]
    },
    {
      "cell_type": "markdown",
      "source": [
        "### Wine"
      ],
      "metadata": {
        "id": "wWYZJIQPojBs"
      }
    },
    {
      "cell_type": "code",
      "source": [
        "import pandas as pd\n",
        "\n",
        "wine_df = pd.read_csv(\"wine.data\", header=None, \n",
        "                 names=['Class','Alcohol', 'Malic acid', 'Ash', 'Alcalinity of ash', \n",
        "                        'Magnesium', 'Total phenols', 'Flavanoids', \n",
        "                        'Nonflavanoid phenols', 'Proanthocyanins', 'Color intensity', 'Hue', 'OD280/OD315 of diluted wines', 'Proline'])\n",
        "wine_df.head(2)"
      ],
      "metadata": {
        "colab": {
          "base_uri": "https://localhost:8080/"
        },
        "id": "2oND_ohprzUM",
        "outputId": "329be90e-eb52-436e-b212-f305889e16ef"
      },
      "execution_count": null,
      "outputs": [
        {
          "output_type": "execute_result",
          "data": {
            "text/plain": [
              "   Class  Alcohol  Malic acid   Ash  Alcalinity of ash  Magnesium  \\\n",
              "0      1    14.23        1.71  2.43               15.6        127   \n",
              "1      1    13.20        1.78  2.14               11.2        100   \n",
              "\n",
              "   Total phenols  Flavanoids  Nonflavanoid phenols  Proanthocyanins  \\\n",
              "0           2.80        3.06                  0.28             2.29   \n",
              "1           2.65        2.76                  0.26             1.28   \n",
              "\n",
              "   Color intensity   Hue  OD280/OD315 of diluted wines  Proline  \n",
              "0             5.64  1.04                          3.92     1065  \n",
              "1             4.38  1.05                          3.40     1050  "
            ],
            "text/html": [
              "\n",
              "  <div id=\"df-adb9cd3d-b95c-47a8-9186-968c2f961140\">\n",
              "    <div class=\"colab-df-container\">\n",
              "      <div>\n",
              "<style scoped>\n",
              "    .dataframe tbody tr th:only-of-type {\n",
              "        vertical-align: middle;\n",
              "    }\n",
              "\n",
              "    .dataframe tbody tr th {\n",
              "        vertical-align: top;\n",
              "    }\n",
              "\n",
              "    .dataframe thead th {\n",
              "        text-align: right;\n",
              "    }\n",
              "</style>\n",
              "<table border=\"1\" class=\"dataframe\">\n",
              "  <thead>\n",
              "    <tr style=\"text-align: right;\">\n",
              "      <th></th>\n",
              "      <th>Class</th>\n",
              "      <th>Alcohol</th>\n",
              "      <th>Malic acid</th>\n",
              "      <th>Ash</th>\n",
              "      <th>Alcalinity of ash</th>\n",
              "      <th>Magnesium</th>\n",
              "      <th>Total phenols</th>\n",
              "      <th>Flavanoids</th>\n",
              "      <th>Nonflavanoid phenols</th>\n",
              "      <th>Proanthocyanins</th>\n",
              "      <th>Color intensity</th>\n",
              "      <th>Hue</th>\n",
              "      <th>OD280/OD315 of diluted wines</th>\n",
              "      <th>Proline</th>\n",
              "    </tr>\n",
              "  </thead>\n",
              "  <tbody>\n",
              "    <tr>\n",
              "      <th>0</th>\n",
              "      <td>1</td>\n",
              "      <td>14.23</td>\n",
              "      <td>1.71</td>\n",
              "      <td>2.43</td>\n",
              "      <td>15.6</td>\n",
              "      <td>127</td>\n",
              "      <td>2.80</td>\n",
              "      <td>3.06</td>\n",
              "      <td>0.28</td>\n",
              "      <td>2.29</td>\n",
              "      <td>5.64</td>\n",
              "      <td>1.04</td>\n",
              "      <td>3.92</td>\n",
              "      <td>1065</td>\n",
              "    </tr>\n",
              "    <tr>\n",
              "      <th>1</th>\n",
              "      <td>1</td>\n",
              "      <td>13.20</td>\n",
              "      <td>1.78</td>\n",
              "      <td>2.14</td>\n",
              "      <td>11.2</td>\n",
              "      <td>100</td>\n",
              "      <td>2.65</td>\n",
              "      <td>2.76</td>\n",
              "      <td>0.26</td>\n",
              "      <td>1.28</td>\n",
              "      <td>4.38</td>\n",
              "      <td>1.05</td>\n",
              "      <td>3.40</td>\n",
              "      <td>1050</td>\n",
              "    </tr>\n",
              "  </tbody>\n",
              "</table>\n",
              "</div>\n",
              "      <button class=\"colab-df-convert\" onclick=\"convertToInteractive('df-adb9cd3d-b95c-47a8-9186-968c2f961140')\"\n",
              "              title=\"Convert this dataframe to an interactive table.\"\n",
              "              style=\"display:none;\">\n",
              "        \n",
              "  <svg xmlns=\"http://www.w3.org/2000/svg\" height=\"24px\"viewBox=\"0 0 24 24\"\n",
              "       width=\"24px\">\n",
              "    <path d=\"M0 0h24v24H0V0z\" fill=\"none\"/>\n",
              "    <path d=\"M18.56 5.44l.94 2.06.94-2.06 2.06-.94-2.06-.94-.94-2.06-.94 2.06-2.06.94zm-11 1L8.5 8.5l.94-2.06 2.06-.94-2.06-.94L8.5 2.5l-.94 2.06-2.06.94zm10 10l.94 2.06.94-2.06 2.06-.94-2.06-.94-.94-2.06-.94 2.06-2.06.94z\"/><path d=\"M17.41 7.96l-1.37-1.37c-.4-.4-.92-.59-1.43-.59-.52 0-1.04.2-1.43.59L10.3 9.45l-7.72 7.72c-.78.78-.78 2.05 0 2.83L4 21.41c.39.39.9.59 1.41.59.51 0 1.02-.2 1.41-.59l7.78-7.78 2.81-2.81c.8-.78.8-2.07 0-2.86zM5.41 20L4 18.59l7.72-7.72 1.47 1.35L5.41 20z\"/>\n",
              "  </svg>\n",
              "      </button>\n",
              "      \n",
              "  <style>\n",
              "    .colab-df-container {\n",
              "      display:flex;\n",
              "      flex-wrap:wrap;\n",
              "      gap: 12px;\n",
              "    }\n",
              "\n",
              "    .colab-df-convert {\n",
              "      background-color: #E8F0FE;\n",
              "      border: none;\n",
              "      border-radius: 50%;\n",
              "      cursor: pointer;\n",
              "      display: none;\n",
              "      fill: #1967D2;\n",
              "      height: 32px;\n",
              "      padding: 0 0 0 0;\n",
              "      width: 32px;\n",
              "    }\n",
              "\n",
              "    .colab-df-convert:hover {\n",
              "      background-color: #E2EBFA;\n",
              "      box-shadow: 0px 1px 2px rgba(60, 64, 67, 0.3), 0px 1px 3px 1px rgba(60, 64, 67, 0.15);\n",
              "      fill: #174EA6;\n",
              "    }\n",
              "\n",
              "    [theme=dark] .colab-df-convert {\n",
              "      background-color: #3B4455;\n",
              "      fill: #D2E3FC;\n",
              "    }\n",
              "\n",
              "    [theme=dark] .colab-df-convert:hover {\n",
              "      background-color: #434B5C;\n",
              "      box-shadow: 0px 1px 3px 1px rgba(0, 0, 0, 0.15);\n",
              "      filter: drop-shadow(0px 1px 2px rgba(0, 0, 0, 0.3));\n",
              "      fill: #FFFFFF;\n",
              "    }\n",
              "  </style>\n",
              "\n",
              "      <script>\n",
              "        const buttonEl =\n",
              "          document.querySelector('#df-adb9cd3d-b95c-47a8-9186-968c2f961140 button.colab-df-convert');\n",
              "        buttonEl.style.display =\n",
              "          google.colab.kernel.accessAllowed ? 'block' : 'none';\n",
              "\n",
              "        async function convertToInteractive(key) {\n",
              "          const element = document.querySelector('#df-adb9cd3d-b95c-47a8-9186-968c2f961140');\n",
              "          const dataTable =\n",
              "            await google.colab.kernel.invokeFunction('convertToInteractive',\n",
              "                                                     [key], {});\n",
              "          if (!dataTable) return;\n",
              "\n",
              "          const docLinkHtml = 'Like what you see? Visit the ' +\n",
              "            '<a target=\"_blank\" href=https://colab.research.google.com/notebooks/data_table.ipynb>data table notebook</a>'\n",
              "            + ' to learn more about interactive tables.';\n",
              "          element.innerHTML = '';\n",
              "          dataTable['output_type'] = 'display_data';\n",
              "          await google.colab.output.renderOutput(dataTable, element);\n",
              "          const docLink = document.createElement('div');\n",
              "          docLink.innerHTML = docLinkHtml;\n",
              "          element.appendChild(docLink);\n",
              "        }\n",
              "      </script>\n",
              "    </div>\n",
              "  </div>\n",
              "  "
            ]
          },
          "metadata": {},
          "execution_count": 35
        }
      ]
    },
    {
      "cell_type": "code",
      "source": [
        "wine = wine_df.iloc[:, 1:]\n",
        "wine.head()"
      ],
      "metadata": {
        "colab": {
          "base_uri": "https://localhost:8080/"
        },
        "id": "fKGF4xcTssXu",
        "outputId": "00639bd9-0a61-401a-b818-5ea4c40c1cf7"
      },
      "execution_count": null,
      "outputs": [
        {
          "output_type": "execute_result",
          "data": {
            "text/plain": [
              "   Alcohol  Malic acid   Ash  Alcalinity of ash  Magnesium  Total phenols  \\\n",
              "0    14.23        1.71  2.43               15.6        127           2.80   \n",
              "1    13.20        1.78  2.14               11.2        100           2.65   \n",
              "2    13.16        2.36  2.67               18.6        101           2.80   \n",
              "3    14.37        1.95  2.50               16.8        113           3.85   \n",
              "4    13.24        2.59  2.87               21.0        118           2.80   \n",
              "\n",
              "   Flavanoids  Nonflavanoid phenols  Proanthocyanins  Color intensity   Hue  \\\n",
              "0        3.06                  0.28             2.29             5.64  1.04   \n",
              "1        2.76                  0.26             1.28             4.38  1.05   \n",
              "2        3.24                  0.30             2.81             5.68  1.03   \n",
              "3        3.49                  0.24             2.18             7.80  0.86   \n",
              "4        2.69                  0.39             1.82             4.32  1.04   \n",
              "\n",
              "   OD280/OD315 of diluted wines  Proline  \n",
              "0                          3.92     1065  \n",
              "1                          3.40     1050  \n",
              "2                          3.17     1185  \n",
              "3                          3.45     1480  \n",
              "4                          2.93      735  "
            ],
            "text/html": [
              "\n",
              "  <div id=\"df-0f864ed5-64fc-4e23-bfa6-7b265dcfbd14\">\n",
              "    <div class=\"colab-df-container\">\n",
              "      <div>\n",
              "<style scoped>\n",
              "    .dataframe tbody tr th:only-of-type {\n",
              "        vertical-align: middle;\n",
              "    }\n",
              "\n",
              "    .dataframe tbody tr th {\n",
              "        vertical-align: top;\n",
              "    }\n",
              "\n",
              "    .dataframe thead th {\n",
              "        text-align: right;\n",
              "    }\n",
              "</style>\n",
              "<table border=\"1\" class=\"dataframe\">\n",
              "  <thead>\n",
              "    <tr style=\"text-align: right;\">\n",
              "      <th></th>\n",
              "      <th>Alcohol</th>\n",
              "      <th>Malic acid</th>\n",
              "      <th>Ash</th>\n",
              "      <th>Alcalinity of ash</th>\n",
              "      <th>Magnesium</th>\n",
              "      <th>Total phenols</th>\n",
              "      <th>Flavanoids</th>\n",
              "      <th>Nonflavanoid phenols</th>\n",
              "      <th>Proanthocyanins</th>\n",
              "      <th>Color intensity</th>\n",
              "      <th>Hue</th>\n",
              "      <th>OD280/OD315 of diluted wines</th>\n",
              "      <th>Proline</th>\n",
              "    </tr>\n",
              "  </thead>\n",
              "  <tbody>\n",
              "    <tr>\n",
              "      <th>0</th>\n",
              "      <td>14.23</td>\n",
              "      <td>1.71</td>\n",
              "      <td>2.43</td>\n",
              "      <td>15.6</td>\n",
              "      <td>127</td>\n",
              "      <td>2.80</td>\n",
              "      <td>3.06</td>\n",
              "      <td>0.28</td>\n",
              "      <td>2.29</td>\n",
              "      <td>5.64</td>\n",
              "      <td>1.04</td>\n",
              "      <td>3.92</td>\n",
              "      <td>1065</td>\n",
              "    </tr>\n",
              "    <tr>\n",
              "      <th>1</th>\n",
              "      <td>13.20</td>\n",
              "      <td>1.78</td>\n",
              "      <td>2.14</td>\n",
              "      <td>11.2</td>\n",
              "      <td>100</td>\n",
              "      <td>2.65</td>\n",
              "      <td>2.76</td>\n",
              "      <td>0.26</td>\n",
              "      <td>1.28</td>\n",
              "      <td>4.38</td>\n",
              "      <td>1.05</td>\n",
              "      <td>3.40</td>\n",
              "      <td>1050</td>\n",
              "    </tr>\n",
              "    <tr>\n",
              "      <th>2</th>\n",
              "      <td>13.16</td>\n",
              "      <td>2.36</td>\n",
              "      <td>2.67</td>\n",
              "      <td>18.6</td>\n",
              "      <td>101</td>\n",
              "      <td>2.80</td>\n",
              "      <td>3.24</td>\n",
              "      <td>0.30</td>\n",
              "      <td>2.81</td>\n",
              "      <td>5.68</td>\n",
              "      <td>1.03</td>\n",
              "      <td>3.17</td>\n",
              "      <td>1185</td>\n",
              "    </tr>\n",
              "    <tr>\n",
              "      <th>3</th>\n",
              "      <td>14.37</td>\n",
              "      <td>1.95</td>\n",
              "      <td>2.50</td>\n",
              "      <td>16.8</td>\n",
              "      <td>113</td>\n",
              "      <td>3.85</td>\n",
              "      <td>3.49</td>\n",
              "      <td>0.24</td>\n",
              "      <td>2.18</td>\n",
              "      <td>7.80</td>\n",
              "      <td>0.86</td>\n",
              "      <td>3.45</td>\n",
              "      <td>1480</td>\n",
              "    </tr>\n",
              "    <tr>\n",
              "      <th>4</th>\n",
              "      <td>13.24</td>\n",
              "      <td>2.59</td>\n",
              "      <td>2.87</td>\n",
              "      <td>21.0</td>\n",
              "      <td>118</td>\n",
              "      <td>2.80</td>\n",
              "      <td>2.69</td>\n",
              "      <td>0.39</td>\n",
              "      <td>1.82</td>\n",
              "      <td>4.32</td>\n",
              "      <td>1.04</td>\n",
              "      <td>2.93</td>\n",
              "      <td>735</td>\n",
              "    </tr>\n",
              "  </tbody>\n",
              "</table>\n",
              "</div>\n",
              "      <button class=\"colab-df-convert\" onclick=\"convertToInteractive('df-0f864ed5-64fc-4e23-bfa6-7b265dcfbd14')\"\n",
              "              title=\"Convert this dataframe to an interactive table.\"\n",
              "              style=\"display:none;\">\n",
              "        \n",
              "  <svg xmlns=\"http://www.w3.org/2000/svg\" height=\"24px\"viewBox=\"0 0 24 24\"\n",
              "       width=\"24px\">\n",
              "    <path d=\"M0 0h24v24H0V0z\" fill=\"none\"/>\n",
              "    <path d=\"M18.56 5.44l.94 2.06.94-2.06 2.06-.94-2.06-.94-.94-2.06-.94 2.06-2.06.94zm-11 1L8.5 8.5l.94-2.06 2.06-.94-2.06-.94L8.5 2.5l-.94 2.06-2.06.94zm10 10l.94 2.06.94-2.06 2.06-.94-2.06-.94-.94-2.06-.94 2.06-2.06.94z\"/><path d=\"M17.41 7.96l-1.37-1.37c-.4-.4-.92-.59-1.43-.59-.52 0-1.04.2-1.43.59L10.3 9.45l-7.72 7.72c-.78.78-.78 2.05 0 2.83L4 21.41c.39.39.9.59 1.41.59.51 0 1.02-.2 1.41-.59l7.78-7.78 2.81-2.81c.8-.78.8-2.07 0-2.86zM5.41 20L4 18.59l7.72-7.72 1.47 1.35L5.41 20z\"/>\n",
              "  </svg>\n",
              "      </button>\n",
              "      \n",
              "  <style>\n",
              "    .colab-df-container {\n",
              "      display:flex;\n",
              "      flex-wrap:wrap;\n",
              "      gap: 12px;\n",
              "    }\n",
              "\n",
              "    .colab-df-convert {\n",
              "      background-color: #E8F0FE;\n",
              "      border: none;\n",
              "      border-radius: 50%;\n",
              "      cursor: pointer;\n",
              "      display: none;\n",
              "      fill: #1967D2;\n",
              "      height: 32px;\n",
              "      padding: 0 0 0 0;\n",
              "      width: 32px;\n",
              "    }\n",
              "\n",
              "    .colab-df-convert:hover {\n",
              "      background-color: #E2EBFA;\n",
              "      box-shadow: 0px 1px 2px rgba(60, 64, 67, 0.3), 0px 1px 3px 1px rgba(60, 64, 67, 0.15);\n",
              "      fill: #174EA6;\n",
              "    }\n",
              "\n",
              "    [theme=dark] .colab-df-convert {\n",
              "      background-color: #3B4455;\n",
              "      fill: #D2E3FC;\n",
              "    }\n",
              "\n",
              "    [theme=dark] .colab-df-convert:hover {\n",
              "      background-color: #434B5C;\n",
              "      box-shadow: 0px 1px 3px 1px rgba(0, 0, 0, 0.15);\n",
              "      filter: drop-shadow(0px 1px 2px rgba(0, 0, 0, 0.3));\n",
              "      fill: #FFFFFF;\n",
              "    }\n",
              "  </style>\n",
              "\n",
              "      <script>\n",
              "        const buttonEl =\n",
              "          document.querySelector('#df-0f864ed5-64fc-4e23-bfa6-7b265dcfbd14 button.colab-df-convert');\n",
              "        buttonEl.style.display =\n",
              "          google.colab.kernel.accessAllowed ? 'block' : 'none';\n",
              "\n",
              "        async function convertToInteractive(key) {\n",
              "          const element = document.querySelector('#df-0f864ed5-64fc-4e23-bfa6-7b265dcfbd14');\n",
              "          const dataTable =\n",
              "            await google.colab.kernel.invokeFunction('convertToInteractive',\n",
              "                                                     [key], {});\n",
              "          if (!dataTable) return;\n",
              "\n",
              "          const docLinkHtml = 'Like what you see? Visit the ' +\n",
              "            '<a target=\"_blank\" href=https://colab.research.google.com/notebooks/data_table.ipynb>data table notebook</a>'\n",
              "            + ' to learn more about interactive tables.';\n",
              "          element.innerHTML = '';\n",
              "          dataTable['output_type'] = 'display_data';\n",
              "          await google.colab.output.renderOutput(dataTable, element);\n",
              "          const docLink = document.createElement('div');\n",
              "          docLink.innerHTML = docLinkHtml;\n",
              "          element.appendChild(docLink);\n",
              "        }\n",
              "      </script>\n",
              "    </div>\n",
              "  </div>\n",
              "  "
            ]
          },
          "metadata": {},
          "execution_count": 36
        }
      ]
    },
    {
      "cell_type": "code",
      "source": [
        "import matplotlib.pyplot as plt\n",
        "wine.hist(bins=25, figsize=(15,15))\n",
        "plt.show()"
      ],
      "metadata": {
        "colab": {
          "base_uri": "https://localhost:8080/"
        },
        "id": "hklsDZNBsu7L",
        "outputId": "3e745929-2928-484b-fc96-29761657dfba"
      },
      "execution_count": null,
      "outputs": [
        {
          "output_type": "display_data",
          "data": {
            "text/plain": [
              "<Figure size 1080x1080 with 16 Axes>"
            ],
            "image/png": "[encoded data removed]"
          },
          "metadata": {
            "needs_background": "light"
          }
        }
      ]
    },
    {
      "cell_type": "code",
      "source": [
        "wine_y = wine_df['Class']\n",
        "np.unique(wine_y, return_counts=True)"
      ],
      "metadata": {
        "colab": {
          "base_uri": "https://localhost:8080/"
        },
        "id": "VvWTOYIQ-ZUp",
        "outputId": "8481aba6-35cd-444f-eae8-64cfb2645faf"
      },
      "execution_count": null,
      "outputs": [
        {
          "output_type": "execute_result",
          "data": {
            "text/plain": [
              "(array([1, 2, 3]), array([59, 71, 48]))"
            ]
          },
          "metadata": {},
          "execution_count": 38
        }
      ]
    },
    {
      "cell_type": "markdown",
      "source": [
        "### Zoo"
      ],
      "metadata": {
        "id": "hxACy5-boknb"
      }
    },
    {
      "cell_type": "code",
      "source": [
        "import pandas as pd\n",
        "\n",
        "zoo_df = pd.read_csv(\"zoo.data\", header=None, \n",
        "                 names=['animal name','hair','feathers','eggs','milk',\n",
        "                        'airborne','aquatic','predator','toothed','backbone',\n",
        "                        'breathes','venomous','fins','legs','tail','domestic',\n",
        "                        'catsize','Class'])\n",
        "zoo_df.head()"
      ],
      "metadata": {
        "colab": {
          "base_uri": "https://localhost:8080/"
        },
        "id": "7ohZsNAGtTBG",
        "outputId": "6c35d506-5b51-4987-ea6a-74f62ce776be"
      },
      "execution_count": null,
      "outputs": [
        {
          "output_type": "execute_result",
          "data": {
            "text/plain": [
              "  animal name  hair  feathers  eggs  milk  airborne  aquatic  predator  \\\n",
              "0    aardvark     1         0     0     1         0        0         1   \n",
              "1    antelope     1         0     0     1         0        0         0   \n",
              "2        bass     0         0     1     0         0        1         1   \n",
              "3        bear     1         0     0     1         0        0         1   \n",
              "4        boar     1         0     0     1         0        0         1   \n",
              "\n",
              "   toothed  backbone  breathes  venomous  fins  legs  tail  domestic  catsize  \\\n",
              "0        1         1         1         0     0     4     0         0        1   \n",
              "1        1         1         1         0     0     4     1         0        1   \n",
              "2        1         1         0         0     1     0     1         0        0   \n",
              "3        1         1         1         0     0     4     0         0        1   \n",
              "4        1         1         1         0     0     4     1         0        1   \n",
              "\n",
              "   Class  \n",
              "0      1  \n",
              "1      1  \n",
              "2      4  \n",
              "3      1  \n",
              "4      1  "
            ],
            "text/html": [
              "\n",
              "  <div id=\"df-fe0c59f9-f540-4ab5-aa62-750136c5c30c\">\n",
              "    <div class=\"colab-df-container\">\n",
              "      <div>\n",
              "<style scoped>\n",
              "    .dataframe tbody tr th:only-of-type {\n",
              "        vertical-align: middle;\n",
              "    }\n",
              "\n",
              "    .dataframe tbody tr th {\n",
              "        vertical-align: top;\n",
              "    }\n",
              "\n",
              "    .dataframe thead th {\n",
              "        text-align: right;\n",
              "    }\n",
              "</style>\n",
              "<table border=\"1\" class=\"dataframe\">\n",
              "  <thead>\n",
              "    <tr style=\"text-align: right;\">\n",
              "      <th></th>\n",
              "      <th>animal name</th>\n",
              "      <th>hair</th>\n",
              "      <th>feathers</th>\n",
              "      <th>eggs</th>\n",
              "      <th>milk</th>\n",
              "      <th>airborne</th>\n",
              "      <th>aquatic</th>\n",
              "      <th>predator</th>\n",
              "      <th>toothed</th>\n",
              "      <th>backbone</th>\n",
              "      <th>breathes</th>\n",
              "      <th>venomous</th>\n",
              "      <th>fins</th>\n",
              "      <th>legs</th>\n",
              "      <th>tail</th>\n",
              "      <th>domestic</th>\n",
              "      <th>catsize</th>\n",
              "      <th>Class</th>\n",
              "    </tr>\n",
              "  </thead>\n",
              "  <tbody>\n",
              "    <tr>\n",
              "      <th>0</th>\n",
              "      <td>aardvark</td>\n",
              "      <td>1</td>\n",
              "      <td>0</td>\n",
              "      <td>0</td>\n",
              "      <td>1</td>\n",
              "      <td>0</td>\n",
              "      <td>0</td>\n",
              "      <td>1</td>\n",
              "      <td>1</td>\n",
              "      <td>1</td>\n",
              "      <td>1</td>\n",
              "      <td>0</td>\n",
              "      <td>0</td>\n",
              "      <td>4</td>\n",
              "      <td>0</td>\n",
              "      <td>0</td>\n",
              "      <td>1</td>\n",
              "      <td>1</td>\n",
              "    </tr>\n",
              "    <tr>\n",
              "      <th>1</th>\n",
              "      <td>antelope</td>\n",
              "      <td>1</td>\n",
              "      <td>0</td>\n",
              "      <td>0</td>\n",
              "      <td>1</td>\n",
              "      <td>0</td>\n",
              "      <td>0</td>\n",
              "      <td>0</td>\n",
              "      <td>1</td>\n",
              "      <td>1</td>\n",
              "      <td>1</td>\n",
              "      <td>0</td>\n",
              "      <td>0</td>\n",
              "      <td>4</td>\n",
              "      <td>1</td>\n",
              "      <td>0</td>\n",
              "      <td>1</td>\n",
              "      <td>1</td>\n",
              "    </tr>\n",
              "    <tr>\n",
              "      <th>2</th>\n",
              "      <td>bass</td>\n",
              "      <td>0</td>\n",
              "      <td>0</td>\n",
              "      <td>1</td>\n",
              "      <td>0</td>\n",
              "      <td>0</td>\n",
              "      <td>1</td>\n",
              "      <td>1</td>\n",
              "      <td>1</td>\n",
              "      <td>1</td>\n",
              "      <td>0</td>\n",
              "      <td>0</td>\n",
              "      <td>1</td>\n",
              "      <td>0</td>\n",
              "      <td>1</td>\n",
              "      <td>0</td>\n",
              "      <td>0</td>\n",
              "      <td>4</td>\n",
              "    </tr>\n",
              "    <tr>\n",
              "      <th>3</th>\n",
              "      <td>bear</td>\n",
              "      <td>1</td>\n",
              "      <td>0</td>\n",
              "      <td>0</td>\n",
              "      <td>1</td>\n",
              "      <td>0</td>\n",
              "      <td>0</td>\n",
              "      <td>1</td>\n",
              "      <td>1</td>\n",
              "      <td>1</td>\n",
              "      <td>1</td>\n",
              "      <td>0</td>\n",
              "      <td>0</td>\n",
              "      <td>4</td>\n",
              "      <td>0</td>\n",
              "      <td>0</td>\n",
              "      <td>1</td>\n",
              "      <td>1</td>\n",
              "    </tr>\n",
              "    <tr>\n",
              "      <th>4</th>\n",
              "      <td>boar</td>\n",
              "      <td>1</td>\n",
              "      <td>0</td>\n",
              "      <td>0</td>\n",
              "      <td>1</td>\n",
              "      <td>0</td>\n",
              "      <td>0</td>\n",
              "      <td>1</td>\n",
              "      <td>1</td>\n",
              "      <td>1</td>\n",
              "      <td>1</td>\n",
              "      <td>0</td>\n",
              "      <td>0</td>\n",
              "      <td>4</td>\n",
              "      <td>1</td>\n",
              "      <td>0</td>\n",
              "      <td>1</td>\n",
              "      <td>1</td>\n",
              "    </tr>\n",
              "  </tbody>\n",
              "</table>\n",
              "</div>\n",
              "      <button class=\"colab-df-convert\" onclick=\"convertToInteractive('df-fe0c59f9-f540-4ab5-aa62-750136c5c30c')\"\n",
              "              title=\"Convert this dataframe to an interactive table.\"\n",
              "              style=\"display:none;\">\n",
              "        \n",
              "  <svg xmlns=\"http://www.w3.org/2000/svg\" height=\"24px\"viewBox=\"0 0 24 24\"\n",
              "       width=\"24px\">\n",
              "    <path d=\"M0 0h24v24H0V0z\" fill=\"none\"/>\n",
              "    <path d=\"M18.56 5.44l.94 2.06.94-2.06 2.06-.94-2.06-.94-.94-2.06-.94 2.06-2.06.94zm-11 1L8.5 8.5l.94-2.06 2.06-.94-2.06-.94L8.5 2.5l-.94 2.06-2.06.94zm10 10l.94 2.06.94-2.06 2.06-.94-2.06-.94-.94-2.06-.94 2.06-2.06.94z\"/><path d=\"M17.41 7.96l-1.37-1.37c-.4-.4-.92-.59-1.43-.59-.52 0-1.04.2-1.43.59L10.3 9.45l-7.72 7.72c-.78.78-.78 2.05 0 2.83L4 21.41c.39.39.9.59 1.41.59.51 0 1.02-.2 1.41-.59l7.78-7.78 2.81-2.81c.8-.78.8-2.07 0-2.86zM5.41 20L4 18.59l7.72-7.72 1.47 1.35L5.41 20z\"/>\n",
              "  </svg>\n",
              "      </button>\n",
              "      \n",
              "  <style>\n",
              "    .colab-df-container {\n",
              "      display:flex;\n",
              "      flex-wrap:wrap;\n",
              "      gap: 12px;\n",
              "    }\n",
              "\n",
              "    .colab-df-convert {\n",
              "      background-color: #E8F0FE;\n",
              "      border: none;\n",
              "      border-radius: 50%;\n",
              "      cursor: pointer;\n",
              "      display: none;\n",
              "      fill: #1967D2;\n",
              "      height: 32px;\n",
              "      padding: 0 0 0 0;\n",
              "      width: 32px;\n",
              "    }\n",
              "\n",
              "    .colab-df-convert:hover {\n",
              "      background-color: #E2EBFA;\n",
              "      box-shadow: 0px 1px 2px rgba(60, 64, 67, 0.3), 0px 1px 3px 1px rgba(60, 64, 67, 0.15);\n",
              "      fill: #174EA6;\n",
              "    }\n",
              "\n",
              "    [theme=dark] .colab-df-convert {\n",
              "      background-color: #3B4455;\n",
              "      fill: #D2E3FC;\n",
              "    }\n",
              "\n",
              "    [theme=dark] .colab-df-convert:hover {\n",
              "      background-color: #434B5C;\n",
              "      box-shadow: 0px 1px 3px 1px rgba(0, 0, 0, 0.15);\n",
              "      filter: drop-shadow(0px 1px 2px rgba(0, 0, 0, 0.3));\n",
              "      fill: #FFFFFF;\n",
              "    }\n",
              "  </style>\n",
              "\n",
              "      <script>\n",
              "        const buttonEl =\n",
              "          document.querySelector('#df-fe0c59f9-f540-4ab5-aa62-750136c5c30c button.colab-df-convert');\n",
              "        buttonEl.style.display =\n",
              "          google.colab.kernel.accessAllowed ? 'block' : 'none';\n",
              "\n",
              "        async function convertToInteractive(key) {\n",
              "          const element = document.querySelector('#df-fe0c59f9-f540-4ab5-aa62-750136c5c30c');\n",
              "          const dataTable =\n",
              "            await google.colab.kernel.invokeFunction('convertToInteractive',\n",
              "                                                     [key], {});\n",
              "          if (!dataTable) return;\n",
              "\n",
              "          const docLinkHtml = 'Like what you see? Visit the ' +\n",
              "            '<a target=\"_blank\" href=https://colab.research.google.com/notebooks/data_table.ipynb>data table notebook</a>'\n",
              "            + ' to learn more about interactive tables.';\n",
              "          element.innerHTML = '';\n",
              "          dataTable['output_type'] = 'display_data';\n",
              "          await google.colab.output.renderOutput(dataTable, element);\n",
              "          const docLink = document.createElement('div');\n",
              "          docLink.innerHTML = docLinkHtml;\n",
              "          element.appendChild(docLink);\n",
              "        }\n",
              "      </script>\n",
              "    </div>\n",
              "  </div>\n",
              "  "
            ]
          },
          "metadata": {},
          "execution_count": 39
        }
      ]
    },
    {
      "cell_type": "code",
      "source": [
        "zoo = zoo_df.iloc[:, 1:zoo_df.shape[1] - 1]\n",
        "zoo.head()"
      ],
      "metadata": {
        "colab": {
          "base_uri": "https://localhost:8080/"
        },
        "id": "xpoik8F3uTeV",
        "outputId": "4f5f10d5-fc5f-43a4-a708-7fb72fbcc894"
      },
      "execution_count": null,
      "outputs": [
        {
          "output_type": "execute_result",
          "data": {
            "text/plain": [
              "   hair  feathers  eggs  milk  airborne  aquatic  predator  toothed  backbone  \\\n",
              "0     1         0     0     1         0        0         1        1         1   \n",
              "1     1         0     0     1         0        0         0        1         1   \n",
              "2     0         0     1     0         0        1         1        1         1   \n",
              "3     1         0     0     1         0        0         1        1         1   \n",
              "4     1         0     0     1         0        0         1        1         1   \n",
              "\n",
              "   breathes  venomous  fins  legs  tail  domestic  catsize  \n",
              "0         1         0     0     4     0         0        1  \n",
              "1         1         0     0     4     1         0        1  \n",
              "2         0         0     1     0     1         0        0  \n",
              "3         1         0     0     4     0         0        1  \n",
              "4         1         0     0     4     1         0        1  "
            ],
            "text/html": [
              "\n",
              "  <div id=\"df-95c55b04-7377-464a-b908-673865efc22d\">\n",
              "    <div class=\"colab-df-container\">\n",
              "      <div>\n",
              "<style scoped>\n",
              "    .dataframe tbody tr th:only-of-type {\n",
              "        vertical-align: middle;\n",
              "    }\n",
              "\n",
              "    .dataframe tbody tr th {\n",
              "        vertical-align: top;\n",
              "    }\n",
              "\n",
              "    .dataframe thead th {\n",
              "        text-align: right;\n",
              "    }\n",
              "</style>\n",
              "<table border=\"1\" class=\"dataframe\">\n",
              "  <thead>\n",
              "    <tr style=\"text-align: right;\">\n",
              "      <th></th>\n",
              "      <th>hair</th>\n",
              "      <th>feathers</th>\n",
              "      <th>eggs</th>\n",
              "      <th>milk</th>\n",
              "      <th>airborne</th>\n",
              "      <th>aquatic</th>\n",
              "      <th>predator</th>\n",
              "      <th>toothed</th>\n",
              "      <th>backbone</th>\n",
              "      <th>breathes</th>\n",
              "      <th>venomous</th>\n",
              "      <th>fins</th>\n",
              "      <th>legs</th>\n",
              "      <th>tail</th>\n",
              "      <th>domestic</th>\n",
              "      <th>catsize</th>\n",
              "    </tr>\n",
              "  </thead>\n",
              "  <tbody>\n",
              "    <tr>\n",
              "      <th>0</th>\n",
              "      <td>1</td>\n",
              "      <td>0</td>\n",
              "      <td>0</td>\n",
              "      <td>1</td>\n",
              "      <td>0</td>\n",
              "      <td>0</td>\n",
              "      <td>1</td>\n",
              "      <td>1</td>\n",
              "      <td>1</td>\n",
              "      <td>1</td>\n",
              "      <td>0</td>\n",
              "      <td>0</td>\n",
              "      <td>4</td>\n",
              "      <td>0</td>\n",
              "      <td>0</td>\n",
              "      <td>1</td>\n",
              "    </tr>\n",
              "    <tr>\n",
              "      <th>1</th>\n",
              "      <td>1</td>\n",
              "      <td>0</td>\n",
              "      <td>0</td>\n",
              "      <td>1</td>\n",
              "      <td>0</td>\n",
              "      <td>0</td>\n",
              "      <td>0</td>\n",
              "      <td>1</td>\n",
              "      <td>1</td>\n",
              "      <td>1</td>\n",
              "      <td>0</td>\n",
              "      <td>0</td>\n",
              "      <td>4</td>\n",
              "      <td>1</td>\n",
              "      <td>0</td>\n",
              "      <td>1</td>\n",
              "    </tr>\n",
              "    <tr>\n",
              "      <th>2</th>\n",
              "      <td>0</td>\n",
              "      <td>0</td>\n",
              "      <td>1</td>\n",
              "      <td>0</td>\n",
              "      <td>0</td>\n",
              "      <td>1</td>\n",
              "      <td>1</td>\n",
              "      <td>1</td>\n",
              "      <td>1</td>\n",
              "      <td>0</td>\n",
              "      <td>0</td>\n",
              "      <td>1</td>\n",
              "      <td>0</td>\n",
              "      <td>1</td>\n",
              "      <td>0</td>\n",
              "      <td>0</td>\n",
              "    </tr>\n",
              "    <tr>\n",
              "      <th>3</th>\n",
              "      <td>1</td>\n",
              "      <td>0</td>\n",
              "      <td>0</td>\n",
              "      <td>1</td>\n",
              "      <td>0</td>\n",
              "      <td>0</td>\n",
              "      <td>1</td>\n",
              "      <td>1</td>\n",
              "      <td>1</td>\n",
              "      <td>1</td>\n",
              "      <td>0</td>\n",
              "      <td>0</td>\n",
              "      <td>4</td>\n",
              "      <td>0</td>\n",
              "      <td>0</td>\n",
              "      <td>1</td>\n",
              "    </tr>\n",
              "    <tr>\n",
              "      <th>4</th>\n",
              "      <td>1</td>\n",
              "      <td>0</td>\n",
              "      <td>0</td>\n",
              "      <td>1</td>\n",
              "      <td>0</td>\n",
              "      <td>0</td>\n",
              "      <td>1</td>\n",
              "      <td>1</td>\n",
              "      <td>1</td>\n",
              "      <td>1</td>\n",
              "      <td>0</td>\n",
              "      <td>0</td>\n",
              "      <td>4</td>\n",
              "      <td>1</td>\n",
              "      <td>0</td>\n",
              "      <td>1</td>\n",
              "    </tr>\n",
              "  </tbody>\n",
              "</table>\n",
              "</div>\n",
              "      <button class=\"colab-df-convert\" onclick=\"convertToInteractive('df-95c55b04-7377-464a-b908-673865efc22d')\"\n",
              "              title=\"Convert this dataframe to an interactive table.\"\n",
              "              style=\"display:none;\">\n",
              "        \n",
              "  <svg xmlns=\"http://www.w3.org/2000/svg\" height=\"24px\"viewBox=\"0 0 24 24\"\n",
              "       width=\"24px\">\n",
              "    <path d=\"M0 0h24v24H0V0z\" fill=\"none\"/>\n",
              "    <path d=\"M18.56 5.44l.94 2.06.94-2.06 2.06-.94-2.06-.94-.94-2.06-.94 2.06-2.06.94zm-11 1L8.5 8.5l.94-2.06 2.06-.94-2.06-.94L8.5 2.5l-.94 2.06-2.06.94zm10 10l.94 2.06.94-2.06 2.06-.94-2.06-.94-.94-2.06-.94 2.06-2.06.94z\"/><path d=\"M17.41 7.96l-1.37-1.37c-.4-.4-.92-.59-1.43-.59-.52 0-1.04.2-1.43.59L10.3 9.45l-7.72 7.72c-.78.78-.78 2.05 0 2.83L4 21.41c.39.39.9.59 1.41.59.51 0 1.02-.2 1.41-.59l7.78-7.78 2.81-2.81c.8-.78.8-2.07 0-2.86zM5.41 20L4 18.59l7.72-7.72 1.47 1.35L5.41 20z\"/>\n",
              "  </svg>\n",
              "      </button>\n",
              "      \n",
              "  <style>\n",
              "    .colab-df-container {\n",
              "      display:flex;\n",
              "      flex-wrap:wrap;\n",
              "      gap: 12px;\n",
              "    }\n",
              "\n",
              "    .colab-df-convert {\n",
              "      background-color: #E8F0FE;\n",
              "      border: none;\n",
              "      border-radius: 50%;\n",
              "      cursor: pointer;\n",
              "      display: none;\n",
              "      fill: #1967D2;\n",
              "      height: 32px;\n",
              "      padding: 0 0 0 0;\n",
              "      width: 32px;\n",
              "    }\n",
              "\n",
              "    .colab-df-convert:hover {\n",
              "      background-color: #E2EBFA;\n",
              "      box-shadow: 0px 1px 2px rgba(60, 64, 67, 0.3), 0px 1px 3px 1px rgba(60, 64, 67, 0.15);\n",
              "      fill: #174EA6;\n",
              "    }\n",
              "\n",
              "    [theme=dark] .colab-df-convert {\n",
              "      background-color: #3B4455;\n",
              "      fill: #D2E3FC;\n",
              "    }\n",
              "\n",
              "    [theme=dark] .colab-df-convert:hover {\n",
              "      background-color: #434B5C;\n",
              "      box-shadow: 0px 1px 3px 1px rgba(0, 0, 0, 0.15);\n",
              "      filter: drop-shadow(0px 1px 2px rgba(0, 0, 0, 0.3));\n",
              "      fill: #FFFFFF;\n",
              "    }\n",
              "  </style>\n",
              "\n",
              "      <script>\n",
              "        const buttonEl =\n",
              "          document.querySelector('#df-95c55b04-7377-464a-b908-673865efc22d button.colab-df-convert');\n",
              "        buttonEl.style.display =\n",
              "          google.colab.kernel.accessAllowed ? 'block' : 'none';\n",
              "\n",
              "        async function convertToInteractive(key) {\n",
              "          const element = document.querySelector('#df-95c55b04-7377-464a-b908-673865efc22d');\n",
              "          const dataTable =\n",
              "            await google.colab.kernel.invokeFunction('convertToInteractive',\n",
              "                                                     [key], {});\n",
              "          if (!dataTable) return;\n",
              "\n",
              "          const docLinkHtml = 'Like what you see? Visit the ' +\n",
              "            '<a target=\"_blank\" href=https://colab.research.google.com/notebooks/data_table.ipynb>data table notebook</a>'\n",
              "            + ' to learn more about interactive tables.';\n",
              "          element.innerHTML = '';\n",
              "          dataTable['output_type'] = 'display_data';\n",
              "          await google.colab.output.renderOutput(dataTable, element);\n",
              "          const docLink = document.createElement('div');\n",
              "          docLink.innerHTML = docLinkHtml;\n",
              "          element.appendChild(docLink);\n",
              "        }\n",
              "      </script>\n",
              "    </div>\n",
              "  </div>\n",
              "  "
            ]
          },
          "metadata": {},
          "execution_count": 40
        }
      ]
    },
    {
      "cell_type": "code",
      "source": [
        "import matplotlib.pyplot as plt\n",
        "zoo.hist(bins=25, figsize=(15,15))\n",
        "plt.show()"
      ],
      "metadata": {
        "colab": {
          "base_uri": "https://localhost:8080/"
        },
        "id": "ePVdh539uy92",
        "outputId": "05d9bfd3-0803-4f5a-9837-cb38fadb18a7"
      },
      "execution_count": null,
      "outputs": [
        {
          "output_type": "display_data",
          "data": {
            "text/plain": [
              "<Figure size 1080x1080 with 16 Axes>"
            ],
            "image/png": "[encoded data removed]"
          },
          "metadata": {
            "needs_background": "light"
          }
        }
      ]
    },
    {
      "cell_type": "code",
      "source": [
        "zoo_y = zoo_df['Class']\n",
        "np.unique(zoo_y, return_counts=True)"
      ],
      "metadata": {
        "colab": {
          "base_uri": "https://localhost:8080/"
        },
        "id": "i0bKMayR-ijF",
        "outputId": "983b3c14-a051-49b4-840b-a4721de5b17f"
      },
      "execution_count": null,
      "outputs": [
        {
          "output_type": "execute_result",
          "data": {
            "text/plain": [
              "(array([1, 2, 3, 4, 5, 6, 7]), array([41, 20,  5, 13,  4,  8, 10]))"
            ]
          },
          "metadata": {},
          "execution_count": 42
        }
      ]
    },
    {
      "cell_type": "markdown",
      "source": [
        "## Синтетические данные"
      ],
      "metadata": {
        "id": "47PegfvW7NvP"
      }
    },
    {
      "cell_type": "code",
      "source": [
        "import numpy as np\n",
        "\n",
        "import matplotlib.colors\n",
        "import matplotlib.pyplot as plt\n",
        "\n",
        "import sklearn.datasets as dt\n",
        "\n",
        "random_state = 42\n",
        "n_clusters = 7\n",
        "n_features = 10\n",
        "samples = 1000\n",
        "\n",
        "color_map = plt.cm.get_cmap('RdYlBu')\n",
        "color_map_discrete = matplotlib.colors.LinearSegmentedColormap.from_list(\"\", [\"red\",\"cyan\",\"magenta\",\"blue\"])\n",
        "\n",
        "x, y = dt.make_blobs(n_features=n_features,\n",
        "                             centers=9,\n",
        "                             cluster_std=1.5,\n",
        "                             random_state=99,\n",
        "                             n_samples=samples)\n",
        "\n",
        "my_scatter_plot = plt.scatter(x[:,0],\n",
        "                                  x[:,1],\n",
        "                                  c=y,\n",
        "                                  vmin=min(y),\n",
        "                                  vmax=max(y),\n",
        "                                  cmap=color_map_discrete)\n",
        "plt.title('Synthetic with clusters: '+str(9))\n",
        "plt.show()"
      ],
      "metadata": {
        "colab": {
          "base_uri": "https://localhost:8080/",
          "height": 281
        },
        "id": "7r4wQ2lb7QBQ",
        "outputId": "6ef7e7e5-f3c4-42c4-b555-209782de3d74"
      },
      "execution_count": 108,
      "outputs": [
        {
          "output_type": "display_data",
          "data": {
            "text/plain": [
              "<Figure size 432x288 with 1 Axes>"
            ],
            "image/png": "[encoded data removed]"
          },
          "metadata": {
            "needs_background": "light"
          }
        }
      ]
    },
    {
      "cell_type": "code",
      "source": [
        "import pandas as pd\n",
        "\n",
        "X_synthetic = []\n",
        "y_synthetic = []\n",
        "\n",
        "for count in count_clusters:\n",
        "  X_synthetic.append(pd.read_excel(\"synthetic_X_clusters_\" + str(count) + \".xlsx\"))\n",
        "  y_synthetic.append(pd.read_excel(\"synthetic_y_clusters_\" + str(count) + \".xlsx\",index_col=0))"
      ],
      "metadata": {
        "id": "7kwThEX63bAV"
      },
      "execution_count": null,
      "outputs": []
    },
    {
      "cell_type": "code",
      "source": [
        "!ls -la"
      ],
      "metadata": {
        "colab": {
          "base_uri": "https://localhost:8080/"
        },
        "id": "F3elkT57u7qk",
        "outputId": "5d7cc940-f316-4a2c-9268-0bbfe462101f"
      },
      "execution_count": null,
      "outputs": [
        {
          "output_type": "stream",
          "name": "stdout",
          "text": [
            "total 155\n",
            "-rw------- 1 root root 19488 Jun  6  1997 ecoli.data\n",
            "-rw------- 1 root root 11903 Mar  2  1993 glass.data\n",
            "-rw------- 1 root root  4551 Mar  9  1993 iris.data\n",
            "-rw------- 1 root root 34842 Aug 15  1991 segmentation.data\n",
            "-rw------- 1 root root 15291 May 11 06:09 synthetic_X_clusters_10.xlsx\n",
            "-rw------- 1 root root  9964 May 15 10:06 synthetic_X_clusters_2.xlsx\n",
            "-rw------- 1 root root  9936 May 15 10:06 synthetic_X_clusters_5.xlsx\n",
            "-rw------- 1 root root  9952 May 15 10:06 synthetic_X_clusters_7.xlsx\n",
            "-rw------- 1 root root  6045 May 11 06:09 synthetic_y_clusters_10.xlsx\n",
            "-rw------- 1 root root  5956 May 15 10:06 synthetic_y_clusters_2.xlsx\n",
            "-rw------- 1 root root  6001 May 15 10:06 synthetic_y_clusters_5.xlsx\n",
            "-rw------- 1 root root  6017 May 15 10:06 synthetic_y_clusters_7.xlsx\n",
            "-rw------- 1 root root 10782 Oct 30  1995 wine.data\n",
            "-rw------- 1 root root  4126 Jul 23  1991 zoo.data\n"
          ]
        }
      ]
    },
    {
      "cell_type": "code",
      "source": [
        "import pandas as pd\n",
        "\n",
        "X_synthetic = [pd.DataFrame(x[0]) for x in datasets]\n",
        "y_synthetic = [pd.DataFrame(x[1]) for x in datasets]"
      ],
      "metadata": {
        "id": "Ui7eFt7TqDPY"
      },
      "execution_count": null,
      "outputs": []
    },
    {
      "cell_type": "code",
      "source": [
        "for x,y,count in zip(X_synthetic, y_synthetic, count_clusters):\n",
        "  x.to_excel(\"synthetic_X_clusters_\" + str(count) + \".xlsx\")\n",
        "  y.to_excel(\"synthetic_y_clusters_\" + str(count) + \".xlsx\")"
      ],
      "metadata": {
        "id": "2fNiatW37c9c"
      },
      "execution_count": null,
      "outputs": []
    },
    {
      "cell_type": "code",
      "source": [
        "import matplotlib.pyplot as plt\n",
        "syntetic.hist(bins=25, figsize=(15,15))\n",
        "plt.show()"
      ],
      "metadata": {
        "colab": {
          "base_uri": "https://localhost:8080/"
        },
        "id": "uxHnZ-vq9gEg",
        "outputId": "8ec31dae-5594-4c2b-8a38-6529103e56c2"
      },
      "execution_count": null,
      "outputs": [
        {
          "output_type": "display_data",
          "data": {
            "text/plain": [
              "<Figure size 1080x1080 with 9 Axes>"
            ],
            "image/png": "[encoded data removed]"
          },
          "metadata": {
            "needs_background": "light"
          }
        }
      ]
    },
    {
      "cell_type": "markdown",
      "source": [
        "# Методы определения правильного числа кластеров"
      ],
      "metadata": {
        "id": "HrlTWYWcwTIf"
      }
    },
    {
      "cell_type": "markdown",
      "source": [
        "Ниже представлены реализации рассматриваемых методов."
      ],
      "metadata": {
        "id": "kiI4BUpE3sYF"
      }
    },
    {
      "cell_type": "markdown",
      "source": [
        "## K-Splits: Improved K-Means Clustering Algorithm to Automatically Detect the Number of Clusters "
      ],
      "metadata": {
        "id": "YaJAuMln_bah"
      }
    },
    {
      "cell_type": "code",
      "source": [
        "import numpy as np\n",
        "from sklearn.cluster import KMeans\n",
        "\n",
        "\n",
        "def calc_l2_norm(c1, c2):\n",
        "  d_base = np.linalg.norm(c1 - c2, 2)\n",
        "  return d_base\n",
        "\n",
        "def get_elements_from_cluster(X, clusters, num_cluster):\n",
        "  output = []\n",
        "  for element, num in zip(X, clusters):\n",
        "    if num == num_cluster:\n",
        "      output.append(element)\n",
        "  return output\n",
        "\n",
        "def calc_covar_matrix(X):\n",
        "  \"\"\"\n",
        "  For data \u0002 in cluster C with centroid c, we can calculate the covariance matrix \u0003\u0002\n",
        "  \"\"\"\n",
        "  number_of_elements = len(X)\n",
        "  centroid = np.mean(X, axis=0)\n",
        "  sigma_x = X - centroid\n",
        "  sum_of_cluster = 1./number_of_elements * np.matrix(sigma_x).T * np.matrix(sigma_x)\n",
        "  u, v, vh = np.linalg.svd(sum_of_cluster)\n",
        "  return u, v, vh\n",
        "\n",
        "\n",
        "def proposed_k_means(X, Beta):\n",
        "  count_clusters = 1\n",
        "  clusters = list(np.zeros(len(X)))\n",
        "  while count_clusters < k:\n",
        "    Q_c = clusters.count(count_clusters - 1)\n",
        "\n",
        "def calc_I_c(X, all_points, count_clusters):\n",
        "  Q_c = len(X)\n",
        "  Q = all_points\n",
        "  k = count_clusters\n",
        "  thr = Q * 1.0 / k\n",
        "\n",
        "  u, v, _ = calc_covar_matrix(X)\n",
        "  \n",
        "  I_c = np.tanh(Q_c * 1.0 / thr) * v[0]\n",
        "  return I_c\n",
        "\n",
        "\n",
        "def calc_J_k(J_c, k):\n",
        "  J_k = np.sum(J_c) / k\n",
        "  return J_k\n",
        "\n",
        "def calc_J_c(clust):\n",
        "  Q_c = len(clust)\n",
        "  u, v, l = calc_covar_matrix(clust)\n",
        "  print(\"u=\",u)\n",
        "  print(\"v=\",v)\n",
        "  print(\"l=\",l)\n",
        "  if v[0] == 0:\n",
        "    v[0] = 1\n",
        "  J_c = Q_c / v[0]\n",
        "  return J_c\n",
        "\n",
        "def k_splits(X, Beta):\n",
        "  k = 1\n",
        "  clusters = list(np.zeros(len(X)))\n",
        "  first_iteration = True\n",
        "  I_c = []\n",
        "  J_c = []\n",
        "  J_k = []\n",
        "  d = 0\n",
        "  res_clusters = []\n",
        "  centroids = []\n",
        "  while first_iteration or True:#(d * 1.0 / d_base <= Beta):\n",
        "    I_c = []\n",
        "    J_c = []\n",
        "    for clust in np.unique(clusters):\n",
        "      cur_clust = []\n",
        "      for index, point in enumerate(X.iterrows()):\n",
        "        if clusters[index] == clust:\n",
        "          cur_clust.append(point[1])\n",
        "      I_c.append(calc_I_c(cur_clust, len(X), len(np.unique(clusters))))\n",
        "      J_c.append(calc_J_c(cur_clust))\n",
        "    J_k.append(calc_J_k(J_c, k))\n",
        "    C_w = np.argmax(I_c) # number of the worth cluster\n",
        "    # split\n",
        "    worth = []\n",
        "    print(\"len I_c=\", len(I_c))\n",
        "    print(\"C_w=\",C_w)\n",
        "    print(I_c)\n",
        "    for index, point in enumerate(X.iterrows()):\n",
        "      if clusters[index] == C_w:\n",
        "        worth.append(point[1])\n",
        "        \n",
        "    print(\"========\")\n",
        "    print(\"worth:\",worth)\n",
        "    u,v, vh = calc_covar_matrix(worth)\n",
        "    mean_value = KMeans(n_clusters=1).fit(worth).cluster_centers_\n",
        "    sigma_worth = worth - mean_value\n",
        "    first = []\n",
        "    second = []\n",
        "\n",
        "    res_clusters.append(clusters)\n",
        "    for index, point in enumerate(sigma_worth):\n",
        "      if clusters[index] == C_w:\n",
        "\n",
        "        if (np.matrix(point) * np.matrix(u[0]).T)[0][0] >= 0:\n",
        "          first.append(point)\n",
        "          continue\n",
        "        else:\n",
        "          clusters[index] = k\n",
        "          second.append(point)\n",
        "    \n",
        "    first = pd.DataFrame(np.array(first))\n",
        "    second = pd.DataFrame(np.array(second))\n",
        "\n",
        "    if len(first) == 0 or len(second) == 0:\n",
        "      break\n",
        "    c_kw1, c_kw2 = KMeans(n_clusters=1).fit(first).cluster_centers_[0], KMeans(n_clusters=1).fit(second).cluster_centers_[0]\n",
        "    centroids.append(c_kw1)\n",
        "    centroids.append(c_kw2)\n",
        "\n",
        "    if first_iteration:\n",
        "      first_iteration = False\n",
        "      d_base = calc_l2_norm(c_kw1, c_kw2)\n",
        "      # d = d_base\n",
        "    else:\n",
        "      \n",
        "      d_all = []\n",
        "      for i in range(len(centroids)):\n",
        "        for j in range(i + 1, len(centroids)):\n",
        "          dist = calc_l2_norm(centroids[i], centroids[j])\n",
        "          \n",
        "          d_all.append(dist)\n",
        "      d = np.min(d_all)\n",
        "\n",
        "    if d * 1.0 / d_base <= Beta:\n",
        "      k += 1\n",
        "      # continue\n",
        "    else:\n",
        "      # iter = np.argmax(J_k)\n",
        "      # return iter\n",
        "      break\n",
        "  max_ind = np.argmax(J_k)\n",
        "  res_k = np.unique(res_clusters[max_ind])\n",
        "  return len(res_k), res_clusters[max_ind]\n"
      ],
      "metadata": {
        "id": "S7UPX3IOBtEb"
      },
      "execution_count": 80,
      "outputs": []
    },
    {
      "cell_type": "code",
      "source": [
        "import contextlib\n",
        "with contextlib.redirect_stdout(None):\n",
        "  k_ecoli_density, distrib_ecoli_density = k_splits(ecoli,0.5)\n",
        "  k_glass_density, distrib_glass_density = k_splits(glass,0.5)\n",
        "  k_iris_density, distrib_iris_density = k_splits(iris,0.5)\n",
        "  k_segmentation_density, distrib_segmentation_density = k_splits(segmentation,0.5)\n",
        "  k_wine_density, distrib_wine_density = k_splits(wine,0.5)\n",
        "  k_zoo_density, distrib_zoo_density = k_splits(zoo,0.5)"
      ],
      "metadata": {
        "id": "hDPsQ_JZ_GOg"
      },
      "execution_count": null,
      "outputs": []
    },
    {
      "cell_type": "code",
      "source": [
        "from time import time\n",
        "start = time()\n",
        "with contextlib.redirect_stdout(None):\n",
        "  k_synthetic, distrib_synthetic = k_splits(pd.DataFrame(x), 0.5)\n",
        "print(\"total time:\", time() - start)\n",
        "print(\"synthetic\", \"count clusters:\", k_synthetic, \n",
        "      \"adjusted_rand_score:\", adjusted_rand_score(distrib_synthetic, y))"
      ],
      "metadata": {
        "id": "S7lvbKXB6fmK"
      },
      "execution_count": 92,
      "outputs": []
    },
    {
      "cell_type": "code",
      "source": [
        "import contextlib\n",
        "import pandas as pd\n",
        "\n",
        "with contextlib.redirect_stdout(None):\n",
        "  k_2_density, distrib_2_density = k_splits(pd.DataFrame(x),0.5)\n",
        "  k_5_density, distrib_5_density = k_splits(X_synthetic[1],0.5)\n",
        "  k_7_density, distrib_7_density = k_splits(X_synthetic[2],0.5)\n",
        "  k_segmentation_density, distrib_segmentation_density = k_splits(segmentation,0.5)\n",
        "  k_wine_density, distrib_wine_density = k_splits(wine,0.5)\n",
        "  k_zoo_density, distrib_zoo_density = k_splits(zoo,0.5)"
      ],
      "metadata": {
        "id": "bkk2ZJKAL9-W"
      },
      "execution_count": 32,
      "outputs": []
    },
    {
      "cell_type": "code",
      "source": [
        "import contextlib\n",
        "import pandas as pd\n",
        "from sklearn.metrics.cluster import adjusted_rand_score\n",
        "\n",
        "with contextlib.redirect_stdout(None):\n",
        "  k_synthetic_2, distrib_synthetic_2 = k_splits(pd.DataFrame(datasets[0][0]),0.5)\n",
        "  k_synthetic_5, distrib_synthetic_5 = k_splits(pd.DataFrame(datasets[1][0]),0.5)\n",
        "  k_synthetic_7, distrib_synthetic_7 = k_splits(pd.DataFrame(datasets[2][0]),0.5)\n",
        "\n",
        "print(\"synthetic\", \"count clusters:\", k_2_density, \n",
        "      \"adjusted_rand_score:\", adjusted_rand_score(distrib_2_density, y))\n",
        "print(\"synthetic\", \"count clusters:\", k_synthetic_5, \n",
        "      \"adjusted_rand_score:\", adjusted_rand_score(distrib_synthetic_5, datasets[1][1]))\n",
        "print(\"synthetic\", \"count clusters:\", k_synthetic_7, \n",
        "      \"adjusted_rand_score:\", adjusted_rand_score(distrib_synthetic_7, datasets[2][1]))"
      ],
      "metadata": {
        "id": "SiquJG1nfhQ3"
      },
      "execution_count": 1,
      "outputs": []
    },
    {
      "cell_type": "code",
      "source": [
        "!python --version"
      ],
      "metadata": {
        "colab": {
          "base_uri": "https://localhost:8080/"
        },
        "id": "vcz2YI22diEb",
        "outputId": "73f84276-a080-4eb4-ab40-df474eccb812"
      },
      "execution_count": 37,
      "outputs": [
        {
          "output_type": "stream",
          "name": "stdout",
          "text": [
            "Python 3.7.13\n"
          ]
        }
      ]
    },
    {
      "cell_type": "code",
      "source": [
        "!free -g"
      ],
      "metadata": {
        "colab": {
          "base_uri": "https://localhost:8080/"
        },
        "id": "2txu3640jj7D",
        "outputId": "d101d77d-244a-4e23-c7cc-f6c40038248a"
      },
      "execution_count": 41,
      "outputs": [
        {
          "output_type": "stream",
          "name": "stdout",
          "text": [
            "              total        used        free      shared  buff/cache   available\n",
            "Mem:             12           1           9           0           1          11\n",
            "Swap:             0           0           0\n"
          ]
        }
      ]
    },
    {
      "cell_type": "code",
      "source": [
        "!lscpu"
      ],
      "metadata": {
        "colab": {
          "base_uri": "https://localhost:8080/"
        },
        "id": "LmYEglBCfab1",
        "outputId": "64f11a62-92af-404a-f7c7-4155fce94a56"
      },
      "execution_count": 40,
      "outputs": [
        {
          "output_type": "stream",
          "name": "stdout",
          "text": [
            "Architecture:        x86_64\n",
            "CPU op-mode(s):      32-bit, 64-bit\n",
            "Byte Order:          Little Endian\n",
            "CPU(s):              2\n",
            "On-line CPU(s) list: 0,1\n",
            "Thread(s) per core:  2\n",
            "Core(s) per socket:  1\n",
            "Socket(s):           1\n",
            "NUMA node(s):        1\n",
            "Vendor ID:           GenuineIntel\n",
            "CPU family:          6\n",
            "Model:               79\n",
            "Model name:          Intel(R) Xeon(R) CPU @ 2.20GHz\n",
            "Stepping:            0\n",
            "CPU MHz:             2199.998\n",
            "BogoMIPS:            4399.99\n",
            "Hypervisor vendor:   KVM\n",
            "Virtualization type: full\n",
            "L1d cache:           32K\n",
            "L1i cache:           32K\n",
            "L2 cache:            256K\n",
            "L3 cache:            56320K\n",
            "NUMA node0 CPU(s):   0,1\n",
            "Flags:               fpu vme de pse tsc msr pae mce cx8 apic sep mtrr pge mca cmov pat pse36 clflush mmx fxsr sse sse2 ss ht syscall nx pdpe1gb rdtscp lm constant_tsc rep_good nopl xtopology nonstop_tsc cpuid tsc_known_freq pni pclmulqdq ssse3 fma cx16 pcid sse4_1 sse4_2 x2apic movbe popcnt aes xsave avx f16c rdrand hypervisor lahf_lm abm 3dnowprefetch invpcid_single ssbd ibrs ibpb stibp fsgsbase tsc_adjust bmi1 hle avx2 smep bmi2 erms invpcid rtm rdseed adx smap xsaveopt arat md_clear arch_capabilities\n"
          ]
        }
      ]
    },
    {
      "cell_type": "code",
      "source": [
        "\n",
        "from sklearn.metrics.cluster import adjusted_rand_score\n",
        "\n",
        "for name, k, distrib, right in zip(\n",
        "    [\"ecoli\", \"glass\", \"iris\", \"segmentation\", \"wine\", \"zoo\"],\n",
        "    [k_ecoli_density, k_glass_density, k_iris_density, \n",
        "     k_segmentation_density,k_wine_density,k_zoo_density], \n",
        "    [distrib_ecoli_density, distrib_glass_density, \n",
        "     distrib_iris_density,distrib_segmentation_density,distrib_wine_density,\n",
        "     distrib_zoo_density],\n",
        "     [ecoli_y, glass_y, iris_y, segmentation_y, wine_y, zoo_y]):\n",
        "  print(name, \"count clusters:\", k, \n",
        "        \"adjusted_rand_score:\", adjusted_rand_score(distrib, right))"
      ],
      "metadata": {
        "id": "SpOZMBeS_1Dp"
      },
      "execution_count": 2,
      "outputs": []
    },
    {
      "cell_type": "markdown",
      "source": [
        "## P. Olukanmi, F. Nelwamondo, T. Marwala, B. Twala, “Automatic detection of outliers and the number of clusters in k-means clustering via Chebyshev-type inequalities”, 2022"
      ],
      "metadata": {
        "id": "-WLWLss6MJdS"
      }
    },
    {
      "cell_type": "code",
      "source": [
        "\n",
        "from sklearn.cluster import KMeans\n",
        "import numpy as np\n",
        "\n",
        "def calc_dist(c1, c2):\n",
        "  d_base = np.linalg.norm(c1 - c2)\n",
        "  return d_base\n",
        "\n",
        "def alg(X):\n",
        "  N = X.shape[0]\n",
        "  k = 1 # number of clusters\n",
        "  test = False\n",
        "  while test == False and k < N:\n",
        "    for ran in range(1):\n",
        "      kmeans = KMeans(n_clusters=k, init = 'k-means++', max_iter = 400, n_init = 20, random_state = ran).fit(X)\n",
        "      c = kmeans.labels_\n",
        "      unique, counts = np.unique(c, return_counts=True)\n",
        "      \n",
        "      centroids = kmeans.cluster_centers_\n",
        "      D = []\n",
        "      for index, point in enumerate(X.iterrows()):\n",
        "        D.append(calc_dist(centroids[c[index]], point[1]))\n",
        "      sigma_d = np.std(D,axis=0)\n",
        "      c_d1 = 0\n",
        "      c_d2 = 0\n",
        "      s_d = np.array(sorted(D))\n",
        "      \n",
        "      c_d1 = len(s_d[s_d <= 2 * sigma_d])\n",
        "      c_d2 = len(s_d[s_d <= sigma_d])\n",
        "      \n",
        "      if c_d1 > 8/9 * N:\n",
        "        test = True\n",
        "        break\n",
        "      elif c_d2 > 5/9 * N:\n",
        "        test = True\n",
        "        break\n",
        "    k += 1\n",
        "  return k, kmeans.labels_\n"
      ],
      "metadata": {
        "id": "w2-N-pIlMMS3"
      },
      "execution_count": 51,
      "outputs": []
    },
    {
      "cell_type": "code",
      "source": [
        "import contextlib\n",
        "with contextlib.redirect_stdout(None):\n",
        "  k_ecoli_density, distrib_ecoli_density = alg(ecoli)\n",
        "  k_glass_density, distrib_glass_density = alg(glass)\n",
        "  k_iris_density, distrib_iris_density = alg(iris)\n",
        "  k_segmentation_density, distrib_segmentation_density = alg(segmentation)\n",
        "  k_wine_density, distrib_wine_density = alg(wine)\n",
        "  k_zoo_density, distrib_zoo_density = alg(zoo)"
      ],
      "metadata": {
        "id": "7vRNb3uirxYd"
      },
      "execution_count": null,
      "outputs": []
    },
    {
      "cell_type": "code",
      "source": [
        "import contextlib\n",
        "import pandas as pd\n",
        "from sklearn.metrics.cluster import adjusted_rand_score\n",
        "\n",
        "with contextlib.redirect_stdout(None):\n",
        "  k_synthetic_2, distrib_synthetic_2 = alg(pd.DataFrame(datasets[0][0]))\n",
        "  k_synthetic_5, distrib_synthetic_5 = alg(pd.DataFrame(datasets[1][0]))\n",
        "  k_synthetic_7, distrib_synthetic_7 = alg(pd.DataFrame(datasets[2][0]))\n",
        "\n",
        "print(\"synthetic\", \"count clusters:\", k_synthetic_2, \n",
        "      \"adjusted_rand_score:\", adjusted_rand_score(distrib_synthetic_2, datasets[0][1]))\n",
        "print(\"synthetic\", \"count clusters:\", k_synthetic_5, \n",
        "      \"adjusted_rand_score:\", adjusted_rand_score(distrib_synthetic_5, datasets[1][1]))\n",
        "print(\"synthetic\", \"count clusters:\", k_synthetic_7, \n",
        "      \"adjusted_rand_score:\", adjusted_rand_score(distrib_synthetic_7, datasets[2][1]))"
      ],
      "metadata": {
        "colab": {
          "base_uri": "https://localhost:8080/"
        },
        "id": "8iIsbQxvP5Tq",
        "outputId": "eac6e66b-ca8d-4063-e964-013198e96e08"
      },
      "execution_count": null,
      "outputs": [
        {
          "output_type": "stream",
          "name": "stdout",
          "text": [
            "synthetic count clusters: 3 adjusted_rand_score: 1.0\n",
            "synthetic count clusters: 7 adjusted_rand_score: 0.7806272132980816\n",
            "synthetic count clusters: 6 adjusted_rand_score: 0.7196590210036031\n"
          ]
        }
      ]
    },
    {
      "cell_type": "code",
      "source": [
        "from time import time\n",
        "start = time()\n",
        "with contextlib.redirect_stdout(None):\n",
        "  k_synthetic, distrib_synthetic = alg(pd.DataFrame(x),10)\n",
        "print(\"total time:\", time() - start)"
      ],
      "metadata": {
        "colab": {
          "base_uri": "https://localhost:8080/"
        },
        "id": "5QKWXejuk3J_",
        "outputId": "0aaf9ac5-8708-402e-e264-2bad25866d30"
      },
      "execution_count": 104,
      "outputs": [
        {
          "output_type": "stream",
          "name": "stdout",
          "text": [
            "total time: 8.324571132659912\n"
          ]
        }
      ]
    },
    {
      "cell_type": "code",
      "source": [
        "np.unique(distrib_synthetic)"
      ],
      "metadata": {
        "colab": {
          "base_uri": "https://localhost:8080/"
        },
        "id": "mxoqbBmYojCd",
        "outputId": "57660cc9-7d59-4a6b-d26f-fa7febb010ef"
      },
      "execution_count": 105,
      "outputs": [
        {
          "output_type": "execute_result",
          "data": {
            "text/plain": [
              "array([0, 1, 2, 3, 4, 5, 6, 7, 8, 9], dtype=int32)"
            ]
          },
          "metadata": {},
          "execution_count": 105
        }
      ]
    },
    {
      "cell_type": "code",
      "source": [
        "print(\"synthetic\", \"count clusters:\", k_synthetic - 1, \n",
        "      \"adjusted_rand_score:\", adjusted_rand_score(distrib_synthetic, y))"
      ],
      "metadata": {
        "colab": {
          "base_uri": "https://localhost:8080/"
        },
        "id": "LCi6vIELlByd",
        "outputId": "958824c7-036d-4633-a25c-80c136936a18"
      },
      "execution_count": 106,
      "outputs": [
        {
          "output_type": "stream",
          "name": "stdout",
          "text": [
            "synthetic count clusters: 10 adjusted_rand_score: 0.8663736320716245\n"
          ]
        }
      ]
    },
    {
      "cell_type": "code",
      "source": [
        "distrib_ecoli_density = distrib_ecoli_density.labels_\n",
        "distrib_glass_density = distrib_glass_density.labels_\n",
        "distrib_iris_density = distrib_iris_density.labels_\n",
        "distrib_segmentation_density = distrib_segmentation_density.labels_\n",
        "distrib_wine_density = distrib_wine_density.labels_\n",
        "distrib_zoo_density = distrib_zoo_density.labels_"
      ],
      "metadata": {
        "id": "IWhM3scvAgOy"
      },
      "execution_count": null,
      "outputs": []
    },
    {
      "cell_type": "code",
      "source": [
        "k_zoo_density, distrib_zoo_density = alg(zoo)"
      ],
      "metadata": {
        "id": "bOKC2K7loVjc"
      },
      "execution_count": 3,
      "outputs": []
    },
    {
      "cell_type": "code",
      "source": [
        "from sklearn.metrics.cluster import adjusted_rand_score\n",
        "\n",
        "for name, k, distrib, right in zip(\n",
        "    [\"ecoli\", \"glass\", \"iris\", \"segmentation\", \"wine\", \"zoo\"],\n",
        "    [k_ecoli_density, k_glass_density, k_iris_density, \n",
        "     k_segmentation_density,k_wine_density,k_zoo_density], \n",
        "    [distrib_ecoli_density, distrib_glass_density, \n",
        "     distrib_iris_density,distrib_segmentation_density,distrib_wine_density,\n",
        "     distrib_zoo_density],\n",
        "     [ecoli_y, glass_y, iris_y, segmentation_y, wine_y, zoo_y]):\n",
        "  print(name, \"count clusters:\", k, \n",
        "        \"adjusted_rand_score:\", adjusted_rand_score(distrib, right))"
      ],
      "metadata": {
        "id": "x775J3pOAb6G"
      },
      "execution_count": 4,
      "outputs": []
    },
    {
      "cell_type": "markdown",
      "source": [
        "## W. Tong, S. Liu, and X. Gao, “A density-peak-based clustering algorithm of automatically determining the number of clusters”, 2020"
      ],
      "metadata": {
        "id": "pV69MAZ3MN4M"
      }
    },
    {
      "cell_type": "code",
      "source": [
        "import numpy as np\n",
        "import operator\n",
        "from queue import Queue\n",
        "\n",
        "def calc_l2_norm(c1, c2):\n",
        "  d_base = np.linalg.norm(c1 - c2, 2)\n",
        "  return d_base\n",
        "\n",
        "def check_integration(x,y):\n",
        "  for ele in y:\n",
        "    if (x == ele).all():\n",
        "      return True\n",
        "  return False\n",
        "\n",
        "\n",
        "def DPADN(X,cr=10):\n",
        "  D = []\n",
        "  for i in range(X.shape[0]):\n",
        "    row = []\n",
        "    for j in range(X.shape[0]):\n",
        "      dist = calc_l2_norm(X.iloc[i,:], X.iloc[j,:])\n",
        "      row.append(dist)\n",
        "    D.append(row)\n",
        "  dc = np.sum(D) / X.shape[0] * 2\n",
        "  \n",
        "\n",
        "  ro = []\n",
        "  for row in D:\n",
        "    ro.append(np.sum(row) - dc)\n",
        "\n",
        "  sigmas = []\n",
        "  for i in range(len(D)):\n",
        "    check = True\n",
        "    for j in range(len(D)):\n",
        "      if ro[j] > ro[i]:\n",
        "        check = False\n",
        "        break\n",
        "    data_withoit_i = np.delete(np.array(D[i]), i)\n",
        "    if check:\n",
        "      \n",
        "      sigmas.append(np.max(data_withoit_i))\n",
        "    else:\n",
        "      \n",
        "      sigmas.append(np.min(data_withoit_i))\n",
        "    \n",
        "  ro_mean = np.mean(ro)\n",
        "  sigma_mean = np.mean(sigmas)\n",
        "\n",
        "  delta_ro = []\n",
        "  for i in range(len(D)):\n",
        "    ro_i = 0\n",
        "    for j in range(len(D)):\n",
        "      if i == j:\n",
        "        continue\n",
        "      ro_i += np.exp(- (D[i][j] / dc)**2 )\n",
        "    delta_ro.append(ro_i)\n",
        "  delta_ro_m_index = np.argmax(delta_ro)\n",
        "  delta_ro_m = delta_ro[delta_ro_m_index]\n",
        "  Pm = X.iloc[delta_ro_m_index,:]\n",
        "  ro_pm = ro[delta_ro_m_index]\n",
        "  delta_ro_mean = np.mean(delta_ro)\n",
        "\n",
        "\n",
        "  C = [-1] * X.shape[0]\n",
        "  centroids = []\n",
        "  centroids_index = []\n",
        "  j = -1\n",
        "  \n",
        "  \n",
        "  for i in range(0, X.shape[0]):\n",
        "    if ro_pm < ro_mean and delta_ro_m > 2 * delta_ro_mean:\n",
        "      if ro[i] > ro_mean and sigmas[i] > sigma_mean:\n",
        "        centroids.append(X.iloc[i,:])\n",
        "        centroids_index.append(i)\n",
        "        j += 1\n",
        "        C[i] = j\n",
        "    else:\n",
        "      if sigmas[i] > sigma_mean:\n",
        "        centroids.append(X.iloc[i,:])\n",
        "        centroids_index.append(i)\n",
        "        j += 1\n",
        "        C[i] = j\n",
        "    \n",
        "\n",
        "\n",
        "\n",
        "  for i in range(0, X.shape[0]):\n",
        "    if C[i] == -1:\n",
        "      # find nearest centroid\n",
        "      min_ind = -1\n",
        "      min_dist = np.inf\n",
        "      for index, cent in enumerate(centroids):\n",
        "        dis = calc_l2_norm(cent, X.iloc[i,:])\n",
        "        if dis < min_dist:\n",
        "          min_ind = index\n",
        "          min_dist = dis\n",
        "      C[i] = min_ind\n",
        "  # print(\"C:\", C)\n",
        "  # print(\"centroids:\", centroids)\n",
        "  # merging process\n",
        "  clusters_dist = dict()\n",
        "  for i in range(len(centroids)):\n",
        "    # cu = []\n",
        "    for j in range(i + 1, len(centroids)):\n",
        "      clusters_dist[str(i) + \"-\" + str(j)] = calc_l2_norm(centroids[i], centroids[j])\n",
        "\n",
        "  sorted_clusters_dist_tuples = sorted(clusters_dist.items(),key=operator.itemgetter(1))\n",
        "  sorted_clusters_dist = {k: v for k, v in sorted_clusters_dist_tuples}\n",
        "  \n",
        "  number_of_clusters = len(centroids)\n",
        "  the_same_clusters = dict()\n",
        "  q = Queue()\n",
        "  for x in sorted_clusters_dist_tuples:\n",
        "    q.put(x)\n",
        "  \n",
        "  new_C = np.array(C)\n",
        "  all_clusters = []\n",
        "  \n",
        "  result = dict()\n",
        "  checked = []\n",
        "  while number_of_clusters > 1:\n",
        "    cur_element = q.get()\n",
        "    k, v = cur_element\n",
        "    print(\"cur_element=\",cur_element)\n",
        "    f_cl, s_cl = [int(x) for x in k.split('-')]\n",
        "    checked.append(k)\n",
        "    print(\"first:\",f_cl, \"second:\",s_cl)\n",
        "    if f_cl in the_same_clusters:\n",
        "      if s_cl in the_same_clusters:\n",
        "        c1 = the_same_clusters[f_cl]\n",
        "        c2 = the_same_clusters[s_cl]\n",
        "        if c1 != c2:\n",
        "           the_same_clusters[s_cl] = c1\n",
        "           new_C = np.where(new_C == c2, c1, new_C)\n",
        "\n",
        "        number_of_clusters = len(np.unique(new_C))\n",
        "        all_clusters.append(number_of_clusters)\n",
        "      else:\n",
        "        c1 = the_same_clusters[f_cl]\n",
        "        the_same_clusters[s_cl] = c1\n",
        "        new_C = np.where(new_C == s_cl, c1, new_C)\n",
        "        # q = upd_centr(X, c1, s_cl, new_C,centroids, checked)\n",
        "        number_of_clusters = len(np.unique(new_C))\n",
        "        all_clusters.append(number_of_clusters)\n",
        "    else:\n",
        "      if s_cl in the_same_clusters:\n",
        "        c2 = the_same_clusters[s_cl]\n",
        "        the_same_clusters[f_cl] = c2\n",
        "        new_C = np.where(new_C == f_cl, c2, new_C)\n",
        "        # q = upd_centr(X, c2, f_cl, new_C,centroids, checked)\n",
        "        number_of_clusters = len(np.unique(new_C))\n",
        "        all_clusters.append(number_of_clusters)\n",
        "      else:\n",
        "        the_same_clusters[s_cl] = s_cl\n",
        "        the_same_clusters[f_cl] = s_cl\n",
        "        new_C = np.where(new_C == f_cl, s_cl, new_C)\n",
        "        # q = upd_centr(X, s_cl, f_cl, new_C,centroids, checked)\n",
        "        number_of_clusters = len(np.unique(new_C))\n",
        "        all_clusters.append(number_of_clusters)\n",
        "    print(np.unique(all_clusters, return_counts=True))\n",
        "    if number_of_clusters not in result:\n",
        "      result[number_of_clusters] = new_C\n",
        "  uniques, counts = np.unique(all_clusters, return_counts=True)\n",
        "  ind_max = np.argmax(counts)\n",
        "  ans = result[uniques[ind_max]]\n",
        "  print(\"result:\",result[uniques[ind_max]])\n",
        "  return uniques[ind_max], ans"
      ],
      "metadata": {
        "id": "-tpJZflJ4gXb"
      },
      "execution_count": 69,
      "outputs": []
    },
    {
      "cell_type": "code",
      "source": [
        "from time import time\n",
        "start = time()\n",
        "with contextlib.redirect_stdout(None):\n",
        "  k_synthetic, distrib_synthetic = DPADN(pd.DataFrame(x))\n",
        "print(\"total time:\", time() - start)\n",
        "print(\"synthetic\", \"count clusters:\", k_synthetic, \n",
        "      \"adjusted_rand_score:\", adjusted_rand_score(distrib_synthetic, y))"
      ],
      "metadata": {
        "colab": {
          "base_uri": "https://localhost:8080/"
        },
        "id": "DKPmHhVGrnYq",
        "outputId": "9f6cb0bf-6d3d-46cc-aa03-80fa88266148"
      },
      "execution_count": 107,
      "outputs": [
        {
          "output_type": "stream",
          "name": "stdout",
          "text": [
            "total time: 480.46359300613403\n",
            "synthetic count clusters: 7 adjusted_rand_score: 1.0\n"
          ]
        }
      ]
    },
    {
      "cell_type": "code",
      "source": [
        "y"
      ],
      "metadata": {
        "colab": {
          "base_uri": "https://localhost:8080/"
        },
        "id": "cW94Md-PtokN",
        "outputId": "9861408c-9b9c-4bb1-e196-9e64b6ab4865"
      },
      "execution_count": 73,
      "outputs": [
        {
          "output_type": "execute_result",
          "data": {
            "text/plain": [
              "array([7, 1, 2, 4, 1, 8, 1, 2, 7, 7, 0, 0, 8, 4, 7, 1, 8, 5, 8, 0, 5, 6,\n",
              "       1, 2, 1, 0, 4, 3, 6, 4, 0, 2, 2, 4, 5, 1, 1, 3, 6, 8, 8, 4, 5, 8,\n",
              "       0, 7, 3, 1, 0, 2, 4, 7, 7, 2, 0, 4, 6, 5, 8, 2, 1, 6, 8, 1, 8, 3,\n",
              "       0, 4, 1, 4, 1, 0, 3, 2, 3, 7, 6, 2, 8, 0, 4, 5, 5, 5, 6, 8, 8, 8,\n",
              "       6, 5, 4, 3, 3, 2, 1, 0, 7, 1, 7, 6, 1, 2, 2, 6, 8, 0, 6, 5, 4, 5,\n",
              "       5, 5, 0, 4, 0, 7, 7, 1, 6, 8, 0, 8, 5, 2, 6, 4, 6, 5, 6, 1, 6, 2,\n",
              "       2, 2, 5, 0, 3, 1, 5, 2, 8, 6, 2, 2, 8, 1, 4, 7, 1, 1, 0, 7, 4, 7,\n",
              "       8, 6, 3, 4, 1, 5, 2, 5, 3, 6, 1, 7, 2, 3, 6, 3, 1, 1, 3, 0, 2, 2,\n",
              "       3, 0, 1, 5, 2, 6, 2, 6, 5, 0, 7, 8, 8, 3, 0, 8, 6, 2, 6, 3, 2, 3,\n",
              "       7, 4, 7, 7, 7, 7, 4, 3, 1, 3, 6, 6, 7, 8, 1, 7, 7, 7, 5, 4, 3, 7,\n",
              "       8, 0, 6, 7, 7, 0, 3, 0, 5, 8, 2, 6, 2, 2, 0, 7, 6, 3, 5, 4, 8, 6,\n",
              "       6, 6, 0, 4, 0, 4, 2, 8, 4, 8, 5, 0, 8, 7, 8, 5, 4, 5, 6, 6, 7, 1,\n",
              "       2, 5, 4, 5, 8, 1, 7, 0, 8, 1, 2, 6, 7, 1, 7, 4, 7, 1, 3, 1, 5, 0,\n",
              "       0, 4, 1, 6, 3, 5, 8, 3, 6, 8, 7, 8, 6, 5, 0, 2, 6, 5, 3, 7, 1, 8,\n",
              "       7, 2, 7, 2, 5, 7, 3, 3, 5, 3, 4, 4, 2, 5, 7, 7, 2, 5, 1, 5, 6, 3,\n",
              "       0, 7, 2, 1, 5, 6, 2, 7, 8, 1, 7, 8, 6, 6, 3, 6, 4, 6, 2, 5, 2, 2,\n",
              "       0, 2, 3, 8, 4, 8, 6, 5, 3, 5, 5, 8, 0, 3, 2, 0, 3, 5, 8, 4, 4, 5,\n",
              "       2, 4, 0, 4, 0, 7, 5, 4, 3, 5, 2, 5, 6, 6, 0, 3, 8, 1, 7, 3, 0, 2,\n",
              "       1, 2, 8, 1, 4, 1, 1, 3, 0, 1, 1, 3, 3, 8, 0, 6, 1, 2, 0, 7, 7, 2,\n",
              "       0, 8, 1, 1, 4, 0, 0, 4, 6, 6, 1, 0, 4, 2, 4, 6, 1, 2, 1, 6, 3, 2,\n",
              "       4, 1, 1, 8, 2, 4, 4, 4, 4, 1, 2, 0, 1, 7, 3, 2, 3, 7, 8, 7, 7, 5,\n",
              "       6, 5, 2, 8, 2, 6, 2, 6, 5, 7, 2, 0, 6, 2, 0, 5, 7, 0, 6, 0, 7, 0,\n",
              "       7, 3, 6, 7, 1, 0, 8, 7, 0, 5, 3, 5, 8, 5, 0, 0, 3, 1, 0, 7, 6, 7,\n",
              "       3, 8, 7, 5, 3, 7, 0, 1, 3, 3, 5, 0, 4, 3, 7, 5, 8, 6, 0, 1, 7, 0,\n",
              "       3, 3, 1, 8, 0, 6, 6, 5, 3, 5, 3, 7, 8, 4, 1, 3, 6, 6, 0, 4, 2, 8,\n",
              "       8, 0, 1, 5, 4, 1, 2, 5, 2, 8, 5, 7, 4, 6, 5, 0, 6, 3, 6, 0, 8, 6,\n",
              "       4, 2, 7, 2, 2, 8, 8, 4, 1, 0, 1, 1, 8, 6, 6, 4, 8, 3, 2, 5, 7, 6,\n",
              "       8, 0, 4, 4, 8, 8, 0, 3, 0, 4, 1, 1, 4, 5, 7, 1, 5, 4, 2, 5, 1, 6,\n",
              "       4, 1, 0, 0, 8, 1, 5, 2, 8, 5, 2, 6, 7, 0, 4, 2, 3, 3, 5, 0, 3, 4,\n",
              "       8, 2, 1, 1, 6, 0, 4, 5, 6, 3, 2, 1, 0, 3, 3, 0, 2, 5, 3, 8, 7, 5,\n",
              "       6, 2, 6, 5, 3, 3, 7, 5, 3, 5, 8, 2, 2, 1, 1, 2, 2, 6, 8, 2, 6, 6,\n",
              "       7, 4, 5, 2, 5, 8, 3, 1, 0, 2, 4, 3, 3, 8, 3, 1, 7, 3, 2, 4, 7, 1,\n",
              "       1, 4, 4, 0, 6, 4, 8, 0, 7, 1, 3, 4, 2, 8, 7, 4, 1, 0, 0, 7, 1, 3,\n",
              "       2, 0, 0, 7, 4, 5, 5, 6, 8, 0, 1, 3, 6, 0, 3, 6, 1, 0, 0, 8, 2, 2,\n",
              "       4, 3, 7, 6, 5, 2, 2, 6, 0, 8, 6, 6, 7, 2, 0, 8, 2, 8, 8, 8, 5, 8,\n",
              "       1, 8, 8, 4, 8, 4, 7, 0, 7, 1, 3, 1, 5, 3, 1, 7, 6, 1, 6, 3, 4, 3,\n",
              "       3, 6, 7, 4, 5, 7, 5, 5, 2, 4, 2, 5, 7, 0, 4, 3, 4, 5, 4, 2, 7, 7,\n",
              "       1, 0, 5, 4, 4, 2, 7, 3, 4, 1, 8, 4, 3, 6, 2, 0, 6, 7, 8, 7, 0, 6,\n",
              "       7, 4, 1, 5, 3, 4, 8, 6, 3, 6, 0, 4, 8, 8, 6, 7, 6, 2, 6, 3, 8, 3,\n",
              "       8, 5, 1, 3, 8, 0, 4, 7, 8, 5, 1, 0, 5, 1, 4, 7, 1, 1, 5, 7, 4, 2,\n",
              "       1, 4, 7, 5, 5, 5, 2, 3, 5, 4, 4, 8, 8, 6, 8, 7, 4, 5, 7, 3, 1, 3,\n",
              "       8, 2, 2, 7, 8, 8, 5, 4, 0, 8, 4, 5, 3, 8, 6, 0, 4, 7, 3, 7, 6, 8,\n",
              "       0, 6, 2, 3, 5, 6, 6, 7, 5, 4, 4, 3, 8, 0, 8, 5, 7, 2, 1, 3, 0, 5,\n",
              "       7, 1, 5, 6, 2, 4, 7, 0, 3, 8, 1, 0, 0, 2, 1, 3, 1, 1, 7, 0, 2, 5,\n",
              "       8, 5, 5, 4, 3, 4, 2, 1, 0, 0, 2, 3, 6, 4, 4, 5, 1, 3, 7, 3, 3, 6,\n",
              "       8, 4, 6, 0, 3, 4, 6, 4, 3, 4])"
            ]
          },
          "metadata": {},
          "execution_count": 73
        }
      ]
    },
    {
      "cell_type": "code",
      "source": [
        "print(\"synthetic\", \"count clusters:\", k_synthetic, \n",
        "      \"adjusted_rand_score:\", adjusted_rand_score(distrib_synthetic, y))"
      ],
      "metadata": {
        "colab": {
          "base_uri": "https://localhost:8080/"
        },
        "id": "RqECTrFsrvqi",
        "outputId": "10f56a67-028c-44cc-ee58-0caac06977bc"
      },
      "execution_count": 71,
      "outputs": [
        {
          "output_type": "stream",
          "name": "stdout",
          "text": [
            "synthetic count clusters: 9 adjusted_rand_score: 1.0\n"
          ]
        }
      ]
    },
    {
      "cell_type": "code",
      "source": [
        "import contextlib\n",
        "with contextlib.redirect_stdout(None):\n",
        "  k_ecoli_density, distrib_ecoli_density = DPADN(ecoli)"
      ],
      "metadata": {
        "id": "Q-ifxvWm3BFY"
      },
      "execution_count": null,
      "outputs": []
    },
    {
      "cell_type": "code",
      "source": [
        "import contextlib\n",
        "with contextlib.redirect_stdout(None):\n",
        "  k_glass_density, distrib_glass_density = DPADN(glass)"
      ],
      "metadata": {
        "id": "gLEV1RMr3FRQ"
      },
      "execution_count": null,
      "outputs": []
    },
    {
      "cell_type": "code",
      "source": [
        "import contextlib\n",
        "with contextlib.redirect_stdout(None):\n",
        "    k_iris_density, distrib_iris_density = DPADN(iris)"
      ],
      "metadata": {
        "id": "oj8lo_CU238K"
      },
      "execution_count": null,
      "outputs": []
    },
    {
      "cell_type": "code",
      "source": [
        "import contextlib\n",
        "with contextlib.redirect_stdout(None):\n",
        "    k_segmentation_density, distrib_segmentation_density = DPADN(segmentation)\n",
        "    k_wine_density, distrib_wine_density = DPADN(wine)\n",
        "    k_zoo_density, distrib_zoo_density = DPADN(zoo)"
      ],
      "metadata": {
        "id": "MdCiaBUT4TBo"
      },
      "execution_count": null,
      "outputs": []
    },
    {
      "cell_type": "code",
      "source": [
        "from sklearn.metrics.cluster import adjusted_rand_score\n",
        "\n",
        "# print(new_iris_df['Class'].value_counts())\n",
        "# ir_names = {\"Class\":{\"Iris-setosa\":0, \"Iris-versicolor\":1, \"Iris-virginica\":2}}\n",
        "# new_df = new_iris_df.replace(ir_names)\n",
        "# # print(new_df['Class'].value_counts())\n",
        "# iris_right_cl = np.array(new_df['Class'].to_numpy())\n",
        "# print(len(right_cl))\n",
        "# res1 = kmeans.labels\n",
        "# res1 = distrib_iris_density\n",
        "# adjusted_rand_score(res1, right_cl)\n",
        "for name, k, distrib, right in zip(\n",
        "    [\"ecoli\", \"glass\", \"iris\", \"segmentation\", \"wine\", \"zoo\"],\n",
        "    [k_ecoli_density, k_glass_density, k_iris_density, \n",
        "     k_segmentation_density,k_wine_density,k_zoo_density], \n",
        "    [distrib_ecoli_density, distrib_glass_density, \n",
        "     distrib_iris_density,distrib_segmentation_density,distrib_wine_density,\n",
        "     distrib_zoo_density],\n",
        "     [ecoli_y, glass_y, iris_y, segmentation_y, wine_y, zoo_y]):\n",
        "  print(name, \"count clusters:\", k, \n",
        "        \"adjusted_rand_score:\", adjusted_rand_score(distrib, right))"
      ],
      "metadata": {
        "colab": {
          "base_uri": "https://localhost:8080/",
          "height": 250
        },
        "id": "18NXDfQw3IRQ",
        "outputId": "13eda3f8-e64c-4068-e117-58c5fe85b8ac"
      },
      "execution_count": null,
      "outputs": [
        {
          "output_type": "error",
          "ename": "NameError",
          "evalue": "ignored",
          "traceback": [
            "\u001b[0;31m---------------------------------------------------------------------------\u001b[0m",
            "\u001b[0;31mNameError\u001b[0m                                 Traceback (most recent call last)",
            "\u001b[0;32m<ipython-input-63-5eba297e5264>\u001b[0m in \u001b[0;36m<module>\u001b[0;34m()\u001b[0m\n\u001b[1;32m     12\u001b[0m for name, k, distrib, right in zip(\n\u001b[1;32m     13\u001b[0m     \u001b[0;34m[\u001b[0m\u001b[0;34m\"ecoli\"\u001b[0m\u001b[0;34m,\u001b[0m \u001b[0;34m\"glass\"\u001b[0m\u001b[0;34m,\u001b[0m \u001b[0;34m\"iris\"\u001b[0m\u001b[0;34m,\u001b[0m \u001b[0;34m\"segmentation\"\u001b[0m\u001b[0;34m,\u001b[0m \u001b[0;34m\"wine\"\u001b[0m\u001b[0;34m,\u001b[0m \u001b[0;34m\"zoo\"\u001b[0m\u001b[0;34m]\u001b[0m\u001b[0;34m,\u001b[0m\u001b[0;34m\u001b[0m\u001b[0;34m\u001b[0m\u001b[0m\n\u001b[0;32m---> 14\u001b[0;31m     [k_ecoli_density, k_glass_density, k_iris_density, \n\u001b[0m\u001b[1;32m     15\u001b[0m      k_segmentation_density,k_wine_density,k_zoo_density], \n\u001b[1;32m     16\u001b[0m     [distrib_ecoli_density, distrib_glass_density, \n",
            "\u001b[0;31mNameError\u001b[0m: name 'k_ecoli_density' is not defined"
          ]
        }
      ]
    },
    {
      "cell_type": "code",
      "source": [
        "# import contextlib\n",
        "# import pandas as pd\n",
        "# from sklearn.metrics.cluster import adjusted_rand_score\n",
        "# # TO DO\n",
        "# with contextlib.redirect_stdout(None):\n",
        "#   k_synthetic_2, distrib_synthetic_2 = DPADN(pd.DataFrame(datasets[0][0]))\n",
        "#   k_synthetic_5, distrib_synthetic_5 = DPADN(pd.DataFrame(datasets[1][0]))\n",
        "#   k_synthetic_7, distrib_synthetic_7 = DPADN(pd.DataFrame(datasets[2][0]))\n",
        "\n",
        "# print(\"synthetic\", \"count clusters:\", k_synthetic_2, \n",
        "#       \"adjusted_rand_score:\", adjusted_rand_score(distrib_synthetic_2, datasets[0][1]))\n",
        "# print(\"synthetic\", \"count clusters:\", k_synthetic_5, \n",
        "#       \"adjusted_rand_score:\", adjusted_rand_score(distrib_synthetic_5, datasets[1][1]))\n",
        "# print(\"synthetic\", \"count clusters:\", k_synthetic_7, \n",
        "#       \"adjusted_rand_score:\", adjusted_rand_score(distrib_synthetic_7, datasets[2][1]))"
      ],
      "metadata": {
        "id": "I5RGfd_fRGmN"
      },
      "execution_count": null,
      "outputs": []
    },
    {
      "cell_type": "markdown",
      "source": [
        "## R. Vangara, K. Rasmussen, G. Chennupati and B. Alexandrov, “Determination of the number of clusters by symmetric non-negative matrix factorization”, 2021"
      ],
      "metadata": {
        "id": "5636wUnP59U8"
      }
    },
    {
      "cell_type": "markdown",
      "source": [
        "Установка библиотеки для алгоритма SymmNMF."
      ],
      "metadata": {
        "id": "OCbVWAR2BKG1"
      }
    },
    {
      "cell_type": "code",
      "source": [
        "import numpy as np\n",
        "import networkx as nx\n",
        "import karateclub.community_detection.overlapping as karate\n",
        "\n",
        "def calc_dist(c1, c2):\n",
        "  d_base = np.linalg.norm(c1 - c2, 2)\n",
        "  return d_base\n",
        "\n",
        "def buildSimilarityMatrix(X, sigma):\n",
        "  distance_matrix = []\n",
        "  # i = 0\n",
        "  for i in range(len(X)):\n",
        "    now_row = []\n",
        "    for j in range(len(X)):\n",
        "      f1 = X.iloc[i]\n",
        "      f2 = X.iloc[j]\n",
        "      dist = calc_dist(f1, f2)\n",
        "      now_row.append(dist)\n",
        "    # for j in range(len(row)):\n",
        "      # now_row.append(calc_dist(row[i], row[j]))\n",
        "    distance_matrix.append(now_row)\n",
        "    # i += 1\n",
        "  local_scaling = []\n",
        "  for i in range(len(distance_matrix)):\n",
        "    min_value = np.sort(distance_matrix[0])[1]\n",
        "    local_scaling.append(min_value)\n",
        "  \n",
        "  S = [] # weighted adjacency matrix\n",
        "  for i in range(len(X)):\n",
        "    now = []\n",
        "    for j in range(len(X)):\n",
        "      lit_s = np.exp(-distance_matrix[i][j] / (local_scaling[i] * local_scaling[j]) )\n",
        "      now.append(lit_s)\n",
        "    S.append(now)\n",
        "  # print(np.matrix(S).shape)\n",
        "  # print(\"S:\", S)\n",
        "  S = np.matrix(S)\n",
        "  D = [] # degree matrix\n",
        "  for i in range(len(X)):\n",
        "    # for j in range(len(X)):\n",
        "    D.append(np.sum(distance_matrix[i]))\n",
        "      # print(type(np.sum(distance_matrix[i])))\n",
        "  D = np.array(D)\n",
        "\n",
        "  A = np.diag(D** (-1/2)) * np.matrix(S) * np.diag(D ** (-1/2))\n",
        "\n",
        "\n",
        "  graph = nx.from_numpy_matrix(A)\n",
        "\n",
        "  return graph\n",
        "\n",
        "def getConnectivityMatrix(ID):\n",
        "  connectivity_matrix = []\n",
        "  for i in range(len(ID)):\n",
        "    row = []\n",
        "    for j in range(len(ID)):\n",
        "\n",
        "      if ID[i] == ID[j]:\n",
        "        row.append(1)\n",
        "      else:\n",
        "        row.append(0)\n",
        "    arr = np.array(row)\n",
        "    # print(\"ID i=\", ID[i], \"i=\", i,\"count:\", len(arr[arr>0]), \"len:\",len(arr))\n",
        "    connectivity_matrix.append(row)\n",
        "  return np.matrix(connectivity_matrix)\n",
        "\n",
        "def getConsensusMatrix(data, r):\n",
        "  print(\"before:\",data)\n",
        "  # data = np.matrix(data)\n",
        "  # M = np.sum(data, axis=0) / r\n",
        "  M = np.mean(data, axis=0)\n",
        "  print(\"M=:\",M, \"r=\",r)\n",
        "  print(\"after:\", M.shape)\n",
        "  return M\n",
        "\n",
        "def buildCDFs(Mk, m, c=0.5):\n",
        "  cdf = []\n",
        "  print(Mk)\n",
        "  print(type(Mk))\n",
        "  print(Mk[0])\n",
        "  print(type(Mk[0]))\n",
        "  print(\"unique:\", np.unique(Mk))\n",
        "  for mat in Mk:\n",
        "    cur_cdf = 0\n",
        "    for i in range(len(mat)):\n",
        "      for j in range(i + 1, len(Mk)):\n",
        "        if mat[i][j] <= c:\n",
        "          cur_cdf += 1\n",
        "    # for x in row:\n",
        "      # x = np.array(x)\n",
        "      # cur_cdf = len(x[x < c]) / (m * (m + 1) / 2)\n",
        "    cur_cdf /= (m * (m - 1) / 2)\n",
        "    print(\"cur_cdf=\",cur_cdf, \"c:\", c)\n",
        "      # \n",
        "      # if x <= c:\n",
        "        # cur_cdf = np.sum(x) / (m * (m + 1) / 2)\n",
        "    cdf.append(cur_cdf)\n",
        "  return np.array(cdf)\n",
        "\n",
        "def SymmNMFk(X, k_l, k_u, r,cr=10):\n",
        "  data_mk = []\n",
        "  data_wq = []\n",
        "  all_id = []\n",
        "  for k in range(k_l, k_u + 1):\n",
        "    data_id = []\n",
        "    cur_wq = []\n",
        "    i_d = []\n",
        "    for q in range(1, r + 1):\n",
        "      sigma = np.random.sample() # случайное число\n",
        "      # sigma = np.random.sample(X.shape)\n",
        "      # sigma = np.random.randint(-100, 100, X.shape)\n",
        "      X_q = X + sigma # Perturb\n",
        "      A_q = buildSimilarityMatrix(X_q, sigma)\n",
        "\n",
        "      # W_q = SymmNMF(A_q, k)\n",
        "      sym = karate.SymmNMF(k,seed=2*q + k * 2 + q + k)\n",
        "      sym.fit(A_q)\n",
        "      W_q = sym.get_embedding()\n",
        "      cur_wq.append(W_q)\n",
        "      ID_q = sym.get_memberships()\n",
        "      \n",
        "      i_d.append(ID_q)\n",
        "      B_q = getConnectivityMatrix(ID_q)\n",
        "\n",
        "      data_id.append(B_q)\n",
        "\n",
        "    mk = getConsensusMatrix(data_id, r)\n",
        "    print(\"Mk shape:\", mk.shape)\n",
        "    data_mk.append(mk)\n",
        "    all_id.append(i_d)\n",
        "    if k == cr:\n",
        "      break\n",
        "  print(\"ConsensusMatrix:\", data_mk)\n",
        "  CDFs_c1 = buildCDFs(data_mk, X.shape[0], 0.3)\n",
        "  CDFs_c2 = buildCDFs(data_mk, X.shape[0], 0.7)\n",
        "\n",
        "  PAC = CDFs_c2 - CDFs_c1\n",
        "  print(\"PAC:\", PAC)\n",
        "  k_opt = np.argmin(PAC)\n",
        "  res = all_id[k_opt][0]\n",
        "  print(all_id[k_opt])\n",
        "\n",
        "  return k_opt + k_l, np.array([x for x in res.values()])"
      ],
      "metadata": {
        "id": "S7BTwWWyMMvR"
      },
      "execution_count": 76,
      "outputs": []
    },
    {
      "cell_type": "code",
      "source": [
        "from time import time\n",
        "start = time()\n",
        "with contextlib.redirect_stdout(None):\n",
        "  k_synthetic, distrib_synthetic = SymmNMFk(pd.DataFrame(x), 8,10,5)\n",
        "print(\"total time:\", time() - start)\n",
        "print(\"synthetic\", \"count clusters:\", k_synthetic, \n",
        "      \"adjusted_rand_score:\", adjusted_rand_score(distrib_synthetic, y))"
      ],
      "metadata": {
        "id": "5L3xMvdquDSK"
      },
      "execution_count": 5,
      "outputs": []
    },
    {
      "cell_type": "code",
      "source": [
        "import contextlib\n",
        "with contextlib.redirect_stdout(None):\n",
        "    k_ecoli, dist_ecoli = SymmNMFk(ecoli, 7,9, 5)"
      ],
      "metadata": {
        "id": "PgqblT5d5Ljt"
      },
      "execution_count": 90,
      "outputs": []
    },
    {
      "cell_type": "code",
      "source": [
        "import contextlib\n",
        "with contextlib.redirect_stdout(None):\n",
        "    k_iris, dist_iris = SymmNMFk(iris, 2,3, 5)"
      ],
      "metadata": {
        "id": "xBG1PYwRg0K3"
      },
      "execution_count": 91,
      "outputs": []
    },
    {
      "cell_type": "code",
      "source": [
        "from sklearn.metrics.cluster import adjusted_rand_score\n",
        "\n",
        "print(\"ecoli\", \"count clusters:\", k_ecoli, \n",
        "        \"adjusted_rand_score:\", adjusted_rand_score(dist_ecoli, ecoli_y))\n",
        "\n",
        "print(\"iris\", \"count clusters:\",k_iris, \n",
        "      \"adjusted_rand_score:\", adjusted_rand_score(dist_iris, iris_y))"
      ],
      "metadata": {
        "id": "84oDaOqI979V"
      },
      "execution_count": 6,
      "outputs": []
    },
    {
      "cell_type": "code",
      "source": [
        "import contextlib\n",
        "with contextlib.redirect_stdout(None):\n",
        "    k_segmentation, dist_segmentation = SymmNMFk(segmentation, 2,3, 5)\n",
        "    k_wine, dist_wine = SymmNMFk(wine, 2,3, 5)\n",
        "    k_zoo, dist_zoo = SymmNMFk(zoo, 2,3, 5)"
      ],
      "metadata": {
        "id": "AxE67iMn5lg4"
      },
      "execution_count": null,
      "outputs": []
    },
    {
      "cell_type": "code",
      "source": [
        "for i in range(len(distrib_synthetic_2)):\n",
        "\n",
        "  test = np.array([x for x in distrib_synthetic_2[i].values()])\n",
        "\n",
        "  print(\"synthetic\", \"count clusters:\", k_synthetic_2, \n",
        "        \"adjusted_rand_score:\", adjusted_rand_score(distrib_synthetic_2, datasets[0][1]))"
      ],
      "metadata": {
        "id": "d22aiwevC6Kg"
      },
      "execution_count": 7,
      "outputs": []
    },
    {
      "cell_type": "code",
      "source": [
        "import contextlib\n",
        "import pandas as pd\n",
        "from sklearn.metrics.cluster import adjusted_rand_score\n",
        "\n",
        "with contextlib.redirect_stdout(None):\n",
        "  k_synthetic_2, distrib_synthetic_2 = SymmNMFk(pd.DataFrame(datasets[0][0]), 2, 3, 5,3)\n",
        "  k_synthetic_5, distrib_synthetic_5 = SymmNMFk(pd.DataFrame(datasets[1][0]),4,6,5,6)\n",
        "  k_synthetic_7, distrib_synthetic_7 = SymmNMFk(pd.DataFrame(datasets[2][0]),5,8,5,8)\n",
        "\n",
        "print(\"synthetic\", \"count clusters:\", k_synthetic_2, \n",
        "      \"adjusted_rand_score:\", adjusted_rand_score(distrib_synthetic_2, datasets[0][1]))\n",
        "print(\"synthetic\", \"count clusters:\", k_synthetic_5, \n",
        "      \"adjusted_rand_score:\", adjusted_rand_score(distrib_synthetic_5, datasets[1][1]))\n",
        "print(\"synthetic\", \"count clusters:\", k_synthetic_7, \n",
        "      \"adjusted_rand_score:\", adjusted_rand_score(distrib_synthetic_7, datasets[2][1]))"
      ],
      "metadata": {
        "id": "FwujkD8tRYwz"
      },
      "execution_count": 8,
      "outputs": []
    },
    {
      "cell_type": "code",
      "source": [
        "# from sklearn.metrics.cluster import adjusted_rand_score\n",
        "\n",
        "# for name, k, distrib, right in zip(\n",
        "#     [\"ecoli\", \"glass\", \"iris\", \"segmentation\", \"wine\", \"zoo\"],\n",
        "#     [k_ecoli_density, k_glass_density, k_iris_density, \n",
        "#      k_segmentation_density,k_wine_density,k_zoo_density], \n",
        "#     [distrib_ecoli_density, distrib_glass_density, \n",
        "#      distrib_iris_density,distrib_segmentation_density,distrib_wine_density,\n",
        "#      distrib_zoo_density],\n",
        "#      [ecoli_y, glass_y, iris_y, segmentation_y, wine_y, zoo_y]):\n",
        "#   print(name, \"count clusters:\", k, \n",
        "#         \"adjusted_rand_score:\", adjusted_rand_score(distrib, right))"
      ],
      "metadata": {
        "id": "kKxvhSPP98zu"
      },
      "execution_count": null,
      "outputs": []
    }
  ]
}